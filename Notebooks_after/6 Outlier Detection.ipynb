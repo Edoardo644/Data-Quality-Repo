{
 "cells": [
  {
   "cell_type": "markdown",
   "metadata": {
    "id": "jbvWywssFX0s"
   },
   "source": [
    "# **6. OUTLIER DETECTION**"
   ]
  },
  {
   "cell_type": "markdown",
   "metadata": {
    "id": "5WCCvHcXlc4m"
   },
   "source": [
    "***Outlier Detection*** is the process of detecting outliers (*i.e.,* data points that differs significantly from the other observations) from a given set of data.\n",
    "\n",
    "Outlier Detection Methods:\n",
    "- STATISTICS-BASED\n",
    "    - Hypothesis Testing\n",
    "        - Grubbs test\n",
    "    - Fitting distributions\n",
    "        - Z-Score\n",
    "        - MAD (Median absolute deviation)\n",
    "        - IQR (Interquartile range)\n",
    "        - Box Plots, Scatter Plots, Histograms\n",
    "        - KDE (Kernel Density Estimation)\n",
    "- DISTANCE-BASED\n",
    "    - LOF (Local Outlier Factor)\n",
    "- MODEL-BASED\n",
    "    - k-Nearest Neighbors\n",
    "    - Clustering (DBSCAN)\n"
   ]
  },
  {
   "cell_type": "markdown",
   "metadata": {
    "id": "_YZokFl6lfKQ"
   },
   "source": [
    "Import libraries:"
   ]
  },
  {
   "cell_type": "code",
   "execution_count": 11,
   "metadata": {
    "colab": {
     "base_uri": "https://localhost:8080/"
    },
    "executionInfo": {
     "elapsed": 1325,
     "status": "ok",
     "timestamp": 1728397062833,
     "user": {
      "displayName": "Camilla Sancricca",
      "userId": "00021980050560537453"
     },
     "user_tz": -120
    },
    "id": "Ii7LN5GpL10a",
    "outputId": "0ece6b64-642a-4202-80c4-d3ff78c22ae6"
   },
   "outputs": [
    {
     "name": "stderr",
     "output_type": "stream",
     "text": [
      "fatal: destination path 'DATADIQ' already exists and is not an empty directory.\n"
     ]
    }
   ],
   "source": [
    "!git clone https://github.com/camillasancricca/DATADIQ.git"
   ]
  },
  {
   "cell_type": "code",
   "execution_count": 12,
   "metadata": {
    "colab": {
     "base_uri": "https://localhost:8080/"
    },
    "executionInfo": {
     "elapsed": 12216,
     "status": "ok",
     "timestamp": 1728397075046,
     "user": {
      "displayName": "Camilla Sancricca",
      "userId": "00021980050560537453"
     },
     "user_tz": -120
    },
    "id": "CB3f6imFMZb2",
    "outputId": "fa8c193d-934b-4e06-b439-22fd9de5f47b"
   },
   "outputs": [
    {
     "name": "stdout",
     "output_type": "stream",
     "text": [
      "Requirement already satisfied: outlier-utils in c:\\users\\user\\desktop\\onedrive - universita degli studi roma tre\\desktop\\programming\\data quality\\data-quality-repo\\.venv\\lib\\site-packages (0.0.5)\n",
      "Requirement already satisfied: numpy in c:\\users\\user\\desktop\\onedrive - universita degli studi roma tre\\desktop\\programming\\data quality\\data-quality-repo\\.venv\\lib\\site-packages (from outlier-utils) (2.0.2)\n",
      "Requirement already satisfied: scipy in c:\\users\\user\\desktop\\onedrive - universita degli studi roma tre\\desktop\\programming\\data quality\\data-quality-repo\\.venv\\lib\\site-packages (from outlier-utils) (1.13.1)\n"
     ]
    }
   ],
   "source": [
    "!pip install outlier-utils"
   ]
  },
  {
   "cell_type": "code",
   "execution_count": 13,
   "metadata": {
    "id": "WJJp6gFDFp3d"
   },
   "outputs": [],
   "source": [
    "import pandas as pd\n",
    "import numpy as np\n",
    "import seaborn as sns\n",
    "from numpy import quantile\n",
    "\n",
    "import sklearn\n",
    "from sklearn.datasets import fetch_california_housing, load_iris\n",
    "from sklearn.neighbors import NearestNeighbors\n",
    "from sklearn.datasets import load_iris\n",
    "from sklearn.neighbors import KernelDensity\n",
    "from sklearn.neighbors import LocalOutlierFactor\n",
    "from sklearn.cluster import DBSCAN\n",
    "from sklearn.ensemble import IsolationForest\n",
    "\n",
    "#from outliers import smirnov_grubbs as grubbs\n",
    "import matplotlib.pyplot as plt\n",
    "\n",
    "from DATADIQ import scripts_for_E5 as s"
   ]
  },
  {
   "cell_type": "markdown",
   "metadata": {
    "id": "W3uXfbWMIfyE"
   },
   "source": [
    "**1. STATISTICS-BASED**\n",
    "\n",
    "Hypothesis Testing **Grubbs Test**\n",
    "\n",
    "- Steps:\n",
    "      1. Define:\n",
    "            1.1 Null (no outliers) and Alternative (1 outlier) hypothesis\n",
    "            1.2 The appropriate test and the relevant test statistic T\n",
    "            1.3 Significance level alpha (below this threshold reject the null hyp.)\n",
    "            1.4 Critical region (values) in which null hyp. is rejected\n",
    "      2. Compute from the current data the observed value of t\n",
    "      3. Reject the null hyp. if t is under the critical region"
   ]
  },
  {
   "cell_type": "code",
   "execution_count": 14,
   "metadata": {
    "colab": {
     "base_uri": "https://localhost:8080/"
    },
    "executionInfo": {
     "elapsed": 341,
     "status": "ok",
     "timestamp": 1728397096075,
     "user": {
      "displayName": "Camilla Sancricca",
      "userId": "00021980050560537453"
     },
     "user_tz": -120
    },
    "id": "1ACW3ofLKaGE",
    "outputId": "5dfdc346-b065-41b2-fb7d-9ce803d5a90d"
   },
   "outputs": [],
   "source": [
    "#Create data\n",
    "data = np.array([20, 21, 26, 24, 29,\n",
    "\t\t\t\t22, 21, 50, 28, 27, 5])\n",
    "\n",
    "#Perform two-side Grubbs' test\n",
    "#grubbs.test(data, alpha=.05)"
   ]
  },
  {
   "cell_type": "code",
   "execution_count": 15,
   "metadata": {
    "colab": {
     "base_uri": "https://localhost:8080/"
    },
    "executionInfo": {
     "elapsed": 271,
     "status": "ok",
     "timestamp": 1728397097310,
     "user": {
      "displayName": "Camilla Sancricca",
      "userId": "00021980050560537453"
     },
     "user_tz": -120
    },
    "id": "58PxlX1eKaA-",
    "outputId": "b53ed49e-cf48-40d8-a79a-f48bc6f7610b"
   },
   "outputs": [
    {
     "name": "stdout",
     "output_type": "stream",
     "text": [
      "Data after performing min one-side grubb's test: \n"
     ]
    }
   ],
   "source": [
    "print(\"Data after performing min one-side grubb's test: \")\n",
    "\n",
    "#Perform min Grubbs' test\n",
    "##grubbs.min_test(data, alpha=.2)"
   ]
  },
  {
   "cell_type": "code",
   "execution_count": 16,
   "metadata": {
    "colab": {
     "base_uri": "https://localhost:8080/"
    },
    "executionInfo": {
     "elapsed": 266,
     "status": "ok",
     "timestamp": 1728397098694,
     "user": {
      "displayName": "Camilla Sancricca",
      "userId": "00021980050560537453"
     },
     "user_tz": -120
    },
    "id": "R40mJ35SKfHL",
    "outputId": "e903a9a5-ca28-4d4c-dd19-985e4fa77c99"
   },
   "outputs": [
    {
     "name": "stdout",
     "output_type": "stream",
     "text": [
      "Data after performing max one-side grubb's test: \n"
     ]
    }
   ],
   "source": [
    "print(\"Data after performing max one-side grubb's test: \")\n",
    "\n",
    "#Perform max Grubbs' test\n",
    "#grubbs.max_test(data, alpha=.05)"
   ]
  },
  {
   "cell_type": "code",
   "execution_count": 17,
   "metadata": {
    "colab": {
     "base_uri": "https://localhost:8080/"
    },
    "executionInfo": {
     "elapsed": 281,
     "status": "ok",
     "timestamp": 1728397101173,
     "user": {
      "displayName": "Camilla Sancricca",
      "userId": "00021980050560537453"
     },
     "user_tz": -120
    },
    "id": "JrWFwPTZK9qy",
    "outputId": "3e1e8572-8919-4984-ff4f-462ae988744b"
   },
   "outputs": [],
   "source": [
    "#grubbs.max_test_indices(data, alpha=.05)"
   ]
  },
  {
   "cell_type": "code",
   "execution_count": 18,
   "metadata": {
    "colab": {
     "base_uri": "https://localhost:8080/"
    },
    "executionInfo": {
     "elapsed": 282,
     "status": "ok",
     "timestamp": 1728397102274,
     "user": {
      "displayName": "Camilla Sancricca",
      "userId": "00021980050560537453"
     },
     "user_tz": -120
    },
    "id": "gf71RIN8KfDY",
    "outputId": "1c50f938-ab75-4a57-86fa-3ce4e0cfd34f"
   },
   "outputs": [],
   "source": [
    "#grubbs.max_test_outliers(data, alpha=.05)"
   ]
  },
  {
   "cell_type": "markdown",
   "metadata": {
    "id": "SalKh-rjLEMx"
   },
   "source": [
    "Fitting distributions **Z-Score**\n",
    "\n",
    "- Data values that have a Z-Score > threshold (e.g. 2) are declared to be outliers.\n",
    "      Z-Score = abs(observation - mean)/std"
   ]
  },
  {
   "cell_type": "code",
   "execution_count": 19,
   "metadata": {
    "id": "4-B6HEMpKfAA"
   },
   "outputs": [],
   "source": [
    "def ZS(data, threshold):\n",
    "    mean = np.mean(data)\n",
    "    sd = np.std(data) # calculate standard deviation\n",
    "    outliers = [] # create empty list to store outliers\n",
    "    for i in data: # detect outliers\n",
    "        z = (i - mean) / sd  # calculate z-score\n",
    "        if abs(z) > threshold:  # identify outliers\n",
    "            outliers.append(i)  # add to the empty list\n",
    "\n",
    "    # print outliers\n",
    "    print(\"The detected outliers are: \", str(outliers))"
   ]
  },
  {
   "cell_type": "code",
   "execution_count": 20,
   "metadata": {
    "id": "LD2lnv5mLnB4"
   },
   "outputs": [],
   "source": [
    "DATA = np.array([20, 21, 26, 24, 29,\n",
    "\t\t\t\t22, 21, 50, 28, 27, 5])"
   ]
  },
  {
   "cell_type": "code",
   "execution_count": 21,
   "metadata": {
    "colab": {
     "base_uri": "https://localhost:8080/"
    },
    "executionInfo": {
     "elapsed": 3,
     "status": "ok",
     "timestamp": 1728397138661,
     "user": {
      "displayName": "Camilla Sancricca",
      "userId": "00021980050560537453"
     },
     "user_tz": -120
    },
    "id": "TKq3kCX5Lm_s",
    "outputId": "b6dedb1f-ee4f-4e8e-a216-c41b3ce10cee"
   },
   "outputs": [
    {
     "name": "stdout",
     "output_type": "stream",
     "text": [
      "The detected outliers are:  [np.int64(50)]\n"
     ]
    }
   ],
   "source": [
    "ZS(data,2)"
   ]
  },
  {
   "cell_type": "code",
   "execution_count": 22,
   "metadata": {
    "colab": {
     "base_uri": "https://localhost:8080/"
    },
    "executionInfo": {
     "elapsed": 251,
     "status": "ok",
     "timestamp": 1728397149900,
     "user": {
      "displayName": "Camilla Sancricca",
      "userId": "00021980050560537453"
     },
     "user_tz": -120
    },
    "id": "oaoM0XzvLm9f",
    "outputId": "3277a07c-85b0-409d-9acf-72b8185dcaa9"
   },
   "outputs": [
    {
     "name": "stdout",
     "output_type": "stream",
     "text": [
      "The detected outliers are:  [np.int64(50), np.int64(5)]\n"
     ]
    }
   ],
   "source": [
    "ZS(data,1)"
   ]
  },
  {
   "cell_type": "markdown",
   "metadata": {
    "id": "f1WUF9GJf9TI"
   },
   "source": [
    "Fitting distributions **Standard Deviation**\n",
    "\n",
    "- Data values that have a score > V1 or < V2 are declared to be outliers.\n",
    "      V1 = mean + threshold * std\n",
    "      V2 = mean - threshold * std\n"
   ]
  },
  {
   "cell_type": "code",
   "execution_count": 23,
   "metadata": {
    "id": "VBC0t3OLgAED"
   },
   "outputs": [],
   "source": [
    "def STD(data, th):\n",
    "    mean = data.mean()\n",
    "    std = data.std()\n",
    "    V1 = mean + th * std\n",
    "    V2 = mean - th * std\n",
    "    outliers = []\n",
    "    outliers_ind = []\n",
    "    for d in data:\n",
    "        if (d > V1) | (d < V2):\n",
    "            outliers.append(d)\n",
    "\n",
    "    return outliers"
   ]
  },
  {
   "cell_type": "code",
   "execution_count": 24,
   "metadata": {
    "colab": {
     "base_uri": "https://localhost:8080/"
    },
    "executionInfo": {
     "elapsed": 296,
     "status": "ok",
     "timestamp": 1728397402224,
     "user": {
      "displayName": "Camilla Sancricca",
      "userId": "00021980050560537453"
     },
     "user_tz": -120
    },
    "id": "pMPojIksgfKj",
    "outputId": "107ce60b-cf87-4390-8e9e-ea2e8e6cf5aa"
   },
   "outputs": [
    {
     "data": {
      "text/plain": [
       "[np.int64(50)]"
      ]
     },
     "execution_count": 24,
     "metadata": {},
     "output_type": "execute_result"
    }
   ],
   "source": [
    "STD(data, 2)"
   ]
  },
  {
   "cell_type": "code",
   "execution_count": 25,
   "metadata": {
    "colab": {
     "base_uri": "https://localhost:8080/"
    },
    "executionInfo": {
     "elapsed": 300,
     "status": "ok",
     "timestamp": 1728397451059,
     "user": {
      "displayName": "Camilla Sancricca",
      "userId": "00021980050560537453"
     },
     "user_tz": -120
    },
    "id": "2bRjsLEFg3HZ",
    "outputId": "afa76b42-0dc1-4f9e-d6c9-598918c42357"
   },
   "outputs": [
    {
     "data": {
      "text/plain": [
       "[np.int64(50), np.int64(5)]"
      ]
     },
     "execution_count": 25,
     "metadata": {},
     "output_type": "execute_result"
    }
   ],
   "source": [
    "STD(data, 1)"
   ]
  },
  {
   "cell_type": "markdown",
   "metadata": {
    "id": "Mx_wxl8WgC6A"
   },
   "source": [
    "Fitting distributions **Percentage**\n",
    "\n",
    "- Data values outside the fixed percentiles are declared to be outliers.\n"
   ]
  },
  {
   "cell_type": "code",
   "execution_count": 26,
   "metadata": {
    "id": "myaZ5HfUgNow"
   },
   "outputs": [],
   "source": [
    "def PERC(data):\n",
    "    V1 = np.percentile(data, 99)\n",
    "    V2 = np.percentile(data , 1)\n",
    "    outliers = []\n",
    "    for d in data:\n",
    "        if (d > V1) | (d < V2):\n",
    "            outliers.append(d)\n",
    "\n",
    "    return outliers"
   ]
  },
  {
   "cell_type": "code",
   "execution_count": 27,
   "metadata": {
    "colab": {
     "base_uri": "https://localhost:8080/"
    },
    "executionInfo": {
     "elapsed": 234,
     "status": "ok",
     "timestamp": 1728397738945,
     "user": {
      "displayName": "Camilla Sancricca",
      "userId": "00021980050560537453"
     },
     "user_tz": -120
    },
    "id": "QryTqxz6h27D",
    "outputId": "07644b3d-137d-44f9-ad8f-f281292d5a74"
   },
   "outputs": [
    {
     "data": {
      "text/plain": [
       "[np.int64(50), np.int64(5)]"
      ]
     },
     "execution_count": 27,
     "metadata": {},
     "output_type": "execute_result"
    }
   ],
   "source": [
    "PERC(data)"
   ]
  },
  {
   "cell_type": "markdown",
   "metadata": {
    "id": "xuVQfeg4NJ7C"
   },
   "source": [
    "Fitting distributions **Mean Absolute Deviation (MAD)**\n",
    "\n",
    "- Robust Zscore as a function of median and median. Defined as:\n",
    "      Z-Score = |x – median(x)| / mad(x)"
   ]
  },
  {
   "cell_type": "code",
   "execution_count": 28,
   "metadata": {
    "id": "c88He19Nifaw"
   },
   "outputs": [],
   "source": [
    "def ZSB(data, threshold):\n",
    "    # Robust Zscore as a function of median and median\n",
    "    # median absolute deviation (MAD) defined as\n",
    "    # z-score = |x – median(x)| / mad(x)\n",
    "    median = np.median(data)\n",
    "    median_absolute_deviation = np.median(np.abs(data - median))\n",
    "    modified_z_scores = (data - median) / median_absolute_deviation\n",
    "    outliers = data[np.abs(modified_z_scores) > threshold]\n",
    "    # print outliers\n",
    "    print(\"The detected outliers are: \", str(outliers))"
   ]
  },
  {
   "cell_type": "code",
   "execution_count": 29,
   "metadata": {
    "colab": {
     "base_uri": "https://localhost:8080/"
    },
    "executionInfo": {
     "elapsed": 272,
     "status": "ok",
     "timestamp": 1728397911988,
     "user": {
      "displayName": "Camilla Sancricca",
      "userId": "00021980050560537453"
     },
     "user_tz": -120
    },
    "id": "BnoiI76wLm7Q",
    "outputId": "b535fa94-b9ba-409b-c260-3b84e23d169e"
   },
   "outputs": [
    {
     "name": "stdout",
     "output_type": "stream",
     "text": [
      "The detected outliers are:  [50  5]\n"
     ]
    }
   ],
   "source": [
    "ZSB(data,2)"
   ]
  },
  {
   "cell_type": "markdown",
   "metadata": {
    "id": "D3fbfw-qNqG-"
   },
   "source": [
    "Fitting distributions **Interquartile Range (IQR)**\n",
    "\n",
    "- The interquartile range is the middle half of the data that lies between the upper and lower quartiles.\n",
    "In other words, the interquartile range includes the 50% of data points that are above Q1 and below Q3.\n",
    "    - The lowest quartile (Q1) covers the smallest quarter of values in your dataset.\n",
    "    - The upper quartile (Q3) comprises the highest quarter of values.\n",
    "- Data values that are outside the interval\n",
    "      Q1-(1.5*IQR) / Q3+(1.5*IQR)\n",
    "    are declared to be **outliers**."
   ]
  },
  {
   "cell_type": "code",
   "execution_count": 30,
   "metadata": {
    "colab": {
     "base_uri": "https://localhost:8080/"
    },
    "executionInfo": {
     "elapsed": 251,
     "status": "ok",
     "timestamp": 1728397758493,
     "user": {
      "displayName": "Camilla Sancricca",
      "userId": "00021980050560537453"
     },
     "user_tz": -120
    },
    "id": "ktAek51JOYki",
    "outputId": "c2462096-cd29-4faf-bc44-6f62577a5033"
   },
   "outputs": [
    {
     "name": "stdout",
     "output_type": "stream",
     "text": [
      "The detected outliers are:  [50  5]\n"
     ]
    }
   ],
   "source": [
    "def IQR(data):\n",
    "    sorted(data)\n",
    "    Q1, Q3 = np.percentile(data, [25, 75])\n",
    "    IQR = Q3 - Q1\n",
    "    lower_range = Q1 - (1.5 * IQR)\n",
    "    upper_range = Q3 + (1.5 * IQR)\n",
    "    outliers = data[((data < lower_range) | (data > upper_range))]\n",
    "    # print outliers\n",
    "    print(\"The detected outliers are: \", str(outliers))\n",
    "\n",
    "IQR(DATA)"
   ]
  },
  {
   "cell_type": "code",
   "execution_count": 31,
   "metadata": {
    "colab": {
     "base_uri": "https://localhost:8080/"
    },
    "executionInfo": {
     "elapsed": 1727,
     "status": "ok",
     "timestamp": 1728397761690,
     "user": {
      "displayName": "Camilla Sancricca",
      "userId": "00021980050560537453"
     },
     "user_tz": -120
    },
    "id": "rEUI6dS_PFIS",
    "outputId": "cce5ac1f-7ebb-438c-a635-f37469c0cd9b"
   },
   "outputs": [
    {
     "data": {
      "text/plain": [
       "{'data': array([[   8.3252    ,   41.        ,    6.98412698, ...,    2.55555556,\n",
       "           37.88      , -122.23      ],\n",
       "        [   8.3014    ,   21.        ,    6.23813708, ...,    2.10984183,\n",
       "           37.86      , -122.22      ],\n",
       "        [   7.2574    ,   52.        ,    8.28813559, ...,    2.80225989,\n",
       "           37.85      , -122.24      ],\n",
       "        ...,\n",
       "        [   1.7       ,   17.        ,    5.20554273, ...,    2.3256351 ,\n",
       "           39.43      , -121.22      ],\n",
       "        [   1.8672    ,   18.        ,    5.32951289, ...,    2.12320917,\n",
       "           39.43      , -121.32      ],\n",
       "        [   2.3886    ,   16.        ,    5.25471698, ...,    2.61698113,\n",
       "           39.37      , -121.24      ]]),\n",
       " 'target': array([4.526, 3.585, 3.521, ..., 0.923, 0.847, 0.894]),\n",
       " 'frame': None,\n",
       " 'target_names': ['MedHouseVal'],\n",
       " 'feature_names': ['MedInc',\n",
       "  'HouseAge',\n",
       "  'AveRooms',\n",
       "  'AveBedrms',\n",
       "  'Population',\n",
       "  'AveOccup',\n",
       "  'Latitude',\n",
       "  'Longitude'],\n",
       " 'DESCR': '.. _california_housing_dataset:\\n\\nCalifornia Housing dataset\\n--------------------------\\n\\n**Data Set Characteristics:**\\n\\n:Number of Instances: 20640\\n\\n:Number of Attributes: 8 numeric, predictive attributes and the target\\n\\n:Attribute Information:\\n    - MedInc        median income in block group\\n    - HouseAge      median house age in block group\\n    - AveRooms      average number of rooms per household\\n    - AveBedrms     average number of bedrooms per household\\n    - Population    block group population\\n    - AveOccup      average number of household members\\n    - Latitude      block group latitude\\n    - Longitude     block group longitude\\n\\n:Missing Attribute Values: None\\n\\nThis dataset was obtained from the StatLib repository.\\nhttps://www.dcc.fc.up.pt/~ltorgo/Regression/cal_housing.html\\n\\nThe target variable is the median house value for California districts,\\nexpressed in hundreds of thousands of dollars ($100,000).\\n\\nThis dataset was derived from the 1990 U.S. census, using one row per census\\nblock group. A block group is the smallest geographical unit for which the U.S.\\nCensus Bureau publishes sample data (a block group typically has a population\\nof 600 to 3,000 people).\\n\\nA household is a group of people residing within a home. Since the average\\nnumber of rooms and bedrooms in this dataset are provided per household, these\\ncolumns may take surprisingly large values for block groups with few households\\nand many empty houses, such as vacation resorts.\\n\\nIt can be downloaded/loaded using the\\n:func:`sklearn.datasets.fetch_california_housing` function.\\n\\n.. rubric:: References\\n\\n- Pace, R. Kelley and Ronald Barry, Sparse Spatial Autoregressions,\\n  Statistics and Probability Letters, 33 (1997) 291-297\\n'}"
      ]
     },
     "execution_count": 31,
     "metadata": {},
     "output_type": "execute_result"
    }
   ],
   "source": [
    "CAL = fetch_california_housing()\n",
    "CAL"
   ]
  },
  {
   "cell_type": "code",
   "execution_count": 32,
   "metadata": {
    "colab": {
     "base_uri": "https://localhost:8080/",
     "height": 424
    },
    "executionInfo": {
     "elapsed": 435,
     "status": "ok",
     "timestamp": 1728397765550,
     "user": {
      "displayName": "Camilla Sancricca",
      "userId": "00021980050560537453"
     },
     "user_tz": -120
    },
    "id": "oTjz2aCKOb3S",
    "outputId": "897e1fad-d61c-41b9-e130-c35560ae6b06"
   },
   "outputs": [
    {
     "data": {
      "text/html": [
       "<div>\n",
       "<style scoped>\n",
       "    .dataframe tbody tr th:only-of-type {\n",
       "        vertical-align: middle;\n",
       "    }\n",
       "\n",
       "    .dataframe tbody tr th {\n",
       "        vertical-align: top;\n",
       "    }\n",
       "\n",
       "    .dataframe thead th {\n",
       "        text-align: right;\n",
       "    }\n",
       "</style>\n",
       "<table border=\"1\" class=\"dataframe\">\n",
       "  <thead>\n",
       "    <tr style=\"text-align: right;\">\n",
       "      <th></th>\n",
       "      <th>MedInc</th>\n",
       "      <th>HouseAge</th>\n",
       "      <th>AveRooms</th>\n",
       "      <th>AveBedrms</th>\n",
       "      <th>Population</th>\n",
       "      <th>AveOccup</th>\n",
       "      <th>Latitude</th>\n",
       "      <th>Longitude</th>\n",
       "    </tr>\n",
       "  </thead>\n",
       "  <tbody>\n",
       "    <tr>\n",
       "      <th>0</th>\n",
       "      <td>8.3252</td>\n",
       "      <td>41.0</td>\n",
       "      <td>6.984127</td>\n",
       "      <td>1.023810</td>\n",
       "      <td>322.0</td>\n",
       "      <td>2.555556</td>\n",
       "      <td>37.88</td>\n",
       "      <td>-122.23</td>\n",
       "    </tr>\n",
       "    <tr>\n",
       "      <th>1</th>\n",
       "      <td>8.3014</td>\n",
       "      <td>21.0</td>\n",
       "      <td>6.238137</td>\n",
       "      <td>0.971880</td>\n",
       "      <td>2401.0</td>\n",
       "      <td>2.109842</td>\n",
       "      <td>37.86</td>\n",
       "      <td>-122.22</td>\n",
       "    </tr>\n",
       "    <tr>\n",
       "      <th>2</th>\n",
       "      <td>7.2574</td>\n",
       "      <td>52.0</td>\n",
       "      <td>8.288136</td>\n",
       "      <td>1.073446</td>\n",
       "      <td>496.0</td>\n",
       "      <td>2.802260</td>\n",
       "      <td>37.85</td>\n",
       "      <td>-122.24</td>\n",
       "    </tr>\n",
       "    <tr>\n",
       "      <th>3</th>\n",
       "      <td>5.6431</td>\n",
       "      <td>52.0</td>\n",
       "      <td>5.817352</td>\n",
       "      <td>1.073059</td>\n",
       "      <td>558.0</td>\n",
       "      <td>2.547945</td>\n",
       "      <td>37.85</td>\n",
       "      <td>-122.25</td>\n",
       "    </tr>\n",
       "    <tr>\n",
       "      <th>4</th>\n",
       "      <td>3.8462</td>\n",
       "      <td>52.0</td>\n",
       "      <td>6.281853</td>\n",
       "      <td>1.081081</td>\n",
       "      <td>565.0</td>\n",
       "      <td>2.181467</td>\n",
       "      <td>37.85</td>\n",
       "      <td>-122.25</td>\n",
       "    </tr>\n",
       "    <tr>\n",
       "      <th>...</th>\n",
       "      <td>...</td>\n",
       "      <td>...</td>\n",
       "      <td>...</td>\n",
       "      <td>...</td>\n",
       "      <td>...</td>\n",
       "      <td>...</td>\n",
       "      <td>...</td>\n",
       "      <td>...</td>\n",
       "    </tr>\n",
       "    <tr>\n",
       "      <th>20635</th>\n",
       "      <td>1.5603</td>\n",
       "      <td>25.0</td>\n",
       "      <td>5.045455</td>\n",
       "      <td>1.133333</td>\n",
       "      <td>845.0</td>\n",
       "      <td>2.560606</td>\n",
       "      <td>39.48</td>\n",
       "      <td>-121.09</td>\n",
       "    </tr>\n",
       "    <tr>\n",
       "      <th>20636</th>\n",
       "      <td>2.5568</td>\n",
       "      <td>18.0</td>\n",
       "      <td>6.114035</td>\n",
       "      <td>1.315789</td>\n",
       "      <td>356.0</td>\n",
       "      <td>3.122807</td>\n",
       "      <td>39.49</td>\n",
       "      <td>-121.21</td>\n",
       "    </tr>\n",
       "    <tr>\n",
       "      <th>20637</th>\n",
       "      <td>1.7000</td>\n",
       "      <td>17.0</td>\n",
       "      <td>5.205543</td>\n",
       "      <td>1.120092</td>\n",
       "      <td>1007.0</td>\n",
       "      <td>2.325635</td>\n",
       "      <td>39.43</td>\n",
       "      <td>-121.22</td>\n",
       "    </tr>\n",
       "    <tr>\n",
       "      <th>20638</th>\n",
       "      <td>1.8672</td>\n",
       "      <td>18.0</td>\n",
       "      <td>5.329513</td>\n",
       "      <td>1.171920</td>\n",
       "      <td>741.0</td>\n",
       "      <td>2.123209</td>\n",
       "      <td>39.43</td>\n",
       "      <td>-121.32</td>\n",
       "    </tr>\n",
       "    <tr>\n",
       "      <th>20639</th>\n",
       "      <td>2.3886</td>\n",
       "      <td>16.0</td>\n",
       "      <td>5.254717</td>\n",
       "      <td>1.162264</td>\n",
       "      <td>1387.0</td>\n",
       "      <td>2.616981</td>\n",
       "      <td>39.37</td>\n",
       "      <td>-121.24</td>\n",
       "    </tr>\n",
       "  </tbody>\n",
       "</table>\n",
       "<p>20640 rows × 8 columns</p>\n",
       "</div>"
      ],
      "text/plain": [
       "       MedInc  HouseAge  AveRooms  AveBedrms  Population  AveOccup  Latitude  \\\n",
       "0      8.3252      41.0  6.984127   1.023810       322.0  2.555556     37.88   \n",
       "1      8.3014      21.0  6.238137   0.971880      2401.0  2.109842     37.86   \n",
       "2      7.2574      52.0  8.288136   1.073446       496.0  2.802260     37.85   \n",
       "3      5.6431      52.0  5.817352   1.073059       558.0  2.547945     37.85   \n",
       "4      3.8462      52.0  6.281853   1.081081       565.0  2.181467     37.85   \n",
       "...       ...       ...       ...        ...         ...       ...       ...   \n",
       "20635  1.5603      25.0  5.045455   1.133333       845.0  2.560606     39.48   \n",
       "20636  2.5568      18.0  6.114035   1.315789       356.0  3.122807     39.49   \n",
       "20637  1.7000      17.0  5.205543   1.120092      1007.0  2.325635     39.43   \n",
       "20638  1.8672      18.0  5.329513   1.171920       741.0  2.123209     39.43   \n",
       "20639  2.3886      16.0  5.254717   1.162264      1387.0  2.616981     39.37   \n",
       "\n",
       "       Longitude  \n",
       "0        -122.23  \n",
       "1        -122.22  \n",
       "2        -122.24  \n",
       "3        -122.25  \n",
       "4        -122.25  \n",
       "...          ...  \n",
       "20635    -121.09  \n",
       "20636    -121.21  \n",
       "20637    -121.22  \n",
       "20638    -121.32  \n",
       "20639    -121.24  \n",
       "\n",
       "[20640 rows x 8 columns]"
      ]
     },
     "execution_count": 32,
     "metadata": {},
     "output_type": "execute_result"
    }
   ],
   "source": [
    "#Create the dataframe\n",
    "column_name = CAL.feature_names\n",
    "CAL = pd.DataFrame(CAL.data)\n",
    "CAL.columns = column_name\n",
    "CAL"
   ]
  },
  {
   "cell_type": "code",
   "execution_count": 33,
   "metadata": {
    "colab": {
     "base_uri": "https://localhost:8080/"
    },
    "executionInfo": {
     "elapsed": 249,
     "status": "ok",
     "timestamp": 1728397919569,
     "user": {
      "displayName": "Camilla Sancricca",
      "userId": "00021980050560537453"
     },
     "user_tz": -120
    },
    "id": "eGG09rp4Obxz",
    "outputId": "0db8679e-529b-4da7-eff4-c5ece1a1f98c"
   },
   "outputs": [
    {
     "name": "stdout",
     "output_type": "stream",
     "text": [
      "The detected outliers are:  [ 7427.  5781.  5613.  8117.  8012.  6075.  7205. 12203.  5826.  8768.\n",
      "  6693.  7517.  5613.  7653.  7266.  7009.  5696.  6241.  5666.  7679.\n",
      "  6161.  9135.  7096.  7307.  7282.  7450.  5899.  7221.  7443.  5840.\n",
      "  6846.  6270.  7665.  7249.  7775.  8686. 15507.  9427.  8380.  9671.\n",
      " 15037.  6652.  8997.  5587.  8907.  7732. 10988.  7228.  6666.  6626.\n",
      "  8551.  7429.  7211.  7180.  6664.  6897.  7431.  6214.  9873. 12873.\n",
      "  6163. 10493.  6291.  7694.  5731.  5839. 11973.  5871.  8152.  8721.\n",
      " 10475.  7270.  7030.  9842.  7087.  7158.  8733.  9936.  6902.  5600.\n",
      "  6109.  5917.  6012. 11272.  7249. 12153.  5982. 28566.  6071. 16122.\n",
      "  6223.  6083.  5756.  6799.  7111.  8361.  7540.  5913.  5810.  7600.\n",
      "  7305.  6295.  8222.  5964.  5650.  9851.  8805.  6763.  6780.  8437.\n",
      "  5804.  5595.  7596.  6686.  9509.  9623.  9360.  7235.  7139.  9419.\n",
      "  7132.  8824. 13251.  5860.  6159.  6274.  5682. 11935.  5656.  7235.\n",
      "  5692.  5634.  7919.  7463.  8652.  7608.  6068.  6000.  6675.  6544.\n",
      "  8656. 10329.  6578.  6002. 16305. 10450.  6931.  6474.  7343.  5718.\n",
      "  7766.  5669.  7363.  9716.  6443. 10323.  5804.  5690.  5820.  6640.\n",
      "  6080.  6852.  6133.  7588.  6716.  6835. 11139.  7302.  6303.  7604.\n",
      "  7560.  8980.  7301.  7985.  6945.  6990.  7178.  7302.  6296.  6389.\n",
      "  5613.  6600.  7417.  7644.  6666.  8738. 35682.  9690. 10877.  6583.\n",
      "  7014.  5640.  5935.  6085.  6532.  6160.  6266. 12427.  5723.  6234.\n",
      "  7817.  6034.  6047.  8793.  8190.  6810.  7273.  7604.  7174.  5674.\n",
      "  6511.  6456.  7025.  8276.  6657.  9879.  7460.  6420.  5807.  7132.\n",
      "  6370.  6242.  6437.  6301.  6187.  6700. 11956.  5633.  7984.  6330.\n",
      "  6837.  6912.]\n"
     ]
    }
   ],
   "source": [
    "ZSB(np.array(CAL[\"Population\"]),10)"
   ]
  },
  {
   "cell_type": "markdown",
   "metadata": {
    "id": "OtBCp8SmU12Y"
   },
   "source": [
    "Fitting distributions **Box-Plots, Scatter Plots, Histograms**"
   ]
  },
  {
   "cell_type": "code",
   "execution_count": 34,
   "metadata": {
    "colab": {
     "base_uri": "https://localhost:8080/",
     "height": 428
    },
    "executionInfo": {
     "elapsed": 596,
     "status": "ok",
     "timestamp": 1728397965841,
     "user": {
      "displayName": "Camilla Sancricca",
      "userId": "00021980050560537453"
     },
     "user_tz": -120
    },
    "id": "aaOhxNcnObpY",
    "outputId": "d5cac72b-47a0-4054-fce0-d787599eb1f3"
   },
   "outputs": [
    {
     "data": {
      "text/plain": [
       "<Axes: ylabel='Population'>"
      ]
     },
     "execution_count": 34,
     "metadata": {},
     "output_type": "execute_result"
    },
    {
     "data": {
      "image/png": "[encoded data removed]",
      "text/plain": [
       "<Figure size 640x480 with 1 Axes>"
      ]
     },
     "metadata": {},
     "output_type": "display_data"
    }
   ],
   "source": [
    "#Box Plot\n",
    "sns.boxplot(CAL['Population'])"
   ]
  },
  {
   "cell_type": "code",
   "execution_count": 35,
   "metadata": {
    "colab": {
     "base_uri": "https://localhost:8080/",
     "height": 830
    },
    "executionInfo": {
     "elapsed": 613,
     "status": "ok",
     "timestamp": 1728397968672,
     "user": {
      "displayName": "Camilla Sancricca",
      "userId": "00021980050560537453"
     },
     "user_tz": -120
    },
    "id": "S0dq6O-QVzop",
    "outputId": "23b793ed-1f7c-4476-fd42-8b0787654ba0"
   },
   "outputs": [
    {
     "data": {
      "image/png": "[encoded data removed]",
      "text/plain": [
       "<Figure size 1800x1000 with 1 Axes>"
      ]
     },
     "metadata": {},
     "output_type": "display_data"
    }
   ],
   "source": [
    "#Scatter Plot\n",
    "fig, ax = plt.subplots(figsize = (18,10))\n",
    "ax.scatter(CAL['Population'], CAL['AveOccup'])\n",
    "plt.show()"
   ]
  },
  {
   "cell_type": "code",
   "execution_count": 36,
   "metadata": {
    "colab": {
     "base_uri": "https://localhost:8080/",
     "height": 466
    },
    "executionInfo": {
     "elapsed": 517,
     "status": "ok",
     "timestamp": 1728397971961,
     "user": {
      "displayName": "Camilla Sancricca",
      "userId": "00021980050560537453"
     },
     "user_tz": -120
    },
    "id": "S9uWmMF3WQXI",
    "outputId": "705711aa-b7e1-4407-9433-1c03482cab6c"
   },
   "outputs": [
    {
     "data": {
      "text/plain": [
       "<Axes: xlabel='Population'>"
      ]
     },
     "execution_count": 36,
     "metadata": {},
     "output_type": "execute_result"
    },
    {
     "data": {
      "image/png": "[encoded data removed]",
      "text/plain": [
       "<Figure size 640x480 with 1 Axes>"
      ]
     },
     "metadata": {},
     "output_type": "display_data"
    }
   ],
   "source": [
    "#Histogram\n",
    "sns.distplot(CAL['Population'], hist=True, kde=False,\n",
    "             bins=int(180/5), color = 'blue',\n",
    "             hist_kws={'edgecolor':'black'})"
   ]
  },
  {
   "cell_type": "markdown",
   "metadata": {
    "id": "tDx4zh9LWe55"
   },
   "source": [
    "Fitting distributions **Kernel-Density Estimation (KDE)**\n",
    "\n",
    "      KDE estimates the distribution probability of a random variable as a density function f(x).\n",
    "      It’s related to the histogram of the distribution plus a data smoothing factor.\n",
    "      To smoothen the distribution, different kernels can be used.\n",
    "      The output is a smooth density estimate."
   ]
  },
  {
   "cell_type": "code",
   "execution_count": 37,
   "metadata": {
    "colab": {
     "base_uri": "https://localhost:8080/",
     "height": 447
    },
    "executionInfo": {
     "elapsed": 1205,
     "status": "ok",
     "timestamp": 1728397982942,
     "user": {
      "displayName": "Camilla Sancricca",
      "userId": "00021980050560537453"
     },
     "user_tz": -120
    },
    "id": "0U-4LXXhWwBW",
    "outputId": "a62df806-57d9-4a00-d25b-466d45111524"
   },
   "outputs": [
    {
     "data": {
      "text/plain": [
       "<Axes: ylabel='Density'>"
      ]
     },
     "execution_count": 37,
     "metadata": {},
     "output_type": "execute_result"
    },
    {
     "data": {
      "image/png": "[encoded data removed]",
      "text/plain": [
       "<Figure size 640x480 with 1 Axes>"
      ]
     },
     "metadata": {},
     "output_type": "display_data"
    }
   ],
   "source": [
    "X = np.array([[2, 1], [2, 3], [2, 1], [1, 2], [1, 1], [2, 1], [3, 2], [10, 12], [1, 1], [3, 2], [1, 1]])\n",
    "sns.distplot(X, hist=True, kde=True)\n",
    "sns.kdeplot(X, cut=1)\n",
    "sns.kdeplot(X, cut=2)\n",
    "sns.kdeplot(X, cut=3)"
   ]
  },
  {
   "cell_type": "code",
   "execution_count": 38,
   "metadata": {
    "colab": {
     "base_uri": "https://localhost:8080/"
    },
    "executionInfo": {
     "elapsed": 262,
     "status": "ok",
     "timestamp": 1728397985796,
     "user": {
      "displayName": "Camilla Sancricca",
      "userId": "00021980050560537453"
     },
     "user_tz": -120
    },
    "id": "4HtbaJrpW2D9",
    "outputId": "a0a5fe18-709c-4a72-a1f7-f048548efde6"
   },
   "outputs": [
    {
     "name": "stdout",
     "output_type": "stream",
     "text": [
      "Outliers: [[10 12]]\n"
     ]
    }
   ],
   "source": [
    "kde = KernelDensity(kernel='gaussian', bandwidth=0.2).fit(X)\n",
    "scores = kde.score_samples(X)\n",
    "threshold = quantile(scores, .02)\n",
    "\n",
    "idx = np.where(scores <= threshold)\n",
    "outliers = X[idx]\n",
    "print(\"Outliers:\", outliers)"
   ]
  },
  {
   "cell_type": "markdown",
   "metadata": {
    "id": "e7XYqHUnXBCn"
   },
   "source": [
    "**2. DISTANCE-BASED**\n",
    "\n",
    "  **Local Outlier Factor (LOF)**\n",
    "\n",
    "  - The LOF scores data points based on the density of their neighbouring data points. The score depends on how isolated the object is with respect to the surrounding k-neighborhood. By comparing the local density of a sample to the local densities of its neighbors, one can identify samples that have a substantially lower density than their neighbors. These are considered outliers.\n",
    "\n",
    "    Given:\n",
    "      - p, o objects\n",
    "      - a positive integer k (minimum number of neighbours)\n",
    "      - k-distance(o)\n",
    "\n",
    "    Define:\n",
    "      1. Reachability Distance (RD) = distance(p,o) if they are far,\n",
    "      average distance among the closer points if they are close: max(k-distance(o), distance(p,o))\n",
    "\n",
    "      2. Local Reachability Distance (LRD): more the average reachability distance, less density of points are present around a particular point.\n",
    "\n",
    "      3. Local Outlier Factor: ~ 1 Similar density as neighbors, < 1 Higher density than neighbors (Inlier), > 1 Lower density than neighbors (**Outlier**)"
   ]
  },
  {
   "cell_type": "code",
   "execution_count": 39,
   "metadata": {
    "colab": {
     "base_uri": "https://localhost:8080/"
    },
    "executionInfo": {
     "elapsed": 267,
     "status": "ok",
     "timestamp": 1728397990136,
     "user": {
      "displayName": "Camilla Sancricca",
      "userId": "00021980050560537453"
     },
     "user_tz": -120
    },
    "id": "ZG_EZnloXXms",
    "outputId": "449f6b91-4879-4be3-a384-9be9e824fe23"
   },
   "outputs": [
    {
     "name": "stdout",
     "output_type": "stream",
     "text": [
      "Outliers:          MedInc  HouseAge   AveRooms  AveBedrms  Population   AveOccup  \\\n",
      "154     8.1564      52.0   7.702632   1.057895      1021.0   2.686842   \n",
      "270     3.8750      33.0   3.021277   0.659574       575.0  12.234043   \n",
      "511    13.4990      42.0   8.928358   1.000000      1018.0   3.038806   \n",
      "514    12.3804      52.0   9.122715   1.033943      1192.0   3.112272   \n",
      "1067    3.4191      52.0   4.530612   0.816327      1107.0  11.295918   \n",
      "...        ...       ...        ...        ...         ...        ...   \n",
      "19435   0.5360      16.0   2.111111   2.111111       166.0  18.444444   \n",
      "19524   0.9573      19.0   2.951220   1.000000       658.0  16.048780   \n",
      "19536   4.2500       1.0  20.125000   2.928571       402.0   3.589286   \n",
      "20352   4.0208       8.0   2.500000   0.625000       309.0  19.312500   \n",
      "20544   2.0650      23.0   4.803493   1.013646      6330.0   3.455240   \n",
      "\n",
      "       Latitude  Longitude  \n",
      "154       37.81    -122.22  \n",
      "270       37.78    -122.18  \n",
      "511       37.82    -122.22  \n",
      "514       37.82    -122.23  \n",
      "1067      39.73    -121.85  \n",
      "...         ...        ...  \n",
      "19435     37.67    -121.04  \n",
      "19524     37.64    -121.00  \n",
      "19536     37.65    -120.93  \n",
      "20352     34.22    -119.09  \n",
      "20544     38.55    -121.76  \n",
      "\n",
      "[122 rows x 8 columns]\n"
     ]
    }
   ],
   "source": [
    "def LOF_outlier_detection(X):\n",
    "    data = X\n",
    "    # requires no missing value\n",
    "    # select top 10 outliers\n",
    "\n",
    "\n",
    "    # fit the model for outlier detection (default)\n",
    "    clf = LocalOutlierFactor(n_neighbors=4, contamination=0.1)\n",
    "\n",
    "    clf.fit_predict(X)\n",
    "\n",
    "    LOF_scores = clf.negative_outlier_factor_\n",
    "    # Outliers tend to have a negative score far from -1\n",
    "\n",
    "    #print(LOF_scores)\n",
    "\n",
    "    outliers = X[LOF_scores < -1.9].index\n",
    "\n",
    "    print(\"Outliers: \", data.iloc[outliers])\n",
    "\n",
    "LOF_outlier_detection(CAL)"
   ]
  },
  {
   "cell_type": "markdown",
   "metadata": {
    "id": "JuSBpE_MYmox"
   },
   "source": [
    "**3. MODEL-BASED**\n",
    "\n",
    "  Outlier Detection using **k-Nearest Neighbors (KNN)** and **Isolation Forest** algorithms"
   ]
  },
  {
   "cell_type": "code",
   "execution_count": 40,
   "metadata": {
    "id": "VTSodWjaY1cm"
   },
   "outputs": [],
   "source": [
    "IRIS = load_iris()"
   ]
  },
  {
   "cell_type": "code",
   "execution_count": 41,
   "metadata": {
    "colab": {
     "base_uri": "https://localhost:8080/",
     "height": 424
    },
    "executionInfo": {
     "elapsed": 4,
     "status": "ok",
     "timestamp": 1728398072612,
     "user": {
      "displayName": "Camilla Sancricca",
      "userId": "00021980050560537453"
     },
     "user_tz": -120
    },
    "id": "9RNPoiwKY1WQ",
    "outputId": "bd6c0372-1136-4a0a-c59b-48a8e746a275"
   },
   "outputs": [
    {
     "data": {
      "text/html": [
       "<div>\n",
       "<style scoped>\n",
       "    .dataframe tbody tr th:only-of-type {\n",
       "        vertical-align: middle;\n",
       "    }\n",
       "\n",
       "    .dataframe tbody tr th {\n",
       "        vertical-align: top;\n",
       "    }\n",
       "\n",
       "    .dataframe thead th {\n",
       "        text-align: right;\n",
       "    }\n",
       "</style>\n",
       "<table border=\"1\" class=\"dataframe\">\n",
       "  <thead>\n",
       "    <tr style=\"text-align: right;\">\n",
       "      <th></th>\n",
       "      <th>sepal length (cm)</th>\n",
       "      <th>sepal width (cm)</th>\n",
       "      <th>petal length (cm)</th>\n",
       "      <th>petal width (cm)</th>\n",
       "    </tr>\n",
       "  </thead>\n",
       "  <tbody>\n",
       "    <tr>\n",
       "      <th>0</th>\n",
       "      <td>5.1</td>\n",
       "      <td>3.5</td>\n",
       "      <td>1.4</td>\n",
       "      <td>0.2</td>\n",
       "    </tr>\n",
       "    <tr>\n",
       "      <th>1</th>\n",
       "      <td>4.9</td>\n",
       "      <td>3.0</td>\n",
       "      <td>1.4</td>\n",
       "      <td>0.2</td>\n",
       "    </tr>\n",
       "    <tr>\n",
       "      <th>2</th>\n",
       "      <td>4.7</td>\n",
       "      <td>3.2</td>\n",
       "      <td>1.3</td>\n",
       "      <td>0.2</td>\n",
       "    </tr>\n",
       "    <tr>\n",
       "      <th>3</th>\n",
       "      <td>4.6</td>\n",
       "      <td>3.1</td>\n",
       "      <td>1.5</td>\n",
       "      <td>0.2</td>\n",
       "    </tr>\n",
       "    <tr>\n",
       "      <th>4</th>\n",
       "      <td>5.0</td>\n",
       "      <td>3.6</td>\n",
       "      <td>1.4</td>\n",
       "      <td>0.2</td>\n",
       "    </tr>\n",
       "    <tr>\n",
       "      <th>...</th>\n",
       "      <td>...</td>\n",
       "      <td>...</td>\n",
       "      <td>...</td>\n",
       "      <td>...</td>\n",
       "    </tr>\n",
       "    <tr>\n",
       "      <th>145</th>\n",
       "      <td>6.7</td>\n",
       "      <td>3.0</td>\n",
       "      <td>5.2</td>\n",
       "      <td>2.3</td>\n",
       "    </tr>\n",
       "    <tr>\n",
       "      <th>146</th>\n",
       "      <td>6.3</td>\n",
       "      <td>2.5</td>\n",
       "      <td>5.0</td>\n",
       "      <td>1.9</td>\n",
       "    </tr>\n",
       "    <tr>\n",
       "      <th>147</th>\n",
       "      <td>6.5</td>\n",
       "      <td>3.0</td>\n",
       "      <td>5.2</td>\n",
       "      <td>2.0</td>\n",
       "    </tr>\n",
       "    <tr>\n",
       "      <th>148</th>\n",
       "      <td>6.2</td>\n",
       "      <td>3.4</td>\n",
       "      <td>5.4</td>\n",
       "      <td>2.3</td>\n",
       "    </tr>\n",
       "    <tr>\n",
       "      <th>149</th>\n",
       "      <td>5.9</td>\n",
       "      <td>3.0</td>\n",
       "      <td>5.1</td>\n",
       "      <td>1.8</td>\n",
       "    </tr>\n",
       "  </tbody>\n",
       "</table>\n",
       "<p>150 rows × 4 columns</p>\n",
       "</div>"
      ],
      "text/plain": [
       "     sepal length (cm)  sepal width (cm)  petal length (cm)  petal width (cm)\n",
       "0                  5.1               3.5                1.4               0.2\n",
       "1                  4.9               3.0                1.4               0.2\n",
       "2                  4.7               3.2                1.3               0.2\n",
       "3                  4.6               3.1                1.5               0.2\n",
       "4                  5.0               3.6                1.4               0.2\n",
       "..                 ...               ...                ...               ...\n",
       "145                6.7               3.0                5.2               2.3\n",
       "146                6.3               2.5                5.0               1.9\n",
       "147                6.5               3.0                5.2               2.0\n",
       "148                6.2               3.4                5.4               2.3\n",
       "149                5.9               3.0                5.1               1.8\n",
       "\n",
       "[150 rows x 4 columns]"
      ]
     },
     "execution_count": 41,
     "metadata": {},
     "output_type": "execute_result"
    }
   ],
   "source": [
    "#Create the dataframe\n",
    "column_name = IRIS.feature_names\n",
    "IRIS = pd.DataFrame(IRIS.data)\n",
    "IRIS.columns = column_name\n",
    "IRIS"
   ]
  },
  {
   "cell_type": "code",
   "execution_count": 42,
   "metadata": {
    "colab": {
     "base_uri": "https://localhost:8080/"
    },
    "executionInfo": {
     "elapsed": 238,
     "status": "ok",
     "timestamp": 1728398075395,
     "user": {
      "displayName": "Camilla Sancricca",
      "userId": "00021980050560537453"
     },
     "user_tz": -120
    },
    "id": "gRfnifsrZM74",
    "outputId": "91f3ec48-0197-40d0-b9ba-667a89ffc71c"
   },
   "outputs": [
    {
     "data": {
      "text/plain": [
       "array([[5.1, 3.5, 1.4, 0.2],\n",
       "       [4.9, 3. , 1.4, 0.2],\n",
       "       [4.7, 3.2, 1.3, 0.2],\n",
       "       [4.6, 3.1, 1.5, 0.2],\n",
       "       [5. , 3.6, 1.4, 0.2],\n",
       "       [5.4, 3.9, 1.7, 0.4],\n",
       "       [4.6, 3.4, 1.4, 0.3],\n",
       "       [5. , 3.4, 1.5, 0.2],\n",
       "       [4.4, 2.9, 1.4, 0.2],\n",
       "       [4.9, 3.1, 1.5, 0.1],\n",
       "       [5.4, 3.7, 1.5, 0.2],\n",
       "       [4.8, 3.4, 1.6, 0.2],\n",
       "       [4.8, 3. , 1.4, 0.1],\n",
       "       [4.3, 3. , 1.1, 0.1],\n",
       "       [5.8, 4. , 1.2, 0.2],\n",
       "       [5.7, 4.4, 1.5, 0.4],\n",
       "       [5.4, 3.9, 1.3, 0.4],\n",
       "       [5.1, 3.5, 1.4, 0.3],\n",
       "       [5.7, 3.8, 1.7, 0.3],\n",
       "       [5.1, 3.8, 1.5, 0.3],\n",
       "       [5.4, 3.4, 1.7, 0.2],\n",
       "       [5.1, 3.7, 1.5, 0.4],\n",
       "       [4.6, 3.6, 1. , 0.2],\n",
       "       [5.1, 3.3, 1.7, 0.5],\n",
       "       [4.8, 3.4, 1.9, 0.2],\n",
       "       [5. , 3. , 1.6, 0.2],\n",
       "       [5. , 3.4, 1.6, 0.4],\n",
       "       [5.2, 3.5, 1.5, 0.2],\n",
       "       [5.2, 3.4, 1.4, 0.2],\n",
       "       [4.7, 3.2, 1.6, 0.2],\n",
       "       [4.8, 3.1, 1.6, 0.2],\n",
       "       [5.4, 3.4, 1.5, 0.4],\n",
       "       [5.2, 4.1, 1.5, 0.1],\n",
       "       [5.5, 4.2, 1.4, 0.2],\n",
       "       [4.9, 3.1, 1.5, 0.2],\n",
       "       [5. , 3.2, 1.2, 0.2],\n",
       "       [5.5, 3.5, 1.3, 0.2],\n",
       "       [4.9, 3.6, 1.4, 0.1],\n",
       "       [4.4, 3. , 1.3, 0.2],\n",
       "       [5.1, 3.4, 1.5, 0.2],\n",
       "       [5. , 3.5, 1.3, 0.3],\n",
       "       [4.5, 2.3, 1.3, 0.3],\n",
       "       [4.4, 3.2, 1.3, 0.2],\n",
       "       [5. , 3.5, 1.6, 0.6],\n",
       "       [5.1, 3.8, 1.9, 0.4],\n",
       "       [4.8, 3. , 1.4, 0.3],\n",
       "       [5.1, 3.8, 1.6, 0.2],\n",
       "       [4.6, 3.2, 1.4, 0.2],\n",
       "       [5.3, 3.7, 1.5, 0.2],\n",
       "       [5. , 3.3, 1.4, 0.2],\n",
       "       [7. , 3.2, 4.7, 1.4],\n",
       "       [6.4, 3.2, 4.5, 1.5],\n",
       "       [6.9, 3.1, 4.9, 1.5],\n",
       "       [5.5, 2.3, 4. , 1.3],\n",
       "       [6.5, 2.8, 4.6, 1.5],\n",
       "       [5.7, 2.8, 4.5, 1.3],\n",
       "       [6.3, 3.3, 4.7, 1.6],\n",
       "       [4.9, 2.4, 3.3, 1. ],\n",
       "       [6.6, 2.9, 4.6, 1.3],\n",
       "       [5.2, 2.7, 3.9, 1.4],\n",
       "       [5. , 2. , 3.5, 1. ],\n",
       "       [5.9, 3. , 4.2, 1.5],\n",
       "       [6. , 2.2, 4. , 1. ],\n",
       "       [6.1, 2.9, 4.7, 1.4],\n",
       "       [5.6, 2.9, 3.6, 1.3],\n",
       "       [6.7, 3.1, 4.4, 1.4],\n",
       "       [5.6, 3. , 4.5, 1.5],\n",
       "       [5.8, 2.7, 4.1, 1. ],\n",
       "       [6.2, 2.2, 4.5, 1.5],\n",
       "       [5.6, 2.5, 3.9, 1.1],\n",
       "       [5.9, 3.2, 4.8, 1.8],\n",
       "       [6.1, 2.8, 4. , 1.3],\n",
       "       [6.3, 2.5, 4.9, 1.5],\n",
       "       [6.1, 2.8, 4.7, 1.2],\n",
       "       [6.4, 2.9, 4.3, 1.3],\n",
       "       [6.6, 3. , 4.4, 1.4],\n",
       "       [6.8, 2.8, 4.8, 1.4],\n",
       "       [6.7, 3. , 5. , 1.7],\n",
       "       [6. , 2.9, 4.5, 1.5],\n",
       "       [5.7, 2.6, 3.5, 1. ],\n",
       "       [5.5, 2.4, 3.8, 1.1],\n",
       "       [5.5, 2.4, 3.7, 1. ],\n",
       "       [5.8, 2.7, 3.9, 1.2],\n",
       "       [6. , 2.7, 5.1, 1.6],\n",
       "       [5.4, 3. , 4.5, 1.5],\n",
       "       [6. , 3.4, 4.5, 1.6],\n",
       "       [6.7, 3.1, 4.7, 1.5],\n",
       "       [6.3, 2.3, 4.4, 1.3],\n",
       "       [5.6, 3. , 4.1, 1.3],\n",
       "       [5.5, 2.5, 4. , 1.3],\n",
       "       [5.5, 2.6, 4.4, 1.2],\n",
       "       [6.1, 3. , 4.6, 1.4],\n",
       "       [5.8, 2.6, 4. , 1.2],\n",
       "       [5. , 2.3, 3.3, 1. ],\n",
       "       [5.6, 2.7, 4.2, 1.3],\n",
       "       [5.7, 3. , 4.2, 1.2],\n",
       "       [5.7, 2.9, 4.2, 1.3],\n",
       "       [6.2, 2.9, 4.3, 1.3],\n",
       "       [5.1, 2.5, 3. , 1.1],\n",
       "       [5.7, 2.8, 4.1, 1.3],\n",
       "       [6.3, 3.3, 6. , 2.5],\n",
       "       [5.8, 2.7, 5.1, 1.9],\n",
       "       [7.1, 3. , 5.9, 2.1],\n",
       "       [6.3, 2.9, 5.6, 1.8],\n",
       "       [6.5, 3. , 5.8, 2.2],\n",
       "       [7.6, 3. , 6.6, 2.1],\n",
       "       [4.9, 2.5, 4.5, 1.7],\n",
       "       [7.3, 2.9, 6.3, 1.8],\n",
       "       [6.7, 2.5, 5.8, 1.8],\n",
       "       [7.2, 3.6, 6.1, 2.5],\n",
       "       [6.5, 3.2, 5.1, 2. ],\n",
       "       [6.4, 2.7, 5.3, 1.9],\n",
       "       [6.8, 3. , 5.5, 2.1],\n",
       "       [5.7, 2.5, 5. , 2. ],\n",
       "       [5.8, 2.8, 5.1, 2.4],\n",
       "       [6.4, 3.2, 5.3, 2.3],\n",
       "       [6.5, 3. , 5.5, 1.8],\n",
       "       [7.7, 3.8, 6.7, 2.2],\n",
       "       [7.7, 2.6, 6.9, 2.3],\n",
       "       [6. , 2.2, 5. , 1.5],\n",
       "       [6.9, 3.2, 5.7, 2.3],\n",
       "       [5.6, 2.8, 4.9, 2. ],\n",
       "       [7.7, 2.8, 6.7, 2. ],\n",
       "       [6.3, 2.7, 4.9, 1.8],\n",
       "       [6.7, 3.3, 5.7, 2.1],\n",
       "       [7.2, 3.2, 6. , 1.8],\n",
       "       [6.2, 2.8, 4.8, 1.8],\n",
       "       [6.1, 3. , 4.9, 1.8],\n",
       "       [6.4, 2.8, 5.6, 2.1],\n",
       "       [7.2, 3. , 5.8, 1.6],\n",
       "       [7.4, 2.8, 6.1, 1.9],\n",
       "       [7.9, 3.8, 6.4, 2. ],\n",
       "       [6.4, 2.8, 5.6, 2.2],\n",
       "       [6.3, 2.8, 5.1, 1.5],\n",
       "       [6.1, 2.6, 5.6, 1.4],\n",
       "       [7.7, 3. , 6.1, 2.3],\n",
       "       [6.3, 3.4, 5.6, 2.4],\n",
       "       [6.4, 3.1, 5.5, 1.8],\n",
       "       [6. , 3. , 4.8, 1.8],\n",
       "       [6.9, 3.1, 5.4, 2.1],\n",
       "       [6.7, 3.1, 5.6, 2.4],\n",
       "       [6.9, 3.1, 5.1, 2.3],\n",
       "       [5.8, 2.7, 5.1, 1.9],\n",
       "       [6.8, 3.2, 5.9, 2.3],\n",
       "       [6.7, 3.3, 5.7, 2.5],\n",
       "       [6.7, 3. , 5.2, 2.3],\n",
       "       [6.3, 2.5, 5. , 1.9],\n",
       "       [6.5, 3. , 5.2, 2. ],\n",
       "       [6.2, 3.4, 5.4, 2.3],\n",
       "       [5.9, 3. , 5.1, 1.8]])"
      ]
     },
     "execution_count": 42,
     "metadata": {},
     "output_type": "execute_result"
    }
   ],
   "source": [
    "X = IRIS.values\n",
    "X"
   ]
  },
  {
   "cell_type": "code",
   "execution_count": 43,
   "metadata": {
    "id": "H4fQz1D9ZVHL"
   },
   "outputs": [],
   "source": [
    "#Instantiate model (KNN)\n",
    "KNN = NearestNeighbors(n_neighbors = 3)"
   ]
  },
  {
   "cell_type": "code",
   "execution_count": 44,
   "metadata": {
    "colab": {
     "base_uri": "https://localhost:8080/",
     "height": 80
    },
    "executionInfo": {
     "elapsed": 254,
     "status": "ok",
     "timestamp": 1728398080015,
     "user": {
      "displayName": "Camilla Sancricca",
      "userId": "00021980050560537453"
     },
     "user_tz": -120
    },
    "id": "OPQqm-UMZVEM",
    "outputId": "59b3f598-e9e4-4930-f0a6-75570bbf8be5"
   },
   "outputs": [
    {
     "data": {
      "text/html": [
       "<style>#sk-container-id-1 {\n",
       "  /* Definition of color scheme common for light and dark mode */\n",
       "  --sklearn-color-text: black;\n",
       "  --sklearn-color-line: gray;\n",
       "  /* Definition of color scheme for unfitted estimators */\n",
       "  --sklearn-color-unfitted-level-0: #fff5e6;\n",
       "  --sklearn-color-unfitted-level-1: #f6e4d2;\n",
       "  --sklearn-color-unfitted-level-2: #ffe0b3;\n",
       "  --sklearn-color-unfitted-level-3: chocolate;\n",
       "  /* Definition of color scheme for fitted estimators */\n",
       "  --sklearn-color-fitted-level-0: #f0f8ff;\n",
       "  --sklearn-color-fitted-level-1: #d4ebff;\n",
       "  --sklearn-color-fitted-level-2: #b3dbfd;\n",
       "  --sklearn-color-fitted-level-3: cornflowerblue;\n",
       "\n",
       "  /* Specific color for light theme */\n",
       "  --sklearn-color-text-on-default-background: var(--sg-text-color, var(--theme-code-foreground, var(--jp-content-font-color1, black)));\n",
       "  --sklearn-color-background: var(--sg-background-color, var(--theme-background, var(--jp-layout-color0, white)));\n",
       "  --sklearn-color-border-box: var(--sg-text-color, var(--theme-code-foreground, var(--jp-content-font-color1, black)));\n",
       "  --sklearn-color-icon: #696969;\n",
       "\n",
       "  @media (prefers-color-scheme: dark) {\n",
       "    /* Redefinition of color scheme for dark theme */\n",
       "    --sklearn-color-text-on-default-background: var(--sg-text-color, var(--theme-code-foreground, var(--jp-content-font-color1, white)));\n",
       "    --sklearn-color-background: var(--sg-background-color, var(--theme-background, var(--jp-layout-color0, #111)));\n",
       "    --sklearn-color-border-box: var(--sg-text-color, var(--theme-code-foreground, var(--jp-content-font-color1, white)));\n",
       "    --sklearn-color-icon: #878787;\n",
       "  }\n",
       "}\n",
       "\n",
       "#sk-container-id-1 {\n",
       "  color: var(--sklearn-color-text);\n",
       "}\n",
       "\n",
       "#sk-container-id-1 pre {\n",
       "  padding: 0;\n",
       "}\n",
       "\n",
       "#sk-container-id-1 input.sk-hidden--visually {\n",
       "  border: 0;\n",
       "  clip: rect(1px 1px 1px 1px);\n",
       "  clip: rect(1px, 1px, 1px, 1px);\n",
       "  height: 1px;\n",
       "  margin: -1px;\n",
       "  overflow: hidden;\n",
       "  padding: 0;\n",
       "  position: absolute;\n",
       "  width: 1px;\n",
       "}\n",
       "\n",
       "#sk-container-id-1 div.sk-dashed-wrapped {\n",
       "  border: 1px dashed var(--sklearn-color-line);\n",
       "  margin: 0 0.4em 0.5em 0.4em;\n",
       "  box-sizing: border-box;\n",
       "  padding-bottom: 0.4em;\n",
       "  background-color: var(--sklearn-color-background);\n",
       "}\n",
       "\n",
       "#sk-container-id-1 div.sk-container {\n",
       "  /* jupyter's `normalize.less` sets `[hidden] { display: none; }`\n",
       "     but bootstrap.min.css set `[hidden] { display: none !important; }`\n",
       "     so we also need the `!important` here to be able to override the\n",
       "     default hidden behavior on the sphinx rendered scikit-learn.org.\n",
       "     See: https://github.com/scikit-learn/scikit-learn/issues/21755 */\n",
       "  display: inline-block !important;\n",
       "  position: relative;\n",
       "}\n",
       "\n",
       "#sk-container-id-1 div.sk-text-repr-fallback {\n",
       "  display: none;\n",
       "}\n",
       "\n",
       "div.sk-parallel-item,\n",
       "div.sk-serial,\n",
       "div.sk-item {\n",
       "  /* draw centered vertical line to link estimators */\n",
       "  background-image: linear-gradient(var(--sklearn-color-text-on-default-background), var(--sklearn-color-text-on-default-background));\n",
       "  background-size: 2px 100%;\n",
       "  background-repeat: no-repeat;\n",
       "  background-position: center center;\n",
       "}\n",
       "\n",
       "/* Parallel-specific style estimator block */\n",
       "\n",
       "#sk-container-id-1 div.sk-parallel-item::after {\n",
       "  content: \"\";\n",
       "  width: 100%;\n",
       "  border-bottom: 2px solid var(--sklearn-color-text-on-default-background);\n",
       "  flex-grow: 1;\n",
       "}\n",
       "\n",
       "#sk-container-id-1 div.sk-parallel {\n",
       "  display: flex;\n",
       "  align-items: stretch;\n",
       "  justify-content: center;\n",
       "  background-color: var(--sklearn-color-background);\n",
       "  position: relative;\n",
       "}\n",
       "\n",
       "#sk-container-id-1 div.sk-parallel-item {\n",
       "  display: flex;\n",
       "  flex-direction: column;\n",
       "}\n",
       "\n",
       "#sk-container-id-1 div.sk-parallel-item:first-child::after {\n",
       "  align-self: flex-end;\n",
       "  width: 50%;\n",
       "}\n",
       "\n",
       "#sk-container-id-1 div.sk-parallel-item:last-child::after {\n",
       "  align-self: flex-start;\n",
       "  width: 50%;\n",
       "}\n",
       "\n",
       "#sk-container-id-1 div.sk-parallel-item:only-child::after {\n",
       "  width: 0;\n",
       "}\n",
       "\n",
       "/* Serial-specific style estimator block */\n",
       "\n",
       "#sk-container-id-1 div.sk-serial {\n",
       "  display: flex;\n",
       "  flex-direction: column;\n",
       "  align-items: center;\n",
       "  background-color: var(--sklearn-color-background);\n",
       "  padding-right: 1em;\n",
       "  padding-left: 1em;\n",
       "}\n",
       "\n",
       "\n",
       "/* Toggleable style: style used for estimator/Pipeline/ColumnTransformer box that is\n",
       "clickable and can be expanded/collapsed.\n",
       "- Pipeline and ColumnTransformer use this feature and define the default style\n",
       "- Estimators will overwrite some part of the style using the `sk-estimator` class\n",
       "*/\n",
       "\n",
       "/* Pipeline and ColumnTransformer style (default) */\n",
       "\n",
       "#sk-container-id-1 div.sk-toggleable {\n",
       "  /* Default theme specific background. It is overwritten whether we have a\n",
       "  specific estimator or a Pipeline/ColumnTransformer */\n",
       "  background-color: var(--sklearn-color-background);\n",
       "}\n",
       "\n",
       "/* Toggleable label */\n",
       "#sk-container-id-1 label.sk-toggleable__label {\n",
       "  cursor: pointer;\n",
       "  display: block;\n",
       "  width: 100%;\n",
       "  margin-bottom: 0;\n",
       "  padding: 0.5em;\n",
       "  box-sizing: border-box;\n",
       "  text-align: center;\n",
       "}\n",
       "\n",
       "#sk-container-id-1 label.sk-toggleable__label-arrow:before {\n",
       "  /* Arrow on the left of the label */\n",
       "  content: \"▸\";\n",
       "  float: left;\n",
       "  margin-right: 0.25em;\n",
       "  color: var(--sklearn-color-icon);\n",
       "}\n",
       "\n",
       "#sk-container-id-1 label.sk-toggleable__label-arrow:hover:before {\n",
       "  color: var(--sklearn-color-text);\n",
       "}\n",
       "\n",
       "/* Toggleable content - dropdown */\n",
       "\n",
       "#sk-container-id-1 div.sk-toggleable__content {\n",
       "  max-height: 0;\n",
       "  max-width: 0;\n",
       "  overflow: hidden;\n",
       "  text-align: left;\n",
       "  /* unfitted */\n",
       "  background-color: var(--sklearn-color-unfitted-level-0);\n",
       "}\n",
       "\n",
       "#sk-container-id-1 div.sk-toggleable__content.fitted {\n",
       "  /* fitted */\n",
       "  background-color: var(--sklearn-color-fitted-level-0);\n",
       "}\n",
       "\n",
       "#sk-container-id-1 div.sk-toggleable__content pre {\n",
       "  margin: 0.2em;\n",
       "  border-radius: 0.25em;\n",
       "  color: var(--sklearn-color-text);\n",
       "  /* unfitted */\n",
       "  background-color: var(--sklearn-color-unfitted-level-0);\n",
       "}\n",
       "\n",
       "#sk-container-id-1 div.sk-toggleable__content.fitted pre {\n",
       "  /* unfitted */\n",
       "  background-color: var(--sklearn-color-fitted-level-0);\n",
       "}\n",
       "\n",
       "#sk-container-id-1 input.sk-toggleable__control:checked~div.sk-toggleable__content {\n",
       "  /* Expand drop-down */\n",
       "  max-height: 200px;\n",
       "  max-width: 100%;\n",
       "  overflow: auto;\n",
       "}\n",
       "\n",
       "#sk-container-id-1 input.sk-toggleable__control:checked~label.sk-toggleable__label-arrow:before {\n",
       "  content: \"▾\";\n",
       "}\n",
       "\n",
       "/* Pipeline/ColumnTransformer-specific style */\n",
       "\n",
       "#sk-container-id-1 div.sk-label input.sk-toggleable__control:checked~label.sk-toggleable__label {\n",
       "  color: var(--sklearn-color-text);\n",
       "  background-color: var(--sklearn-color-unfitted-level-2);\n",
       "}\n",
       "\n",
       "#sk-container-id-1 div.sk-label.fitted input.sk-toggleable__control:checked~label.sk-toggleable__label {\n",
       "  background-color: var(--sklearn-color-fitted-level-2);\n",
       "}\n",
       "\n",
       "/* Estimator-specific style */\n",
       "\n",
       "/* Colorize estimator box */\n",
       "#sk-container-id-1 div.sk-estimator input.sk-toggleable__control:checked~label.sk-toggleable__label {\n",
       "  /* unfitted */\n",
       "  background-color: var(--sklearn-color-unfitted-level-2);\n",
       "}\n",
       "\n",
       "#sk-container-id-1 div.sk-estimator.fitted input.sk-toggleable__control:checked~label.sk-toggleable__label {\n",
       "  /* fitted */\n",
       "  background-color: var(--sklearn-color-fitted-level-2);\n",
       "}\n",
       "\n",
       "#sk-container-id-1 div.sk-label label.sk-toggleable__label,\n",
       "#sk-container-id-1 div.sk-label label {\n",
       "  /* The background is the default theme color */\n",
       "  color: var(--sklearn-color-text-on-default-background);\n",
       "}\n",
       "\n",
       "/* On hover, darken the color of the background */\n",
       "#sk-container-id-1 div.sk-label:hover label.sk-toggleable__label {\n",
       "  color: var(--sklearn-color-text);\n",
       "  background-color: var(--sklearn-color-unfitted-level-2);\n",
       "}\n",
       "\n",
       "/* Label box, darken color on hover, fitted */\n",
       "#sk-container-id-1 div.sk-label.fitted:hover label.sk-toggleable__label.fitted {\n",
       "  color: var(--sklearn-color-text);\n",
       "  background-color: var(--sklearn-color-fitted-level-2);\n",
       "}\n",
       "\n",
       "/* Estimator label */\n",
       "\n",
       "#sk-container-id-1 div.sk-label label {\n",
       "  font-family: monospace;\n",
       "  font-weight: bold;\n",
       "  display: inline-block;\n",
       "  line-height: 1.2em;\n",
       "}\n",
       "\n",
       "#sk-container-id-1 div.sk-label-container {\n",
       "  text-align: center;\n",
       "}\n",
       "\n",
       "/* Estimator-specific */\n",
       "#sk-container-id-1 div.sk-estimator {\n",
       "  font-family: monospace;\n",
       "  border: 1px dotted var(--sklearn-color-border-box);\n",
       "  border-radius: 0.25em;\n",
       "  box-sizing: border-box;\n",
       "  margin-bottom: 0.5em;\n",
       "  /* unfitted */\n",
       "  background-color: var(--sklearn-color-unfitted-level-0);\n",
       "}\n",
       "\n",
       "#sk-container-id-1 div.sk-estimator.fitted {\n",
       "  /* fitted */\n",
       "  background-color: var(--sklearn-color-fitted-level-0);\n",
       "}\n",
       "\n",
       "/* on hover */\n",
       "#sk-container-id-1 div.sk-estimator:hover {\n",
       "  /* unfitted */\n",
       "  background-color: var(--sklearn-color-unfitted-level-2);\n",
       "}\n",
       "\n",
       "#sk-container-id-1 div.sk-estimator.fitted:hover {\n",
       "  /* fitted */\n",
       "  background-color: var(--sklearn-color-fitted-level-2);\n",
       "}\n",
       "\n",
       "/* Specification for estimator info (e.g. \"i\" and \"?\") */\n",
       "\n",
       "/* Common style for \"i\" and \"?\" */\n",
       "\n",
       ".sk-estimator-doc-link,\n",
       "a:link.sk-estimator-doc-link,\n",
       "a:visited.sk-estimator-doc-link {\n",
       "  float: right;\n",
       "  font-size: smaller;\n",
       "  line-height: 1em;\n",
       "  font-family: monospace;\n",
       "  background-color: var(--sklearn-color-background);\n",
       "  border-radius: 1em;\n",
       "  height: 1em;\n",
       "  width: 1em;\n",
       "  text-decoration: none !important;\n",
       "  margin-left: 1ex;\n",
       "  /* unfitted */\n",
       "  border: var(--sklearn-color-unfitted-level-1) 1pt solid;\n",
       "  color: var(--sklearn-color-unfitted-level-1);\n",
       "}\n",
       "\n",
       ".sk-estimator-doc-link.fitted,\n",
       "a:link.sk-estimator-doc-link.fitted,\n",
       "a:visited.sk-estimator-doc-link.fitted {\n",
       "  /* fitted */\n",
       "  border: var(--sklearn-color-fitted-level-1) 1pt solid;\n",
       "  color: var(--sklearn-color-fitted-level-1);\n",
       "}\n",
       "\n",
       "/* On hover */\n",
       "div.sk-estimator:hover .sk-estimator-doc-link:hover,\n",
       ".sk-estimator-doc-link:hover,\n",
       "div.sk-label-container:hover .sk-estimator-doc-link:hover,\n",
       ".sk-estimator-doc-link:hover {\n",
       "  /* unfitted */\n",
       "  background-color: var(--sklearn-color-unfitted-level-3);\n",
       "  color: var(--sklearn-color-background);\n",
       "  text-decoration: none;\n",
       "}\n",
       "\n",
       "div.sk-estimator.fitted:hover .sk-estimator-doc-link.fitted:hover,\n",
       ".sk-estimator-doc-link.fitted:hover,\n",
       "div.sk-label-container:hover .sk-estimator-doc-link.fitted:hover,\n",
       ".sk-estimator-doc-link.fitted:hover {\n",
       "  /* fitted */\n",
       "  background-color: var(--sklearn-color-fitted-level-3);\n",
       "  color: var(--sklearn-color-background);\n",
       "  text-decoration: none;\n",
       "}\n",
       "\n",
       "/* Span, style for the box shown on hovering the info icon */\n",
       ".sk-estimator-doc-link span {\n",
       "  display: none;\n",
       "  z-index: 9999;\n",
       "  position: relative;\n",
       "  font-weight: normal;\n",
       "  right: .2ex;\n",
       "  padding: .5ex;\n",
       "  margin: .5ex;\n",
       "  width: min-content;\n",
       "  min-width: 20ex;\n",
       "  max-width: 50ex;\n",
       "  color: var(--sklearn-color-text);\n",
       "  box-shadow: 2pt 2pt 4pt #999;\n",
       "  /* unfitted */\n",
       "  background: var(--sklearn-color-unfitted-level-0);\n",
       "  border: .5pt solid var(--sklearn-color-unfitted-level-3);\n",
       "}\n",
       "\n",
       ".sk-estimator-doc-link.fitted span {\n",
       "  /* fitted */\n",
       "  background: var(--sklearn-color-fitted-level-0);\n",
       "  border: var(--sklearn-color-fitted-level-3);\n",
       "}\n",
       "\n",
       ".sk-estimator-doc-link:hover span {\n",
       "  display: block;\n",
       "}\n",
       "\n",
       "/* \"?\"-specific style due to the `<a>` HTML tag */\n",
       "\n",
       "#sk-container-id-1 a.estimator_doc_link {\n",
       "  float: right;\n",
       "  font-size: 1rem;\n",
       "  line-height: 1em;\n",
       "  font-family: monospace;\n",
       "  background-color: var(--sklearn-color-background);\n",
       "  border-radius: 1rem;\n",
       "  height: 1rem;\n",
       "  width: 1rem;\n",
       "  text-decoration: none;\n",
       "  /* unfitted */\n",
       "  color: var(--sklearn-color-unfitted-level-1);\n",
       "  border: var(--sklearn-color-unfitted-level-1) 1pt solid;\n",
       "}\n",
       "\n",
       "#sk-container-id-1 a.estimator_doc_link.fitted {\n",
       "  /* fitted */\n",
       "  border: var(--sklearn-color-fitted-level-1) 1pt solid;\n",
       "  color: var(--sklearn-color-fitted-level-1);\n",
       "}\n",
       "\n",
       "/* On hover */\n",
       "#sk-container-id-1 a.estimator_doc_link:hover {\n",
       "  /* unfitted */\n",
       "  background-color: var(--sklearn-color-unfitted-level-3);\n",
       "  color: var(--sklearn-color-background);\n",
       "  text-decoration: none;\n",
       "}\n",
       "\n",
       "#sk-container-id-1 a.estimator_doc_link.fitted:hover {\n",
       "  /* fitted */\n",
       "  background-color: var(--sklearn-color-fitted-level-3);\n",
       "}\n",
       "</style><div id=\"sk-container-id-1\" class=\"sk-top-container\"><div class=\"sk-text-repr-fallback\"><pre>NearestNeighbors(n_neighbors=3)</pre><b>In a Jupyter environment, please rerun this cell to show the HTML representation or trust the notebook. <br />On GitHub, the HTML representation is unable to render, please try loading this page with nbviewer.org.</b></div><div class=\"sk-container\" hidden><div class=\"sk-item\"><div class=\"sk-estimator fitted sk-toggleable\"><input class=\"sk-toggleable__control sk-hidden--visually\" id=\"sk-estimator-id-1\" type=\"checkbox\" checked><label for=\"sk-estimator-id-1\" class=\"sk-toggleable__label fitted sk-toggleable__label-arrow fitted\">&nbsp;&nbsp;NearestNeighbors<a class=\"sk-estimator-doc-link fitted\" rel=\"noreferrer\" target=\"_blank\" href=\"https://scikit-learn.org/1.5/modules/generated/sklearn.neighbors.NearestNeighbors.html\">?<span>Documentation for NearestNeighbors</span></a><span class=\"sk-estimator-doc-link fitted\">i<span>Fitted</span></span></label><div class=\"sk-toggleable__content fitted\"><pre>NearestNeighbors(n_neighbors=3)</pre></div> </div></div></div></div>"
      ],
      "text/plain": [
       "NearestNeighbors(n_neighbors=3)"
      ]
     },
     "execution_count": 44,
     "metadata": {},
     "output_type": "execute_result"
    }
   ],
   "source": [
    "#Fit model\n",
    "KNN.fit(X)"
   ]
  },
  {
   "cell_type": "code",
   "execution_count": 45,
   "metadata": {
    "id": "uCQGMV7RZVBr"
   },
   "outputs": [],
   "source": [
    "#Distances and indexes of k-neaighbors from model outputs\n",
    "distances, indexes = KNN.kneighbors(X)"
   ]
  },
  {
   "cell_type": "code",
   "execution_count": 46,
   "metadata": {
    "colab": {
     "base_uri": "https://localhost:8080/",
     "height": 447
    },
    "executionInfo": {
     "elapsed": 710,
     "status": "ok",
     "timestamp": 1728398084172,
     "user": {
      "displayName": "Camilla Sancricca",
      "userId": "00021980050560537453"
     },
     "user_tz": -120
    },
    "id": "WDZSku4bZU_E",
    "outputId": "6e291f63-808c-49ff-b4d3-02ea00c01856"
   },
   "outputs": [
    {
     "data": {
      "text/plain": [
       "[<matplotlib.lines.Line2D at 0x20fd2389310>]"
      ]
     },
     "execution_count": 46,
     "metadata": {},
     "output_type": "execute_result"
    },
    {
     "data": {
      "image/png": "[encoded data removed]",
      "text/plain": [
       "<Figure size 640x480 with 1 Axes>"
      ]
     },
     "metadata": {},
     "output_type": "display_data"
    }
   ],
   "source": [
    "#Plot mean of k-distances of each observation\n",
    "plt.plot(distances.mean(axis =1))"
   ]
  },
  {
   "cell_type": "code",
   "execution_count": 47,
   "metadata": {
    "colab": {
     "base_uri": "https://localhost:8080/"
    },
    "executionInfo": {
     "elapsed": 255,
     "status": "ok",
     "timestamp": 1728398086732,
     "user": {
      "displayName": "Camilla Sancricca",
      "userId": "00021980050560537453"
     },
     "user_tz": -120
    },
    "id": "OQBFfVzvZebF",
    "outputId": "92b89b28-41c3-4158-99c7-bdde90c693b0"
   },
   "outputs": [
    {
     "data": {
      "text/plain": [
       "(array([ 14,  15,  22,  41,  59,  60,  62,  64,  68,  79,  85,  87,  98,\n",
       "        100, 102, 105, 106, 108, 109, 114, 117, 118, 119, 129, 131, 134,\n",
       "        135]),)"
      ]
     },
     "execution_count": 47,
     "metadata": {},
     "output_type": "execute_result"
    }
   ],
   "source": [
    "#Visually determine cutoff values > 0.25\n",
    "OUTLIER_INDEX = np.where(distances.mean(axis = 1) > 0.25)\n",
    "OUTLIER_INDEX"
   ]
  },
  {
   "cell_type": "code",
   "execution_count": 48,
   "metadata": {
    "colab": {
     "base_uri": "https://localhost:8080/",
     "height": 896
    },
    "executionInfo": {
     "elapsed": 268,
     "status": "ok",
     "timestamp": 1728398090494,
     "user": {
      "displayName": "Camilla Sancricca",
      "userId": "00021980050560537453"
     },
     "user_tz": -120
    },
    "id": "vZv0aiDxZeX5",
    "outputId": "5d856d2c-b69b-4969-f24e-faf5c646df39"
   },
   "outputs": [
    {
     "data": {
      "text/html": [
       "<div>\n",
       "<style scoped>\n",
       "    .dataframe tbody tr th:only-of-type {\n",
       "        vertical-align: middle;\n",
       "    }\n",
       "\n",
       "    .dataframe tbody tr th {\n",
       "        vertical-align: top;\n",
       "    }\n",
       "\n",
       "    .dataframe thead th {\n",
       "        text-align: right;\n",
       "    }\n",
       "</style>\n",
       "<table border=\"1\" class=\"dataframe\">\n",
       "  <thead>\n",
       "    <tr style=\"text-align: right;\">\n",
       "      <th></th>\n",
       "      <th>sepal length (cm)</th>\n",
       "      <th>sepal width (cm)</th>\n",
       "      <th>petal length (cm)</th>\n",
       "      <th>petal width (cm)</th>\n",
       "    </tr>\n",
       "  </thead>\n",
       "  <tbody>\n",
       "    <tr>\n",
       "      <th>14</th>\n",
       "      <td>5.8</td>\n",
       "      <td>4.0</td>\n",
       "      <td>1.2</td>\n",
       "      <td>0.2</td>\n",
       "    </tr>\n",
       "    <tr>\n",
       "      <th>15</th>\n",
       "      <td>5.7</td>\n",
       "      <td>4.4</td>\n",
       "      <td>1.5</td>\n",
       "      <td>0.4</td>\n",
       "    </tr>\n",
       "    <tr>\n",
       "      <th>22</th>\n",
       "      <td>4.6</td>\n",
       "      <td>3.6</td>\n",
       "      <td>1.0</td>\n",
       "      <td>0.2</td>\n",
       "    </tr>\n",
       "    <tr>\n",
       "      <th>41</th>\n",
       "      <td>4.5</td>\n",
       "      <td>2.3</td>\n",
       "      <td>1.3</td>\n",
       "      <td>0.3</td>\n",
       "    </tr>\n",
       "    <tr>\n",
       "      <th>59</th>\n",
       "      <td>5.2</td>\n",
       "      <td>2.7</td>\n",
       "      <td>3.9</td>\n",
       "      <td>1.4</td>\n",
       "    </tr>\n",
       "    <tr>\n",
       "      <th>60</th>\n",
       "      <td>5.0</td>\n",
       "      <td>2.0</td>\n",
       "      <td>3.5</td>\n",
       "      <td>1.0</td>\n",
       "    </tr>\n",
       "    <tr>\n",
       "      <th>62</th>\n",
       "      <td>6.0</td>\n",
       "      <td>2.2</td>\n",
       "      <td>4.0</td>\n",
       "      <td>1.0</td>\n",
       "    </tr>\n",
       "    <tr>\n",
       "      <th>64</th>\n",
       "      <td>5.6</td>\n",
       "      <td>2.9</td>\n",
       "      <td>3.6</td>\n",
       "      <td>1.3</td>\n",
       "    </tr>\n",
       "    <tr>\n",
       "      <th>68</th>\n",
       "      <td>6.2</td>\n",
       "      <td>2.2</td>\n",
       "      <td>4.5</td>\n",
       "      <td>1.5</td>\n",
       "    </tr>\n",
       "    <tr>\n",
       "      <th>79</th>\n",
       "      <td>5.7</td>\n",
       "      <td>2.6</td>\n",
       "      <td>3.5</td>\n",
       "      <td>1.0</td>\n",
       "    </tr>\n",
       "    <tr>\n",
       "      <th>85</th>\n",
       "      <td>6.0</td>\n",
       "      <td>3.4</td>\n",
       "      <td>4.5</td>\n",
       "      <td>1.6</td>\n",
       "    </tr>\n",
       "    <tr>\n",
       "      <th>87</th>\n",
       "      <td>6.3</td>\n",
       "      <td>2.3</td>\n",
       "      <td>4.4</td>\n",
       "      <td>1.3</td>\n",
       "    </tr>\n",
       "    <tr>\n",
       "      <th>98</th>\n",
       "      <td>5.1</td>\n",
       "      <td>2.5</td>\n",
       "      <td>3.0</td>\n",
       "      <td>1.1</td>\n",
       "    </tr>\n",
       "    <tr>\n",
       "      <th>100</th>\n",
       "      <td>6.3</td>\n",
       "      <td>3.3</td>\n",
       "      <td>6.0</td>\n",
       "      <td>2.5</td>\n",
       "    </tr>\n",
       "    <tr>\n",
       "      <th>102</th>\n",
       "      <td>7.1</td>\n",
       "      <td>3.0</td>\n",
       "      <td>5.9</td>\n",
       "      <td>2.1</td>\n",
       "    </tr>\n",
       "    <tr>\n",
       "      <th>105</th>\n",
       "      <td>7.6</td>\n",
       "      <td>3.0</td>\n",
       "      <td>6.6</td>\n",
       "      <td>2.1</td>\n",
       "    </tr>\n",
       "    <tr>\n",
       "      <th>106</th>\n",
       "      <td>4.9</td>\n",
       "      <td>2.5</td>\n",
       "      <td>4.5</td>\n",
       "      <td>1.7</td>\n",
       "    </tr>\n",
       "    <tr>\n",
       "      <th>108</th>\n",
       "      <td>6.7</td>\n",
       "      <td>2.5</td>\n",
       "      <td>5.8</td>\n",
       "      <td>1.8</td>\n",
       "    </tr>\n",
       "    <tr>\n",
       "      <th>109</th>\n",
       "      <td>7.2</td>\n",
       "      <td>3.6</td>\n",
       "      <td>6.1</td>\n",
       "      <td>2.5</td>\n",
       "    </tr>\n",
       "    <tr>\n",
       "      <th>114</th>\n",
       "      <td>5.8</td>\n",
       "      <td>2.8</td>\n",
       "      <td>5.1</td>\n",
       "      <td>2.4</td>\n",
       "    </tr>\n",
       "    <tr>\n",
       "      <th>117</th>\n",
       "      <td>7.7</td>\n",
       "      <td>3.8</td>\n",
       "      <td>6.7</td>\n",
       "      <td>2.2</td>\n",
       "    </tr>\n",
       "    <tr>\n",
       "      <th>118</th>\n",
       "      <td>7.7</td>\n",
       "      <td>2.6</td>\n",
       "      <td>6.9</td>\n",
       "      <td>2.3</td>\n",
       "    </tr>\n",
       "    <tr>\n",
       "      <th>119</th>\n",
       "      <td>6.0</td>\n",
       "      <td>2.2</td>\n",
       "      <td>5.0</td>\n",
       "      <td>1.5</td>\n",
       "    </tr>\n",
       "    <tr>\n",
       "      <th>129</th>\n",
       "      <td>7.2</td>\n",
       "      <td>3.0</td>\n",
       "      <td>5.8</td>\n",
       "      <td>1.6</td>\n",
       "    </tr>\n",
       "    <tr>\n",
       "      <th>131</th>\n",
       "      <td>7.9</td>\n",
       "      <td>3.8</td>\n",
       "      <td>6.4</td>\n",
       "      <td>2.0</td>\n",
       "    </tr>\n",
       "    <tr>\n",
       "      <th>134</th>\n",
       "      <td>6.1</td>\n",
       "      <td>2.6</td>\n",
       "      <td>5.6</td>\n",
       "      <td>1.4</td>\n",
       "    </tr>\n",
       "    <tr>\n",
       "      <th>135</th>\n",
       "      <td>7.7</td>\n",
       "      <td>3.0</td>\n",
       "      <td>6.1</td>\n",
       "      <td>2.3</td>\n",
       "    </tr>\n",
       "  </tbody>\n",
       "</table>\n",
       "</div>"
      ],
      "text/plain": [
       "     sepal length (cm)  sepal width (cm)  petal length (cm)  petal width (cm)\n",
       "14                 5.8               4.0                1.2               0.2\n",
       "15                 5.7               4.4                1.5               0.4\n",
       "22                 4.6               3.6                1.0               0.2\n",
       "41                 4.5               2.3                1.3               0.3\n",
       "59                 5.2               2.7                3.9               1.4\n",
       "60                 5.0               2.0                3.5               1.0\n",
       "62                 6.0               2.2                4.0               1.0\n",
       "64                 5.6               2.9                3.6               1.3\n",
       "68                 6.2               2.2                4.5               1.5\n",
       "79                 5.7               2.6                3.5               1.0\n",
       "85                 6.0               3.4                4.5               1.6\n",
       "87                 6.3               2.3                4.4               1.3\n",
       "98                 5.1               2.5                3.0               1.1\n",
       "100                6.3               3.3                6.0               2.5\n",
       "102                7.1               3.0                5.9               2.1\n",
       "105                7.6               3.0                6.6               2.1\n",
       "106                4.9               2.5                4.5               1.7\n",
       "108                6.7               2.5                5.8               1.8\n",
       "109                7.2               3.6                6.1               2.5\n",
       "114                5.8               2.8                5.1               2.4\n",
       "117                7.7               3.8                6.7               2.2\n",
       "118                7.7               2.6                6.9               2.3\n",
       "119                6.0               2.2                5.0               1.5\n",
       "129                7.2               3.0                5.8               1.6\n",
       "131                7.9               3.8                6.4               2.0\n",
       "134                6.1               2.6                5.6               1.4\n",
       "135                7.7               3.0                6.1               2.3"
      ]
     },
     "execution_count": 48,
     "metadata": {},
     "output_type": "execute_result"
    }
   ],
   "source": [
    "#Filter outlier values\n",
    "OUTLIERS_VALUES = IRIS.iloc[OUTLIER_INDEX]\n",
    "OUTLIERS_VALUES"
   ]
  },
  {
   "cell_type": "code",
   "execution_count": 49,
   "metadata": {
    "colab": {
     "base_uri": "https://localhost:8080/",
     "height": 433
    },
    "executionInfo": {
     "elapsed": 287,
     "status": "ok",
     "timestamp": 1728398124685,
     "user": {
      "displayName": "Camilla Sancricca",
      "userId": "00021980050560537453"
     },
     "user_tz": -120
    },
    "id": "m9XZSAVIZeT9",
    "outputId": "e2d739f9-af07-458a-9ad4-decc530ee2e2"
   },
   "outputs": [
    {
     "data": {
      "image/png": "[encoded data removed]",
      "text/plain": [
       "<Figure size 640x480 with 1 Axes>"
      ]
     },
     "metadata": {},
     "output_type": "display_data"
    }
   ],
   "source": [
    "#Plot data\n",
    "plt.scatter(IRIS[\"sepal length (cm)\"], IRIS[\"sepal width (cm)\"], color = \"royalblue\")\n",
    "plt.scatter(OUTLIERS_VALUES[\"sepal length (cm)\"], OUTLIERS_VALUES[\"sepal width (cm)\"], color = \"hotpink\")\n",
    "plt.show()"
   ]
  },
  {
   "cell_type": "code",
   "execution_count": 50,
   "metadata": {
    "colab": {
     "base_uri": "https://localhost:8080/",
     "height": 433
    },
    "executionInfo": {
     "elapsed": 549,
     "status": "ok",
     "timestamp": 1728398280930,
     "user": {
      "displayName": "Camilla Sancricca",
      "userId": "00021980050560537453"
     },
     "user_tz": -120
    },
    "id": "WPUXigEyjoan",
    "outputId": "b54db5cf-3fd6-4c54-a8cc-35b432dd868e"
   },
   "outputs": [
    {
     "data": {
      "image/png": "[encoded data removed]",
      "text/plain": [
       "<Figure size 640x480 with 1 Axes>"
      ]
     },
     "metadata": {},
     "output_type": "display_data"
    }
   ],
   "source": [
    "### Isolation Forest\n",
    "\n",
    "model = IsolationForest(n_estimators=100, max_samples='auto', contamination=0.1, max_features=1.0)\n",
    "model.fit(X)\n",
    "prova = pd.DataFrame()\n",
    "prova['scores'] = model.decision_function(X)\n",
    "prova['anomaly'] = model.predict(X)\n",
    "anomaly = prova.loc[prova['anomaly'] == -1]\n",
    "OUTLIER_INDEX = list(anomaly.index)\n",
    "\n",
    "#Filter outlier values\n",
    "OUTLIERS_VALUES = IRIS.iloc[OUTLIER_INDEX]\n",
    "OUTLIERS_VALUES\n",
    "\n",
    "#Plot data\n",
    "plt.scatter(IRIS[\"sepal length (cm)\"], IRIS[\"sepal width (cm)\"], color = \"royalblue\")\n",
    "plt.scatter(OUTLIERS_VALUES[\"sepal length (cm)\"], OUTLIERS_VALUES[\"sepal width (cm)\"], color = \"hotpink\")\n",
    "plt.show()"
   ]
  },
  {
   "cell_type": "markdown",
   "metadata": {
    "id": "aI_xks4Japgo"
   },
   "source": [
    "  Outlier Detection using **Clustering (DBSCAN)** Algorithm"
   ]
  },
  {
   "cell_type": "code",
   "execution_count": 51,
   "metadata": {
    "colab": {
     "base_uri": "https://localhost:8080/",
     "height": 450
    },
    "executionInfo": {
     "elapsed": 618,
     "status": "ok",
     "timestamp": 1728398029574,
     "user": {
      "displayName": "Camilla Sancricca",
      "userId": "00021980050560537453"
     },
     "user_tz": -120
    },
    "id": "vjZdxb0OaLqN",
    "outputId": "9243eaf2-6183-426a-d3b0-5d1fe533acfe"
   },
   "outputs": [
    {
     "data": {
      "text/plain": [
       "<matplotlib.collections.PathCollection at 0x20fd47a2190>"
      ]
     },
     "execution_count": 51,
     "metadata": {},
     "output_type": "execute_result"
    },
    {
     "data": {
      "image/png": "[encoded data removed]",
      "text/plain": [
       "<Figure size 640x480 with 1 Axes>"
      ]
     },
     "metadata": {},
     "output_type": "display_data"
    }
   ],
   "source": [
    "#Create a set of 2000 random data like [x,y]\n",
    "random_data = np.random.randn(2000,2)\n",
    "plt.scatter(random_data[:,0], random_data[:,1], cmap='Paired')"
   ]
  },
  {
   "cell_type": "code",
   "execution_count": 52,
   "metadata": {
    "colab": {
     "base_uri": "https://localhost:8080/"
    },
    "executionInfo": {
     "elapsed": 231,
     "status": "ok",
     "timestamp": 1728398033443,
     "user": {
      "displayName": "Camilla Sancricca",
      "userId": "00021980050560537453"
     },
     "user_tz": -120
    },
    "id": "KDcP5-4vax46",
    "outputId": "c7d7e22d-6f9e-451a-f8c8-e661af034157"
   },
   "outputs": [
    {
     "data": {
      "text/plain": [
       "array([ 0, -1,  1, ..., -1,  1,  1])"
      ]
     },
     "execution_count": 52,
     "metadata": {},
     "output_type": "execute_result"
    }
   ],
   "source": [
    "#Inizialize and Fit DBSCAN Clustering Algorithm\n",
    "dbscan = DBSCAN(min_samples = 2, eps = 0.1)\n",
    "clusters = dbscan.fit_predict(random_data)\n",
    "clusters"
   ]
  },
  {
   "cell_type": "code",
   "execution_count": 53,
   "metadata": {
    "colab": {
     "base_uri": "https://localhost:8080/"
    },
    "executionInfo": {
     "elapsed": 263,
     "status": "ok",
     "timestamp": 1728398034605,
     "user": {
      "displayName": "Camilla Sancricca",
      "userId": "00021980050560537453"
     },
     "user_tz": -120
    },
    "id": "E0ezhnueaxzT",
    "outputId": "b80e82b4-4a47-4090-c59f-e5d042b830fd"
   },
   "outputs": [
    {
     "data": {
      "text/plain": [
       "204"
      ]
     },
     "execution_count": 53,
     "metadata": {},
     "output_type": "execute_result"
    }
   ],
   "source": [
    "#Founded outliers belong to the cluster -1\n",
    "clusters[clusters > -1] = 0\n",
    "list(clusters).count(-1)"
   ]
  },
  {
   "cell_type": "code",
   "execution_count": 54,
   "metadata": {
    "colab": {
     "base_uri": "https://localhost:8080/",
     "height": 469
    },
    "executionInfo": {
     "elapsed": 1135,
     "status": "ok",
     "timestamp": 1728398037307,
     "user": {
      "displayName": "Camilla Sancricca",
      "userId": "00021980050560537453"
     },
     "user_tz": -120
    },
    "id": "1MDRvO0wazp2",
    "outputId": "00dc569d-b7d1-4e77-c00a-9a52233618a2"
   },
   "outputs": [
    {
     "data": {
      "text/plain": [
       "Text(0.5, 1.0, 'DBSCAN')"
      ]
     },
     "execution_count": 54,
     "metadata": {},
     "output_type": "execute_result"
    },
    {
     "data": {
      "image/png": "[encoded data removed]",
      "text/plain": [
       "<Figure size 640x480 with 1 Axes>"
      ]
     },
     "metadata": {},
     "output_type": "display_data"
    }
   ],
   "source": [
    "#Plot data\n",
    "\n",
    "#Colormap\n",
    "colormap = np.array(['royalblue', 'hotpink'])\n",
    "\n",
    "plt.scatter(random_data[:,0], random_data[:,1],c=colormap[clusters], cmap='Paired')\n",
    "plt.title(\"DBSCAN\")"
   ]
  },
  {
   "cell_type": "markdown",
   "metadata": {
    "id": "wiFQBRcL7_SZ"
   },
   "source": [
    "**Summary**\n",
    "\n",
    "*Grubbs test:*\n",
    "\n",
    "- grubbs.min_test()\n",
    "- grubbs.max_test()\n",
    "- grubbs.min/max_test_indices()\n",
    "- grubbs.min/max_test_outliers()\n",
    "\n",
    "*Box Plots, Scatter Plots, Histograms:*\n",
    "\n",
    "- sns.boxplot()\n",
    "- plt.scatter()\n",
    "- sns.distplot()\n",
    "\n",
    "*Algorithms:*\n",
    "\n",
    "- KernelDensity()\n",
    "- LocalOutlierFactor()\n",
    "- NearestNeighbors()\n",
    "- IsolationForest()\n",
    "- DBSCAN()"
   ]
  }
 ],
 "metadata": {
  "colab": {
   "provenance": []
  },
  "kernelspec": {
   "display_name": ".venv",
   "language": "python",
   "name": "python3"
  },
  "language_info": {
   "codemirror_mode": {
    "name": "ipython",
    "version": 3
   },
   "file_extension": ".py",
   "mimetype": "text/x-python",
   "name": "python",
   "nbconvert_exporter": "python",
   "pygments_lexer": "ipython3",
   "version": "3.11.2"
  }
 },
 "nbformat": 4,
 "nbformat_minor": 0
}
