{
 "cells": [
  {
   "cell_type": "markdown",
   "metadata": {
    "id": "SQIvzR3Vi1t9"
   },
   "source": [
    "# **3. FUNCTIONAL DEPENDENCIES**"
   ]
  },
  {
   "cell_type": "markdown",
   "metadata": {
    "id": "0KEY5CGskRFT"
   },
   "source": [
    "A **Functional Dependency** (FD), written as X → Y, asserts that all pairs of records with same values in attribute combination X must also have same values in attribute Y.\n",
    "\n",
    "X → Y is a statement about a relation R: when two tuples have same value in attribute set X, the must have same values in attribute Y.\n",
    "\n",
    "***GOAL***:\n",
    "\n",
    "Given a relation R, find all minimal completely non-trivial functional dependencies, where:\n",
    "\n",
    "    Completely non-trivial FD: Attributes on Y and X are disjoint.\n",
    "\n",
    "    Minimal FD: Y does not depend on any subset of X."
   ]
  },
  {
   "cell_type": "markdown",
   "metadata": {
    "id": "zEmCUlhFl6Ky"
   },
   "source": [
    "Import libraries:"
   ]
  },
  {
   "cell_type": "code",
   "execution_count": 1,
   "metadata": {
    "colab": {
     "base_uri": "https://localhost:8080/"
    },
    "id": "1YWQrBB8hwwk",
    "outputId": "e11b7104-6473-4a4a-c6c4-8b530a86841f"
   },
   "outputs": [
    {
     "name": "stderr",
     "output_type": "stream",
     "text": [
      "Cloning into 'DATADIQ'...\n"
     ]
    }
   ],
   "source": [
    "!git clone https://github.com/camillasancricca/DATADIQ.git"
   ]
  },
  {
   "cell_type": "code",
   "execution_count": 9,
   "metadata": {
    "id": "SPGk04BCkaRK"
   },
   "outputs": [],
   "source": [
    "from DATADIQ import tane\n",
    "from DATADIQ import ctane"
   ]
  },
  {
   "cell_type": "code",
   "execution_count": null,
   "metadata": {
    "colab": {
     "base_uri": "https://localhost:8080/"
    },
    "id": "Qog_J7lckNVb",
    "outputId": "832ed953-639d-4d7c-887c-3f4bb533b728"
   },
   "outputs": [],
   "source": [
    "from google.colab import drive\n",
    "drive.mount('/content/drive')"
   ]
  },
  {
   "cell_type": "code",
   "execution_count": 10,
   "metadata": {
    "id": "Fo7b7h8AkeKy"
   },
   "outputs": [],
   "source": [
    "import sys\n",
    "sys.path.append(r'C:\\Users\\User\\Desktop\\OneDrive - Universita degli Studi Roma Tre\\Desktop\\Programming\\Data Quality\\Data-Quality-Repo\\SCRIPTS')"
   ]
  },
  {
   "cell_type": "code",
   "execution_count": 11,
   "metadata": {
    "id": "kw6INPM9ovnm"
   },
   "outputs": [],
   "source": [
    "import fdtool"
   ]
  },
  {
   "cell_type": "markdown",
   "metadata": {
    "id": "5lZna28Dkht0"
   },
   "source": [
    "**TANE**\n",
    "\n",
    "Lattice search. Two steps:\n",
    "1. Partitioning: partition data according to attribute values.\n",
    "2. Pruning: reduce column combinations every time we find a key or a superkey.\n",
    "\n",
    "        Superkey = its partition consists of singleton equivalence classes only.\n",
    "        Key = it is a superkey and no proper subset of it is a superkey."
   ]
  },
  {
   "cell_type": "code",
   "execution_count": 7,
   "metadata": {
    "colab": {
     "base_uri": "https://localhost:8080/"
    },
    "id": "ouA9MgmwkgKz",
    "outputId": "4ab7fd90-a8fe-4082-c266-e5de37d81557"
   },
   "outputs": [
    {
     "name": "stdout",
     "output_type": "stream",
     "text": [
      "List of all FDs:  [['D', 'A'], ['A', 'D'], ['BE', 'A'], ['AB', 'E'], ['CE', 'A'], ['BE', 'D'], ['BD', 'E'], ['CE', 'D']]\n",
      "Total number of FDs found:  8\n"
     ]
    }
   ],
   "source": [
    "source = \"https://raw.githubusercontent.com/camillasancricca/DATADIQ/master/TABLE.csv\"\n",
    "tane.compute(source)"
   ]
  },
  {
   "cell_type": "code",
   "execution_count": 8,
   "metadata": {
    "colab": {
     "base_uri": "https://localhost:8080/"
    },
    "id": "odQmo4OjkpDI",
    "outputId": "44305ba9-48da-4928-90e5-8f0b5c46e582"
   },
   "outputs": [
    {
     "name": "stdout",
     "output_type": "stream",
     "text": [
      "List of all FDs:  [['A', 'D'], ['A', 'I'], ['A', 'M'], ['A', 'L'], ['A', 'F'], ['A', 'C'], ['A', 'H'], ['A', 'J'], ['A', 'K'], ['A', 'E'], ['A', 'G'], ['A', 'B'], ['C', 'B'], ['CD', 'I'], ['CD', 'A'], ['CD', 'M'], ['CD', 'L'], ['CD', 'H'], ['CD', 'J'], ['CD', 'F'], ['CD', 'K'], ['CD', 'E'], ['CD', 'G'], ['DF', 'B'], ['DF', 'G'], ['DF', 'H'], ['DF', 'I'], ['DF', 'J'], ['DF', 'K'], ['DEF', 'A'], ['DEF', 'M'], ['DEF', 'L'], ['DEF', 'C'], ['DFL', 'A'], ['DFL', 'M'], ['DFL', 'C'], ['DFL', 'E'], ['DFM', 'A'], ['DFM', 'L'], ['DFM', 'C'], ['DFM', 'E'], ['BDE', 'J'], ['BDL', 'J'], ['CGJ', 'E'], ['CGL', 'E'], ['CFJ', 'H'], ['CFL', 'H'], ['CFM', 'H'], ['CFJ', 'L'], ['CGJ', 'L'], ['CJM', 'H'], ['DEK', 'J'], ['DKM', 'I'], ['DKL', 'J'], ['FJK', 'H'], ['BDIL', 'E'], ['BDJM', 'E'], ['BDLM', 'E'], ['BEFJ', 'H'], ['BFJL', 'H'], ['BFKM', 'L'], ['CFGI', 'E'], ['CFGK', 'E'], ['CEFM', 'G'], ['CEFH', 'J'], ['CEFH', 'L'], ['CEFL', 'J'], ['CEFM', 'J'], ['CEFM', 'L'], ['CGHI', 'E'], ['CGHK', 'E'], ['CGIM', 'E'], ['CGKM', 'E'], ['CFGI', 'H'], ['CFGH', 'M'], ['CFGI', 'J'], ['CFGI', 'L'], ['CFGI', 'M'], ['CFGL', 'J'], ['CFGJ', 'M'], ['CFGL', 'M'], ['CFHI', 'L'], ['CFHK', 'J'], ['CFHK', 'L'], ['CFIM', 'J'], ['CFIJ', 'M'], ['CFIM', 'L'], ['CFKL', 'J'], ['CFKM', 'J'], ['CFLM', 'J'], ['CFKM', 'L'], ['CGLM', 'H'], ['CGLM', 'J'], ['CHLM', 'J'], ['DGHL', 'E'], ['DGIL', 'E'], ['DGJM', 'E'], ['DGLM', 'E'], ['EFGJ', 'H'], ['FGJL', 'H'], ['BDEHK', 'G'], ['BDEIK', 'M'], ['BDHIK', 'G'], ['BDHKM', 'G'], ['BDGIM', 'K'], ['BDIKL', 'M'], ['BEFGJ', 'M'], ['BEFIL', 'H'], ['BEFHK', 'L'], ['BEFIJ', 'M'], ['BEFJK', 'L'], ['BFGIL', 'H'], ['BFIKM', 'H'], ['BFILM', 'H'], ['CEFHI', 'G'], ['CEFIJ', 'G'], ['CEFIK', 'G'], ['CEFIL', 'G'], ['CEFIK', 'H'], ['CEFHI', 'M'], ['CEFIK', 'J'], ['CEFIK', 'L'], ['CEFIK', 'M'], ['CEFIL', 'M'], ['CFHIK', 'M'], ['CFIKL', 'M'], ['FGILM', 'H'], ['FIKLM', 'H'], ['BEFGHI', 'L'], ['BEFGHK', 'M'], ['BEFGIJ', 'L'], ['BEFGKL', 'M'], ['BEFHIK', 'M'], ['BEFIKL', 'M'], ['BFGHIM', 'L'], ['BFGIJL', 'M'], ['EFGHIM', 'L'], ['EFGHKL', 'M'], ['EFGIJM', 'L'], ['EFGJKL', 'M'], ['EFHIKM', 'L'], ['EFIJKM', 'L']]\n",
      "Total number of FDs found:  142\n"
     ]
    }
   ],
   "source": [
    "source = \"https://raw.githubusercontent.com/camillasancricca/DATADIQ/master/BRIDGES.csv\"\n",
    "tane.compute(source)"
   ]
  },
  {
   "cell_type": "markdown",
   "metadata": {
    "id": "K-qcPrYqk1BA"
   },
   "source": [
    "**CTANE (Approximated TANE)**\n",
    "\n",
    "Definition based on minimum number of tuples to be removed from R for X → A to hold in R.\n",
    "\n",
    "Given relation R and threshold ε, find all minimal non-trivial FDs X → A such that e(X → A) ≤ ε."
   ]
  },
  {
   "cell_type": "code",
   "execution_count": 12,
   "metadata": {
    "colab": {
     "base_uri": "https://localhost:8080/"
    },
    "id": "8enx7aZVkzP1",
    "outputId": "f20c4754-8d15-4a90-b542-56ec8ec72577"
   },
   "outputs": [
    {
     "name": "stdout",
     "output_type": "stream",
     "text": [
      "List of all CFDs:  [['D', 'A', [('--',), ('--',)]], ['A', 'D', [('--',), ('--',)]], ['A', 'D', [('--',), ('2',)]], ['A', 'D', [('--',), ('1',)]], ['D', 'A', [('--',), ('0',)]], ['D', 'A', [('--',), ('4',)]], ['BE', 'A', [('--', '--'), ('--',)]], ['AB', 'E', [('--', '--'), ('--',)]], ['AB', 'E', [('--', '--'), ('0',)]], ['AB', 'E', [('--', '--'), ('2',)]], ['AB', 'E', [('--', '--'), ('4',)]], ['CE', 'A', [('--', '--'), ('--',)]], ['BE', 'A', [('--', '--'), ('0',)]], ['CE', 'A', [('--', '--'), ('0',)]], ['BE', 'A', [('--', '--'), ('4',)]], ['CE', 'A', [('--', '--'), ('4',)]], ['BE', 'D', [('--', '--'), ('--',)]], ['BD', 'E', [('--', '--'), ('--',)]], ['BD', 'E', [('--', '--'), ('0',)]], ['BD', 'E', [('--', '--'), ('2',)]], ['BD', 'E', [('--', '--'), ('4',)]], ['BE', 'D', [('--', '--'), ('2',)]], ['BE', 'D', [('--', '--'), ('1',)]], ['CE', 'D', [('--', '--'), ('--',)]], ['CE', 'D', [('--', '--'), ('2',)]], ['CE', 'D', [('--', '--'), ('1',)]]]\n",
      "Total number of CFDs found:  26\n"
     ]
    }
   ],
   "source": [
    "source = \"https://raw.githubusercontent.com/camillasancricca/DATADIQ/master/TABLE.csv\"\n",
    "ctane.compute(source,0.5)"
   ]
  },
  {
   "cell_type": "markdown",
   "metadata": {
    "id": "JlQHh8QXk9c3"
   },
   "source": [
    "**FD_MINE**\n",
    "\n",
    "*FD_Mine* is an evolution of Tane. It exploits the property of the functional dependencies in order to further prune the lattice.\n",
    "\n",
    "*Simmetry Propertiy*:\n",
    "\n",
    "    If X → Y and Y → X hold, then X and Y are equivalent candidates, denoted as X ↔ Y.\n",
    "\n",
    "*Example of Axiom*:\n",
    "\n",
    "    A→D and D→A ⇒ A↔D\n",
    "\n",
    "*Examination of FDs for A*:\n",
    "\n",
    "    AB → C (property 1)\n",
    "    BC → A (property 2)\n",
    "\n",
    "*Inferred FDs for D:*\n",
    "\n",
    "    BD → C (property 1)\n",
    "    BC → D (property 2)\n",
    "\n",
    "  ⇒ *D can be removed*"
   ]
  },
  {
   "cell_type": "code",
   "execution_count": 13,
   "metadata": {
    "colab": {
     "base_uri": "https://localhost:8080/"
    },
    "id": "WiSmQ0v5IaFj",
    "outputId": "24c69103-82a5-4f5d-82e5-7151b6da9436"
   },
   "outputs": [
    {
     "name": "stdout",
     "output_type": "stream",
     "text": [
      "\n",
      "Reading file: \n",
      "https://raw.githubusercontent.com/camillasancricca/DATADIQ/master/TABLE.csv\n",
      "\n",
      "Functional Dependencies: \n",
      "{A} -> {D}\n",
      "{D} -> {A}\n",
      "{C, E} -> {D}\n",
      "{C, E} -> {A}\n",
      "{A, B} -> {E}\n",
      "{E, B} -> {D}\n",
      "{E, B} -> {A}\n",
      "\n",
      "Equivalences: \n",
      "{A} <-> {D}\n",
      "{A, B} <-> {E, B}\n",
      "\n",
      "Time (s): 0.061\n",
      "Row count: 7\n",
      "Attribute count: 5\n",
      "Number of Equivalences: 2\n",
      "Number of FDs: 7\n",
      "Number of FDs checked: 22\n"
     ]
    }
   ],
   "source": [
    "source = \"https://raw.githubusercontent.com/camillasancricca/DATADIQ/master/TABLE.csv\"\n",
    "fdtool.main(source)"
   ]
  },
  {
   "cell_type": "code",
   "execution_count": 14,
   "metadata": {
    "colab": {
     "base_uri": "https://localhost:8080/"
    },
    "id": "tnG0UmGlk9Q0",
    "outputId": "9ee49631-02b7-401c-96f3-3145317355fa"
   },
   "outputs": [
    {
     "name": "stdout",
     "output_type": "stream",
     "text": [
      "\n",
      "Reading file: \n",
      "https://raw.githubusercontent.com/camillasancricca/DATADIQ/master/BRIDGES.csv\n",
      "\n",
      "Functional Dependencies: \n",
      "{A} -> {D}\n",
      "{A} -> {I}\n",
      "{A} -> {M}\n",
      "{A} -> {L}\n",
      "{A} -> {F}\n",
      "{A} -> {C}\n",
      "{A} -> {H}\n",
      "{A} -> {J}\n",
      "{A} -> {K}\n",
      "{A} -> {E}\n",
      "{A} -> {G}\n",
      "{A} -> {B}\n",
      "{C} -> {B}\n",
      "{D, F} -> {I}\n",
      "{D, F} -> {H}\n",
      "{D, F} -> {J}\n",
      "{D, F} -> {K}\n",
      "{D, F} -> {G}\n",
      "{D, F} -> {B}\n",
      "{D, C} -> {I}\n",
      "{D, C} -> {M}\n",
      "{D, C} -> {A}\n",
      "{D, C} -> {G}\n",
      "{D, C} -> {L}\n",
      "{D, C} -> {H}\n",
      "{D, C} -> {J}\n",
      "{D, C} -> {E}\n",
      "{D, C} -> {K}\n",
      "{D, C} -> {F}\n",
      "{D, B, L} -> {J}\n",
      "{G, L, C} -> {E}\n",
      "{M, C, J} -> {H}\n",
      "{G, C, J} -> {L}\n",
      "{G, C, J} -> {E}\n",
      "{D, B, E} -> {J}\n",
      "{D, M, K} -> {I}\n",
      "{D, L, K} -> {J}\n",
      "{D, E, K} -> {J}\n",
      "{D, M, F} -> {L}\n",
      "{D, M, F} -> {C}\n",
      "{D, M, F} -> {E}\n",
      "{D, M, F} -> {A}\n",
      "{D, L, F} -> {M}\n",
      "{D, L, F} -> {C}\n",
      "{D, L, F} -> {E}\n",
      "{D, L, F} -> {A}\n",
      "{M, C, F} -> {H}\n",
      "{L, C, F} -> {H}\n",
      "{C, J, F} -> {L}\n",
      "{C, J, F} -> {H}\n",
      "{D, E, F} -> {L}\n",
      "{D, E, F} -> {M}\n",
      "{D, E, F} -> {C}\n",
      "{D, E, F} -> {A}\n",
      "{J, K, F} -> {H}\n",
      "{M, L, H, C} -> {J}\n",
      "{I, M, C, F} -> {L}\n",
      "{I, M, C, F} -> {J}\n",
      "{M, L, C, F} -> {J}\n",
      "{I, H, C, F} -> {L}\n",
      "{I, C, J, F} -> {M}\n",
      "{M, C, F, K} -> {L}\n",
      "{M, C, F, K} -> {J}\n",
      "{L, C, F, K} -> {J}\n",
      "{H, C, F, K} -> {L}\n",
      "{H, C, F, K} -> {J}\n",
      "{M, C, F, E} -> {G}\n",
      "{M, C, F, E} -> {L}\n",
      "{M, C, F, E} -> {J}\n",
      "{L, C, F, E} -> {J}\n",
      "{H, C, F, E} -> {L}\n",
      "{H, C, F, E} -> {J}\n",
      "{D, I, L, G} -> {E}\n",
      "{D, M, L, G} -> {E}\n",
      "{D, L, H, G} -> {E}\n",
      "{I, M, C, G} -> {E}\n",
      "{M, L, C, G} -> {H}\n",
      "{M, L, C, G} -> {J}\n",
      "{I, H, C, G} -> {E}\n",
      "{D, M, J, G} -> {E}\n",
      "{I, C, F, G} -> {M}\n",
      "{I, C, F, G} -> {L}\n",
      "{I, C, F, G} -> {H}\n",
      "{I, C, F, G} -> {J}\n",
      "{I, C, F, G} -> {E}\n",
      "{L, C, F, G} -> {M}\n",
      "{L, C, F, G} -> {J}\n",
      "{H, C, F, G} -> {M}\n",
      "{L, J, F, G} -> {H}\n",
      "{C, J, F, G} -> {M}\n",
      "{M, C, K, G} -> {E}\n",
      "{H, C, K, G} -> {E}\n",
      "{C, F, K, G} -> {E}\n",
      "{J, F, E, G} -> {H}\n",
      "{D, I, L, B} -> {E}\n",
      "{D, M, L, B} -> {E}\n",
      "{D, M, J, B} -> {E}\n",
      "{L, J, F, B} -> {H}\n",
      "{M, F, K, B} -> {L}\n",
      "{J, F, E, B} -> {H}\n",
      "{I, D, B, M, G} -> {K}\n",
      "{I, D, B, L, K} -> {M}\n",
      "{I, D, B, H, K} -> {G}\n",
      "{D, B, M, H, K} -> {G}\n",
      "{I, D, B, E, K} -> {M}\n",
      "{D, B, H, E, K} -> {G}\n",
      "{I, B, M, L, F} -> {H}\n",
      "{I, B, G, L, F} -> {H}\n",
      "{I, M, G, L, F} -> {H}\n",
      "{I, B, L, E, F} -> {H}\n",
      "{I, B, J, E, F} -> {M}\n",
      "{B, G, J, E, F} -> {M}\n",
      "{I, B, M, K, F} -> {H}\n",
      "{I, M, L, K, F} -> {H}\n",
      "{B, H, E, K, F} -> {L}\n",
      "{I, C, E, K, F} -> {M}\n",
      "{I, C, E, K, F} -> {L}\n",
      "{I, C, E, K, F} -> {H}\n",
      "{I, C, E, K, F} -> {J}\n",
      "{I, C, E, K, F} -> {G}\n",
      "{B, J, E, K, F} -> {L}\n",
      "{I, M, H, F, K, E} -> {L}\n",
      "{I, M, J, F, K, E} -> {L}\n",
      "{I, M, H, F, E, G} -> {L}\n",
      "{I, M, J, F, E, G} -> {L}\n",
      "{L, H, F, K, E, G} -> {M}\n",
      "{L, J, F, K, E, G} -> {M}\n",
      "{I, L, F, K, E, B} -> {M}\n",
      "{I, H, F, K, E, B} -> {M}\n",
      "{I, M, H, F, G, B} -> {L}\n",
      "{I, L, J, F, G, B} -> {M}\n",
      "{I, H, F, E, G, B} -> {L}\n",
      "{I, J, F, E, G, B} -> {L}\n",
      "{L, F, K, E, G, B} -> {M}\n",
      "{H, F, K, E, G, B} -> {M}\n",
      "\n",
      "Equivalences: \n",
      "{D, M, F} <-> {D, L, F}\n",
      "{D, M, F} <-> {D, E, F}\n",
      "{D, L, F} <-> {D, E, F}\n",
      "{M, L, C, J} <-> {M, L, H, C}\n",
      "{I, M, C, F} <-> {I, C, J, F}\n",
      "{I, L, C, F} <-> {I, H, C, F}\n",
      "{M, C, J, F} <-> {M, L, C, F}\n",
      "{L, C, F, K} <-> {H, C, F, K}\n",
      "{C, J, F, K} <-> {L, C, F, K}\n",
      "{C, J, F, K} <-> {H, C, F, K}\n",
      "{M, C, F, E} <-> {L, C, F, G}\n",
      "{M, C, F, E} <-> {C, J, F, G}\n",
      "{L, C, F, E} <-> {H, C, F, E}\n",
      "{C, J, F, E} <-> {L, C, F, E}\n",
      "{C, J, F, E} <-> {H, C, F, E}\n",
      "{M, C, J, G} <-> {M, L, C, G}\n",
      "{M, C, F, G} <-> {H, C, F, G}\n",
      "{L, C, F, G} <-> {C, J, F, G}\n",
      "{D, M, E, B} <-> {D, M, J, B}\n",
      "{D, B, M, G, K} <-> {I, D, B, M, G}\n",
      "{D, B, M, L, K} <-> {I, D, B, L, K}\n",
      "{D, B, M, E, K} <-> {I, D, B, E, K}\n",
      "{I, G, C, K, F} <-> {I, C, E, K, F}\n",
      "{I, M, L, F, K, E} <-> {I, M, H, F, K, E}\n",
      "{I, M, L, F, E, G} <-> {I, M, H, F, E, G}\n",
      "{I, M, F, K, E, B} <-> {I, L, F, K, E, B}\n",
      "{I, M, F, K, E, B} <-> {I, H, F, K, E, B}\n",
      "{I, L, F, K, E, B} <-> {I, H, F, K, E, B}\n",
      "{I, M, L, F, G, B} <-> {I, M, H, F, G, B}\n",
      "{I, L, F, E, G, B} <-> {I, H, F, E, G, B}\n",
      "{M, F, K, E, G, B} <-> {L, F, K, E, G, B}\n",
      "\n",
      "Time (s): 80.4894\n",
      "Row count: 108\n",
      "Attribute count: 13\n",
      "Number of Equivalences: 31\n",
      "Number of FDs: 135\n",
      "Number of FDs checked: 4434\n"
     ]
    }
   ],
   "source": [
    "source = \"https://raw.githubusercontent.com/camillasancricca/DATADIQ/master/BRIDGES.csv\"\n",
    "fdtool.main(source)"
   ]
  }
 ],
 "metadata": {
  "colab": {
   "provenance": []
  },
  "kernelspec": {
   "display_name": ".venv",
   "language": "python",
   "name": "python3"
  },
  "language_info": {
   "codemirror_mode": {
    "name": "ipython",
    "version": 3
   },
   "file_extension": ".py",
   "mimetype": "text/x-python",
   "name": "python",
   "nbconvert_exporter": "python",
   "pygments_lexer": "ipython3",
   "version": "3.11.2"
  }
 },
 "nbformat": 4,
 "nbformat_minor": 0
}
