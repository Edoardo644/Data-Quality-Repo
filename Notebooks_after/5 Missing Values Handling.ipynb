{
 "cells": [
  {
   "cell_type": "markdown",
   "metadata": {
    "id": "Kag36zzT0qSC"
   },
   "source": [
    "# **DATA CLEANING**"
   ]
  },
  {
   "cell_type": "markdown",
   "metadata": {
    "id": "jm0CD8nQv-Rn"
   },
   "source": [
    "***Data cleaning*** is the process of fixing or removing incorrect, corrupted, incorrectly formatted, duplicate, or incomplete data within a dataset.\n",
    "\n",
    "**GIGO**: if data are incorrect, outcomes and algorithms are often unreliable. There is no one absolute way to establish the exact steps in the data cleaning process, it depends on the context.\n",
    "\n",
    "Tasks:\n",
    "1. Normalization/Standardization\n",
    "2. Error Detection and Correction (*e.g.,* inconsistencies, missing data, outliers)\n",
    "3. Duplicate Detection (and Data Fusion)"
   ]
  },
  {
   "cell_type": "markdown",
   "metadata": {
    "id": "l5ZxxRwZ1jz_"
   },
   "source": [
    "# **5. MISSING VALUES IMPUTATION**"
   ]
  },
  {
   "cell_type": "markdown",
   "metadata": {
    "id": "hbmrXMb1v-ia"
   },
   "source": [
    "***Data Imputation*** is the process of replacing missing data with substituted values. Missing values can introduce bias, can make some analyses difficult to be performed (even some algorithms do not support them) and decrease efficiency.\n",
    "\n",
    "Data Imputation Methods:\n",
    "\n",
    "*   SINGLE IMPUTATION\n",
    "*   ML-BASED IMPUTATION\n",
    "*   MULTIPLE IMPUTATION"
   ]
  },
  {
   "cell_type": "markdown",
   "metadata": {
    "id": "V-8djU-dw1FL"
   },
   "source": [
    "Import libraries:"
   ]
  },
  {
   "cell_type": "code",
   "execution_count": 22,
   "metadata": {
    "colab": {
     "base_uri": "https://localhost:8080/"
    },
    "executionInfo": {
     "elapsed": 497,
     "status": "ok",
     "timestamp": 1731064826518,
     "user": {
      "displayName": "Camilla Sancricca",
      "userId": "00021980050560537453"
     },
     "user_tz": -60
    },
    "id": "KtZW1SVsrA_0",
    "outputId": "aff7f159-2986-4824-a54d-68a2a8e302b9"
   },
   "outputs": [
    {
     "name": "stderr",
     "output_type": "stream",
     "text": [
      "fatal: destination path 'DATADIQ' already exists and is not an empty directory.\n"
     ]
    }
   ],
   "source": [
    "!git clone https://github.com/camillasancricca/DATADIQ.git"
   ]
  },
  {
   "cell_type": "code",
   "execution_count": 23,
   "metadata": {
    "executionInfo": {
     "elapsed": 2,
     "status": "ok",
     "timestamp": 1731064826518,
     "user": {
      "displayName": "Camilla Sancricca",
      "userId": "00021980050560537453"
     },
     "user_tz": -60
    },
    "id": "d4BNsQMzw0fa"
   },
   "outputs": [],
   "source": [
    "import pandas as pd\n",
    "import numpy as np\n",
    "import missingno as mno\n",
    "\n",
    "from sklearn import linear_model\n",
    "from sklearn import ensemble\n",
    "from sklearn.experimental import enable_iterative_imputer\n",
    "from sklearn.impute import SimpleImputer, KNNImputer, IterativeImputer\n",
    "from sklearn.compose import ColumnTransformer\n",
    "from sklearn.neighbors import KNeighborsRegressor\n",
    "\n",
    "from DATADIQ import scripts_for_E5 as s"
   ]
  },
  {
   "cell_type": "markdown",
   "metadata": {
    "id": "DnVjEHyFyOBs"
   },
   "source": [
    "Import data:"
   ]
  },
  {
   "cell_type": "code",
   "execution_count": 24,
   "metadata": {
    "colab": {
     "base_uri": "https://localhost:8080/",
     "height": 424
    },
    "executionInfo": {
     "elapsed": 419,
     "status": "ok",
     "timestamp": 1731064826935,
     "user": {
      "displayName": "Camilla Sancricca",
      "userId": "00021980050560537453"
     },
     "user_tz": -60
    },
    "id": "OnceE1rWw0ck",
    "outputId": "36ad9e79-29a1-4674-a623-6973617db42a"
   },
   "outputs": [
    {
     "data": {
      "text/html": [
       "<div>\n",
       "<style scoped>\n",
       "    .dataframe tbody tr th:only-of-type {\n",
       "        vertical-align: middle;\n",
       "    }\n",
       "\n",
       "    .dataframe tbody tr th {\n",
       "        vertical-align: top;\n",
       "    }\n",
       "\n",
       "    .dataframe thead th {\n",
       "        text-align: right;\n",
       "    }\n",
       "</style>\n",
       "<table border=\"1\" class=\"dataframe\">\n",
       "  <thead>\n",
       "    <tr style=\"text-align: right;\">\n",
       "      <th></th>\n",
       "      <th>abv</th>\n",
       "      <th>ibu</th>\n",
       "      <th>id</th>\n",
       "      <th>name</th>\n",
       "      <th>style</th>\n",
       "      <th>brewery_id</th>\n",
       "      <th>ounces</th>\n",
       "    </tr>\n",
       "  </thead>\n",
       "  <tbody>\n",
       "    <tr>\n",
       "      <th>0</th>\n",
       "      <td>0.050</td>\n",
       "      <td>NaN</td>\n",
       "      <td>1436</td>\n",
       "      <td>Pub Beer</td>\n",
       "      <td>American Pale Lager</td>\n",
       "      <td>408</td>\n",
       "      <td>12.0</td>\n",
       "    </tr>\n",
       "    <tr>\n",
       "      <th>1</th>\n",
       "      <td>66.000</td>\n",
       "      <td>NaN</td>\n",
       "      <td>2265</td>\n",
       "      <td>Devil's Cup</td>\n",
       "      <td>American Pale Ale (APA)</td>\n",
       "      <td>177</td>\n",
       "      <td>12.0</td>\n",
       "    </tr>\n",
       "    <tr>\n",
       "      <th>2</th>\n",
       "      <td>71.000</td>\n",
       "      <td>NaN</td>\n",
       "      <td>2264</td>\n",
       "      <td>Rise of the Phoenix</td>\n",
       "      <td>American IPA</td>\n",
       "      <td>177</td>\n",
       "      <td>12.0</td>\n",
       "    </tr>\n",
       "    <tr>\n",
       "      <th>3</th>\n",
       "      <td>0.090</td>\n",
       "      <td>NaN</td>\n",
       "      <td>2263</td>\n",
       "      <td>Sinister</td>\n",
       "      <td>American Double / Imperial IPA</td>\n",
       "      <td>177</td>\n",
       "      <td>12.0</td>\n",
       "    </tr>\n",
       "    <tr>\n",
       "      <th>4</th>\n",
       "      <td>75.000</td>\n",
       "      <td>NaN</td>\n",
       "      <td>2262</td>\n",
       "      <td>Sex and Candy</td>\n",
       "      <td>American IPA</td>\n",
       "      <td>177</td>\n",
       "      <td>12.0</td>\n",
       "    </tr>\n",
       "    <tr>\n",
       "      <th>...</th>\n",
       "      <td>...</td>\n",
       "      <td>...</td>\n",
       "      <td>...</td>\n",
       "      <td>...</td>\n",
       "      <td>...</td>\n",
       "      <td>...</td>\n",
       "      <td>...</td>\n",
       "    </tr>\n",
       "    <tr>\n",
       "      <th>2414</th>\n",
       "      <td>67.000</td>\n",
       "      <td>45.0</td>\n",
       "      <td>928</td>\n",
       "      <td>Belgorado</td>\n",
       "      <td>Belgian IPA</td>\n",
       "      <td>424</td>\n",
       "      <td>12.0</td>\n",
       "    </tr>\n",
       "    <tr>\n",
       "      <th>2415</th>\n",
       "      <td>0.052</td>\n",
       "      <td>NaN</td>\n",
       "      <td>807</td>\n",
       "      <td>Rail Yard Ale</td>\n",
       "      <td>American Amber / Red Ale</td>\n",
       "      <td>424</td>\n",
       "      <td>12.0</td>\n",
       "    </tr>\n",
       "    <tr>\n",
       "      <th>2416</th>\n",
       "      <td>55.000</td>\n",
       "      <td>NaN</td>\n",
       "      <td>620</td>\n",
       "      <td>B3K Black Lager</td>\n",
       "      <td>Schwarzbier</td>\n",
       "      <td>424</td>\n",
       "      <td>12.0</td>\n",
       "    </tr>\n",
       "    <tr>\n",
       "      <th>2417</th>\n",
       "      <td>55.000</td>\n",
       "      <td>40.0</td>\n",
       "      <td>145</td>\n",
       "      <td>Silverback Pale Ale</td>\n",
       "      <td>American Pale Ale (APA)</td>\n",
       "      <td>424</td>\n",
       "      <td>12.0</td>\n",
       "    </tr>\n",
       "    <tr>\n",
       "      <th>2418</th>\n",
       "      <td>0.052</td>\n",
       "      <td>NaN</td>\n",
       "      <td>84</td>\n",
       "      <td>Rail Yard Ale (2009)</td>\n",
       "      <td>American Amber / Red Ale</td>\n",
       "      <td>424</td>\n",
       "      <td>12.0</td>\n",
       "    </tr>\n",
       "  </tbody>\n",
       "</table>\n",
       "<p>2419 rows × 7 columns</p>\n",
       "</div>"
      ],
      "text/plain": [
       "         abv   ibu    id                  name  \\\n",
       "0      0.050   NaN  1436              Pub Beer   \n",
       "1     66.000   NaN  2265           Devil's Cup   \n",
       "2     71.000   NaN  2264   Rise of the Phoenix   \n",
       "3      0.090   NaN  2263              Sinister   \n",
       "4     75.000   NaN  2262         Sex and Candy   \n",
       "...      ...   ...   ...                   ...   \n",
       "2414  67.000  45.0   928             Belgorado   \n",
       "2415   0.052   NaN   807         Rail Yard Ale   \n",
       "2416  55.000   NaN   620       B3K Black Lager   \n",
       "2417  55.000  40.0   145   Silverback Pale Ale   \n",
       "2418   0.052   NaN    84  Rail Yard Ale (2009)   \n",
       "\n",
       "                               style brewery_id  ounces  \n",
       "0                American Pale Lager        408    12.0  \n",
       "1            American Pale Ale (APA)        177    12.0  \n",
       "2                       American IPA        177    12.0  \n",
       "3     American Double / Imperial IPA        177    12.0  \n",
       "4                       American IPA        177    12.0  \n",
       "...                              ...        ...     ...  \n",
       "2414                     Belgian IPA        424    12.0  \n",
       "2415        American Amber / Red Ale        424    12.0  \n",
       "2416                     Schwarzbier        424    12.0  \n",
       "2417         American Pale Ale (APA)        424    12.0  \n",
       "2418        American Amber / Red Ale        424    12.0  \n",
       "\n",
       "[2419 rows x 7 columns]"
      ]
     },
     "execution_count": 24,
     "metadata": {},
     "output_type": "execute_result"
    }
   ],
   "source": [
    "BEERS = pd.read_csv(\"https://raw.githubusercontent.com/camillasancricca/DATADIQ/master/BEERS.csv\")\n",
    "BEERS"
   ]
  },
  {
   "cell_type": "markdown",
   "metadata": {
    "id": "2ePNXYD852mh"
   },
   "source": [
    "**1. SINGLE IMPUTATION**\n",
    "\n",
    "  - Replace with *standard values*\n",
    "  - *Propagate* the last/next valid observation\n",
    "  - *Replace* with the mean, median, standard deviation, most frequent value"
   ]
  },
  {
   "cell_type": "code",
   "execution_count": 25,
   "metadata": {
    "colab": {
     "base_uri": "https://localhost:8080/",
     "height": 304
    },
    "executionInfo": {
     "elapsed": 7,
     "status": "ok",
     "timestamp": 1731064826935,
     "user": {
      "displayName": "Camilla Sancricca",
      "userId": "00021980050560537453"
     },
     "user_tz": -60
    },
    "id": "Nlv3FYeBw0Z_",
    "outputId": "3f9bf4f1-c015-4664-cad5-deb0d77aa32a"
   },
   "outputs": [
    {
     "data": {
      "text/plain": [
       "abv             62\n",
       "ibu           1007\n",
       "id               0\n",
       "name             0\n",
       "style            5\n",
       "brewery_id       0\n",
       "ounces           0\n",
       "dtype: int64"
      ]
     },
     "execution_count": 25,
     "metadata": {},
     "output_type": "execute_result"
    }
   ],
   "source": [
    "BEERS.isnull().sum()"
   ]
  },
  {
   "cell_type": "code",
   "execution_count": 26,
   "metadata": {
    "colab": {
     "base_uri": "https://localhost:8080/",
     "height": 424
    },
    "executionInfo": {
     "elapsed": 6,
     "status": "ok",
     "timestamp": 1731064826935,
     "user": {
      "displayName": "Camilla Sancricca",
      "userId": "00021980050560537453"
     },
     "user_tz": -60
    },
    "id": "Bs4AHs9hw0Jy",
    "outputId": "5c514b07-8b48-4477-f009-d1c191e3528d"
   },
   "outputs": [
    {
     "data": {
      "text/html": [
       "<div>\n",
       "<style scoped>\n",
       "    .dataframe tbody tr th:only-of-type {\n",
       "        vertical-align: middle;\n",
       "    }\n",
       "\n",
       "    .dataframe tbody tr th {\n",
       "        vertical-align: top;\n",
       "    }\n",
       "\n",
       "    .dataframe thead th {\n",
       "        text-align: right;\n",
       "    }\n",
       "</style>\n",
       "<table border=\"1\" class=\"dataframe\">\n",
       "  <thead>\n",
       "    <tr style=\"text-align: right;\">\n",
       "      <th></th>\n",
       "      <th>abv</th>\n",
       "      <th>ibu</th>\n",
       "      <th>id</th>\n",
       "      <th>name</th>\n",
       "      <th>style</th>\n",
       "      <th>brewery_id</th>\n",
       "      <th>ounces</th>\n",
       "    </tr>\n",
       "  </thead>\n",
       "  <tbody>\n",
       "    <tr>\n",
       "      <th>0</th>\n",
       "      <td>0.050</td>\n",
       "      <td>0.0</td>\n",
       "      <td>1436</td>\n",
       "      <td>Pub Beer</td>\n",
       "      <td>American Pale Lager</td>\n",
       "      <td>408</td>\n",
       "      <td>12.0</td>\n",
       "    </tr>\n",
       "    <tr>\n",
       "      <th>1</th>\n",
       "      <td>66.000</td>\n",
       "      <td>0.0</td>\n",
       "      <td>2265</td>\n",
       "      <td>Devil's Cup</td>\n",
       "      <td>American Pale Ale (APA)</td>\n",
       "      <td>177</td>\n",
       "      <td>12.0</td>\n",
       "    </tr>\n",
       "    <tr>\n",
       "      <th>2</th>\n",
       "      <td>71.000</td>\n",
       "      <td>0.0</td>\n",
       "      <td>2264</td>\n",
       "      <td>Rise of the Phoenix</td>\n",
       "      <td>American IPA</td>\n",
       "      <td>177</td>\n",
       "      <td>12.0</td>\n",
       "    </tr>\n",
       "    <tr>\n",
       "      <th>3</th>\n",
       "      <td>0.090</td>\n",
       "      <td>0.0</td>\n",
       "      <td>2263</td>\n",
       "      <td>Sinister</td>\n",
       "      <td>American Double / Imperial IPA</td>\n",
       "      <td>177</td>\n",
       "      <td>12.0</td>\n",
       "    </tr>\n",
       "    <tr>\n",
       "      <th>4</th>\n",
       "      <td>75.000</td>\n",
       "      <td>0.0</td>\n",
       "      <td>2262</td>\n",
       "      <td>Sex and Candy</td>\n",
       "      <td>American IPA</td>\n",
       "      <td>177</td>\n",
       "      <td>12.0</td>\n",
       "    </tr>\n",
       "    <tr>\n",
       "      <th>...</th>\n",
       "      <td>...</td>\n",
       "      <td>...</td>\n",
       "      <td>...</td>\n",
       "      <td>...</td>\n",
       "      <td>...</td>\n",
       "      <td>...</td>\n",
       "      <td>...</td>\n",
       "    </tr>\n",
       "    <tr>\n",
       "      <th>2414</th>\n",
       "      <td>67.000</td>\n",
       "      <td>45.0</td>\n",
       "      <td>928</td>\n",
       "      <td>Belgorado</td>\n",
       "      <td>Belgian IPA</td>\n",
       "      <td>424</td>\n",
       "      <td>12.0</td>\n",
       "    </tr>\n",
       "    <tr>\n",
       "      <th>2415</th>\n",
       "      <td>0.052</td>\n",
       "      <td>0.0</td>\n",
       "      <td>807</td>\n",
       "      <td>Rail Yard Ale</td>\n",
       "      <td>American Amber / Red Ale</td>\n",
       "      <td>424</td>\n",
       "      <td>12.0</td>\n",
       "    </tr>\n",
       "    <tr>\n",
       "      <th>2416</th>\n",
       "      <td>55.000</td>\n",
       "      <td>0.0</td>\n",
       "      <td>620</td>\n",
       "      <td>B3K Black Lager</td>\n",
       "      <td>Schwarzbier</td>\n",
       "      <td>424</td>\n",
       "      <td>12.0</td>\n",
       "    </tr>\n",
       "    <tr>\n",
       "      <th>2417</th>\n",
       "      <td>55.000</td>\n",
       "      <td>40.0</td>\n",
       "      <td>145</td>\n",
       "      <td>Silverback Pale Ale</td>\n",
       "      <td>American Pale Ale (APA)</td>\n",
       "      <td>424</td>\n",
       "      <td>12.0</td>\n",
       "    </tr>\n",
       "    <tr>\n",
       "      <th>2418</th>\n",
       "      <td>0.052</td>\n",
       "      <td>0.0</td>\n",
       "      <td>84</td>\n",
       "      <td>Rail Yard Ale (2009)</td>\n",
       "      <td>American Amber / Red Ale</td>\n",
       "      <td>424</td>\n",
       "      <td>12.0</td>\n",
       "    </tr>\n",
       "  </tbody>\n",
       "</table>\n",
       "<p>2419 rows × 7 columns</p>\n",
       "</div>"
      ],
      "text/plain": [
       "         abv   ibu    id                  name  \\\n",
       "0      0.050   0.0  1436              Pub Beer   \n",
       "1     66.000   0.0  2265           Devil's Cup   \n",
       "2     71.000   0.0  2264   Rise of the Phoenix   \n",
       "3      0.090   0.0  2263              Sinister   \n",
       "4     75.000   0.0  2262         Sex and Candy   \n",
       "...      ...   ...   ...                   ...   \n",
       "2414  67.000  45.0   928             Belgorado   \n",
       "2415   0.052   0.0   807         Rail Yard Ale   \n",
       "2416  55.000   0.0   620       B3K Black Lager   \n",
       "2417  55.000  40.0   145   Silverback Pale Ale   \n",
       "2418   0.052   0.0    84  Rail Yard Ale (2009)   \n",
       "\n",
       "                               style brewery_id  ounces  \n",
       "0                American Pale Lager        408    12.0  \n",
       "1            American Pale Ale (APA)        177    12.0  \n",
       "2                       American IPA        177    12.0  \n",
       "3     American Double / Imperial IPA        177    12.0  \n",
       "4                       American IPA        177    12.0  \n",
       "...                              ...        ...     ...  \n",
       "2414                     Belgian IPA        424    12.0  \n",
       "2415        American Amber / Red Ale        424    12.0  \n",
       "2416                     Schwarzbier        424    12.0  \n",
       "2417         American Pale Ale (APA)        424    12.0  \n",
       "2418        American Amber / Red Ale        424    12.0  \n",
       "\n",
       "[2419 rows x 7 columns]"
      ]
     },
     "execution_count": 26,
     "metadata": {},
     "output_type": "execute_result"
    }
   ],
   "source": [
    "BEERS.fillna(0)"
   ]
  },
  {
   "cell_type": "code",
   "execution_count": 27,
   "metadata": {
    "colab": {
     "base_uri": "https://localhost:8080/",
     "height": 424
    },
    "executionInfo": {
     "elapsed": 6,
     "status": "ok",
     "timestamp": 1731064826935,
     "user": {
      "displayName": "Camilla Sancricca",
      "userId": "00021980050560537453"
     },
     "user_tz": -60
    },
    "id": "Dw45RAx1wz-a",
    "outputId": "43a4f040-c9a3-45ac-e873-336f1cbff5f4"
   },
   "outputs": [
    {
     "data": {
      "text/html": [
       "<div>\n",
       "<style scoped>\n",
       "    .dataframe tbody tr th:only-of-type {\n",
       "        vertical-align: middle;\n",
       "    }\n",
       "\n",
       "    .dataframe tbody tr th {\n",
       "        vertical-align: top;\n",
       "    }\n",
       "\n",
       "    .dataframe thead th {\n",
       "        text-align: right;\n",
       "    }\n",
       "</style>\n",
       "<table border=\"1\" class=\"dataframe\">\n",
       "  <thead>\n",
       "    <tr style=\"text-align: right;\">\n",
       "      <th></th>\n",
       "      <th>abv</th>\n",
       "      <th>ibu</th>\n",
       "      <th>id</th>\n",
       "      <th>name</th>\n",
       "      <th>style</th>\n",
       "      <th>brewery_id</th>\n",
       "      <th>ounces</th>\n",
       "    </tr>\n",
       "  </thead>\n",
       "  <tbody>\n",
       "    <tr>\n",
       "      <th>0</th>\n",
       "      <td>0.05</td>\n",
       "      <td>missing</td>\n",
       "      <td>1436</td>\n",
       "      <td>Pub Beer</td>\n",
       "      <td>American Pale Lager</td>\n",
       "      <td>408</td>\n",
       "      <td>12.0</td>\n",
       "    </tr>\n",
       "    <tr>\n",
       "      <th>1</th>\n",
       "      <td>66.0</td>\n",
       "      <td>missing</td>\n",
       "      <td>2265</td>\n",
       "      <td>Devil's Cup</td>\n",
       "      <td>American Pale Ale (APA)</td>\n",
       "      <td>177</td>\n",
       "      <td>12.0</td>\n",
       "    </tr>\n",
       "    <tr>\n",
       "      <th>2</th>\n",
       "      <td>71.0</td>\n",
       "      <td>missing</td>\n",
       "      <td>2264</td>\n",
       "      <td>Rise of the Phoenix</td>\n",
       "      <td>American IPA</td>\n",
       "      <td>177</td>\n",
       "      <td>12.0</td>\n",
       "    </tr>\n",
       "    <tr>\n",
       "      <th>3</th>\n",
       "      <td>0.09</td>\n",
       "      <td>missing</td>\n",
       "      <td>2263</td>\n",
       "      <td>Sinister</td>\n",
       "      <td>American Double / Imperial IPA</td>\n",
       "      <td>177</td>\n",
       "      <td>12.0</td>\n",
       "    </tr>\n",
       "    <tr>\n",
       "      <th>4</th>\n",
       "      <td>75.0</td>\n",
       "      <td>missing</td>\n",
       "      <td>2262</td>\n",
       "      <td>Sex and Candy</td>\n",
       "      <td>American IPA</td>\n",
       "      <td>177</td>\n",
       "      <td>12.0</td>\n",
       "    </tr>\n",
       "    <tr>\n",
       "      <th>...</th>\n",
       "      <td>...</td>\n",
       "      <td>...</td>\n",
       "      <td>...</td>\n",
       "      <td>...</td>\n",
       "      <td>...</td>\n",
       "      <td>...</td>\n",
       "      <td>...</td>\n",
       "    </tr>\n",
       "    <tr>\n",
       "      <th>2414</th>\n",
       "      <td>67.0</td>\n",
       "      <td>45.0</td>\n",
       "      <td>928</td>\n",
       "      <td>Belgorado</td>\n",
       "      <td>Belgian IPA</td>\n",
       "      <td>424</td>\n",
       "      <td>12.0</td>\n",
       "    </tr>\n",
       "    <tr>\n",
       "      <th>2415</th>\n",
       "      <td>0.052</td>\n",
       "      <td>missing</td>\n",
       "      <td>807</td>\n",
       "      <td>Rail Yard Ale</td>\n",
       "      <td>American Amber / Red Ale</td>\n",
       "      <td>424</td>\n",
       "      <td>12.0</td>\n",
       "    </tr>\n",
       "    <tr>\n",
       "      <th>2416</th>\n",
       "      <td>55.0</td>\n",
       "      <td>missing</td>\n",
       "      <td>620</td>\n",
       "      <td>B3K Black Lager</td>\n",
       "      <td>Schwarzbier</td>\n",
       "      <td>424</td>\n",
       "      <td>12.0</td>\n",
       "    </tr>\n",
       "    <tr>\n",
       "      <th>2417</th>\n",
       "      <td>55.0</td>\n",
       "      <td>40.0</td>\n",
       "      <td>145</td>\n",
       "      <td>Silverback Pale Ale</td>\n",
       "      <td>American Pale Ale (APA)</td>\n",
       "      <td>424</td>\n",
       "      <td>12.0</td>\n",
       "    </tr>\n",
       "    <tr>\n",
       "      <th>2418</th>\n",
       "      <td>0.052</td>\n",
       "      <td>missing</td>\n",
       "      <td>84</td>\n",
       "      <td>Rail Yard Ale (2009)</td>\n",
       "      <td>American Amber / Red Ale</td>\n",
       "      <td>424</td>\n",
       "      <td>12.0</td>\n",
       "    </tr>\n",
       "  </tbody>\n",
       "</table>\n",
       "<p>2419 rows × 7 columns</p>\n",
       "</div>"
      ],
      "text/plain": [
       "        abv      ibu    id                  name  \\\n",
       "0      0.05  missing  1436              Pub Beer   \n",
       "1      66.0  missing  2265           Devil's Cup   \n",
       "2      71.0  missing  2264   Rise of the Phoenix   \n",
       "3      0.09  missing  2263              Sinister   \n",
       "4      75.0  missing  2262         Sex and Candy   \n",
       "...     ...      ...   ...                   ...   \n",
       "2414   67.0     45.0   928             Belgorado   \n",
       "2415  0.052  missing   807         Rail Yard Ale   \n",
       "2416   55.0  missing   620       B3K Black Lager   \n",
       "2417   55.0     40.0   145   Silverback Pale Ale   \n",
       "2418  0.052  missing    84  Rail Yard Ale (2009)   \n",
       "\n",
       "                               style brewery_id  ounces  \n",
       "0                American Pale Lager        408    12.0  \n",
       "1            American Pale Ale (APA)        177    12.0  \n",
       "2                       American IPA        177    12.0  \n",
       "3     American Double / Imperial IPA        177    12.0  \n",
       "4                       American IPA        177    12.0  \n",
       "...                              ...        ...     ...  \n",
       "2414                     Belgian IPA        424    12.0  \n",
       "2415        American Amber / Red Ale        424    12.0  \n",
       "2416                     Schwarzbier        424    12.0  \n",
       "2417         American Pale Ale (APA)        424    12.0  \n",
       "2418        American Amber / Red Ale        424    12.0  \n",
       "\n",
       "[2419 rows x 7 columns]"
      ]
     },
     "execution_count": 27,
     "metadata": {},
     "output_type": "execute_result"
    }
   ],
   "source": [
    "BEERS.fillna(\"missing\")"
   ]
  },
  {
   "cell_type": "code",
   "execution_count": 28,
   "metadata": {
    "colab": {
     "base_uri": "https://localhost:8080/",
     "height": 424
    },
    "executionInfo": {
     "elapsed": 7,
     "status": "ok",
     "timestamp": 1731064826936,
     "user": {
      "displayName": "Camilla Sancricca",
      "userId": "00021980050560537453"
     },
     "user_tz": -60
    },
    "id": "UIm1811qyV68",
    "outputId": "5b5fb877-ed2e-441a-ce69-5b1a5e0e07e9"
   },
   "outputs": [
    {
     "data": {
      "text/html": [
       "<div>\n",
       "<style scoped>\n",
       "    .dataframe tbody tr th:only-of-type {\n",
       "        vertical-align: middle;\n",
       "    }\n",
       "\n",
       "    .dataframe tbody tr th {\n",
       "        vertical-align: top;\n",
       "    }\n",
       "\n",
       "    .dataframe thead th {\n",
       "        text-align: right;\n",
       "    }\n",
       "</style>\n",
       "<table border=\"1\" class=\"dataframe\">\n",
       "  <thead>\n",
       "    <tr style=\"text-align: right;\">\n",
       "      <th></th>\n",
       "      <th>abv</th>\n",
       "      <th>ibu</th>\n",
       "      <th>id</th>\n",
       "      <th>name</th>\n",
       "      <th>style</th>\n",
       "      <th>brewery_id</th>\n",
       "      <th>ounces</th>\n",
       "    </tr>\n",
       "  </thead>\n",
       "  <tbody>\n",
       "    <tr>\n",
       "      <th>0</th>\n",
       "      <td>0.050</td>\n",
       "      <td>NaN</td>\n",
       "      <td>1436</td>\n",
       "      <td>Pub Beer</td>\n",
       "      <td>American Pale Lager</td>\n",
       "      <td>408</td>\n",
       "      <td>12.0</td>\n",
       "    </tr>\n",
       "    <tr>\n",
       "      <th>1</th>\n",
       "      <td>66.000</td>\n",
       "      <td>NaN</td>\n",
       "      <td>2265</td>\n",
       "      <td>Devil's Cup</td>\n",
       "      <td>American Pale Ale (APA)</td>\n",
       "      <td>177</td>\n",
       "      <td>12.0</td>\n",
       "    </tr>\n",
       "    <tr>\n",
       "      <th>2</th>\n",
       "      <td>71.000</td>\n",
       "      <td>NaN</td>\n",
       "      <td>2264</td>\n",
       "      <td>Rise of the Phoenix</td>\n",
       "      <td>American IPA</td>\n",
       "      <td>177</td>\n",
       "      <td>12.0</td>\n",
       "    </tr>\n",
       "    <tr>\n",
       "      <th>3</th>\n",
       "      <td>0.090</td>\n",
       "      <td>NaN</td>\n",
       "      <td>2263</td>\n",
       "      <td>Sinister</td>\n",
       "      <td>American Double / Imperial IPA</td>\n",
       "      <td>177</td>\n",
       "      <td>12.0</td>\n",
       "    </tr>\n",
       "    <tr>\n",
       "      <th>4</th>\n",
       "      <td>75.000</td>\n",
       "      <td>NaN</td>\n",
       "      <td>2262</td>\n",
       "      <td>Sex and Candy</td>\n",
       "      <td>American IPA</td>\n",
       "      <td>177</td>\n",
       "      <td>12.0</td>\n",
       "    </tr>\n",
       "    <tr>\n",
       "      <th>...</th>\n",
       "      <td>...</td>\n",
       "      <td>...</td>\n",
       "      <td>...</td>\n",
       "      <td>...</td>\n",
       "      <td>...</td>\n",
       "      <td>...</td>\n",
       "      <td>...</td>\n",
       "    </tr>\n",
       "    <tr>\n",
       "      <th>2414</th>\n",
       "      <td>67.000</td>\n",
       "      <td>45.0</td>\n",
       "      <td>928</td>\n",
       "      <td>Belgorado</td>\n",
       "      <td>Belgian IPA</td>\n",
       "      <td>424</td>\n",
       "      <td>12.0</td>\n",
       "    </tr>\n",
       "    <tr>\n",
       "      <th>2415</th>\n",
       "      <td>0.052</td>\n",
       "      <td>45.0</td>\n",
       "      <td>807</td>\n",
       "      <td>Rail Yard Ale</td>\n",
       "      <td>American Amber / Red Ale</td>\n",
       "      <td>424</td>\n",
       "      <td>12.0</td>\n",
       "    </tr>\n",
       "    <tr>\n",
       "      <th>2416</th>\n",
       "      <td>55.000</td>\n",
       "      <td>45.0</td>\n",
       "      <td>620</td>\n",
       "      <td>B3K Black Lager</td>\n",
       "      <td>Schwarzbier</td>\n",
       "      <td>424</td>\n",
       "      <td>12.0</td>\n",
       "    </tr>\n",
       "    <tr>\n",
       "      <th>2417</th>\n",
       "      <td>55.000</td>\n",
       "      <td>40.0</td>\n",
       "      <td>145</td>\n",
       "      <td>Silverback Pale Ale</td>\n",
       "      <td>American Pale Ale (APA)</td>\n",
       "      <td>424</td>\n",
       "      <td>12.0</td>\n",
       "    </tr>\n",
       "    <tr>\n",
       "      <th>2418</th>\n",
       "      <td>0.052</td>\n",
       "      <td>40.0</td>\n",
       "      <td>84</td>\n",
       "      <td>Rail Yard Ale (2009)</td>\n",
       "      <td>American Amber / Red Ale</td>\n",
       "      <td>424</td>\n",
       "      <td>12.0</td>\n",
       "    </tr>\n",
       "  </tbody>\n",
       "</table>\n",
       "<p>2419 rows × 7 columns</p>\n",
       "</div>"
      ],
      "text/plain": [
       "         abv   ibu    id                  name  \\\n",
       "0      0.050   NaN  1436              Pub Beer   \n",
       "1     66.000   NaN  2265           Devil's Cup   \n",
       "2     71.000   NaN  2264   Rise of the Phoenix   \n",
       "3      0.090   NaN  2263              Sinister   \n",
       "4     75.000   NaN  2262         Sex and Candy   \n",
       "...      ...   ...   ...                   ...   \n",
       "2414  67.000  45.0   928             Belgorado   \n",
       "2415   0.052  45.0   807         Rail Yard Ale   \n",
       "2416  55.000  45.0   620       B3K Black Lager   \n",
       "2417  55.000  40.0   145   Silverback Pale Ale   \n",
       "2418   0.052  40.0    84  Rail Yard Ale (2009)   \n",
       "\n",
       "                               style brewery_id  ounces  \n",
       "0                American Pale Lager        408    12.0  \n",
       "1            American Pale Ale (APA)        177    12.0  \n",
       "2                       American IPA        177    12.0  \n",
       "3     American Double / Imperial IPA        177    12.0  \n",
       "4                       American IPA        177    12.0  \n",
       "...                              ...        ...     ...  \n",
       "2414                     Belgian IPA        424    12.0  \n",
       "2415        American Amber / Red Ale        424    12.0  \n",
       "2416                     Schwarzbier        424    12.0  \n",
       "2417         American Pale Ale (APA)        424    12.0  \n",
       "2418        American Amber / Red Ale        424    12.0  \n",
       "\n",
       "[2419 rows x 7 columns]"
      ]
     },
     "execution_count": 28,
     "metadata": {},
     "output_type": "execute_result"
    }
   ],
   "source": [
    "BEERS.fillna(method=\"ffill\") #or BEERS.ffill()"
   ]
  },
  {
   "cell_type": "code",
   "execution_count": 29,
   "metadata": {
    "colab": {
     "base_uri": "https://localhost:8080/",
     "height": 424
    },
    "executionInfo": {
     "elapsed": 6,
     "status": "ok",
     "timestamp": 1731064826936,
     "user": {
      "displayName": "Camilla Sancricca",
      "userId": "00021980050560537453"
     },
     "user_tz": -60
    },
    "id": "Ya15irLLyV31",
    "outputId": "8b0ac718-1ce0-4ffb-8063-a9858ca443ec"
   },
   "outputs": [
    {
     "data": {
      "text/html": [
       "<div>\n",
       "<style scoped>\n",
       "    .dataframe tbody tr th:only-of-type {\n",
       "        vertical-align: middle;\n",
       "    }\n",
       "\n",
       "    .dataframe tbody tr th {\n",
       "        vertical-align: top;\n",
       "    }\n",
       "\n",
       "    .dataframe thead th {\n",
       "        text-align: right;\n",
       "    }\n",
       "</style>\n",
       "<table border=\"1\" class=\"dataframe\">\n",
       "  <thead>\n",
       "    <tr style=\"text-align: right;\">\n",
       "      <th></th>\n",
       "      <th>abv</th>\n",
       "      <th>ibu</th>\n",
       "      <th>id</th>\n",
       "      <th>name</th>\n",
       "      <th>style</th>\n",
       "      <th>brewery_id</th>\n",
       "      <th>ounces</th>\n",
       "    </tr>\n",
       "  </thead>\n",
       "  <tbody>\n",
       "    <tr>\n",
       "      <th>0</th>\n",
       "      <td>0.050</td>\n",
       "      <td>60.0</td>\n",
       "      <td>1436</td>\n",
       "      <td>Pub Beer</td>\n",
       "      <td>American Pale Lager</td>\n",
       "      <td>408</td>\n",
       "      <td>12.0</td>\n",
       "    </tr>\n",
       "    <tr>\n",
       "      <th>1</th>\n",
       "      <td>66.000</td>\n",
       "      <td>60.0</td>\n",
       "      <td>2265</td>\n",
       "      <td>Devil's Cup</td>\n",
       "      <td>American Pale Ale (APA)</td>\n",
       "      <td>177</td>\n",
       "      <td>12.0</td>\n",
       "    </tr>\n",
       "    <tr>\n",
       "      <th>2</th>\n",
       "      <td>71.000</td>\n",
       "      <td>60.0</td>\n",
       "      <td>2264</td>\n",
       "      <td>Rise of the Phoenix</td>\n",
       "      <td>American IPA</td>\n",
       "      <td>177</td>\n",
       "      <td>12.0</td>\n",
       "    </tr>\n",
       "    <tr>\n",
       "      <th>3</th>\n",
       "      <td>0.090</td>\n",
       "      <td>60.0</td>\n",
       "      <td>2263</td>\n",
       "      <td>Sinister</td>\n",
       "      <td>American Double / Imperial IPA</td>\n",
       "      <td>177</td>\n",
       "      <td>12.0</td>\n",
       "    </tr>\n",
       "    <tr>\n",
       "      <th>4</th>\n",
       "      <td>75.000</td>\n",
       "      <td>60.0</td>\n",
       "      <td>2262</td>\n",
       "      <td>Sex and Candy</td>\n",
       "      <td>American IPA</td>\n",
       "      <td>177</td>\n",
       "      <td>12.0</td>\n",
       "    </tr>\n",
       "    <tr>\n",
       "      <th>...</th>\n",
       "      <td>...</td>\n",
       "      <td>...</td>\n",
       "      <td>...</td>\n",
       "      <td>...</td>\n",
       "      <td>...</td>\n",
       "      <td>...</td>\n",
       "      <td>...</td>\n",
       "    </tr>\n",
       "    <tr>\n",
       "      <th>2414</th>\n",
       "      <td>67.000</td>\n",
       "      <td>45.0</td>\n",
       "      <td>928</td>\n",
       "      <td>Belgorado</td>\n",
       "      <td>Belgian IPA</td>\n",
       "      <td>424</td>\n",
       "      <td>12.0</td>\n",
       "    </tr>\n",
       "    <tr>\n",
       "      <th>2415</th>\n",
       "      <td>0.052</td>\n",
       "      <td>40.0</td>\n",
       "      <td>807</td>\n",
       "      <td>Rail Yard Ale</td>\n",
       "      <td>American Amber / Red Ale</td>\n",
       "      <td>424</td>\n",
       "      <td>12.0</td>\n",
       "    </tr>\n",
       "    <tr>\n",
       "      <th>2416</th>\n",
       "      <td>55.000</td>\n",
       "      <td>40.0</td>\n",
       "      <td>620</td>\n",
       "      <td>B3K Black Lager</td>\n",
       "      <td>Schwarzbier</td>\n",
       "      <td>424</td>\n",
       "      <td>12.0</td>\n",
       "    </tr>\n",
       "    <tr>\n",
       "      <th>2417</th>\n",
       "      <td>55.000</td>\n",
       "      <td>40.0</td>\n",
       "      <td>145</td>\n",
       "      <td>Silverback Pale Ale</td>\n",
       "      <td>American Pale Ale (APA)</td>\n",
       "      <td>424</td>\n",
       "      <td>12.0</td>\n",
       "    </tr>\n",
       "    <tr>\n",
       "      <th>2418</th>\n",
       "      <td>0.052</td>\n",
       "      <td>NaN</td>\n",
       "      <td>84</td>\n",
       "      <td>Rail Yard Ale (2009)</td>\n",
       "      <td>American Amber / Red Ale</td>\n",
       "      <td>424</td>\n",
       "      <td>12.0</td>\n",
       "    </tr>\n",
       "  </tbody>\n",
       "</table>\n",
       "<p>2419 rows × 7 columns</p>\n",
       "</div>"
      ],
      "text/plain": [
       "         abv   ibu    id                  name  \\\n",
       "0      0.050  60.0  1436              Pub Beer   \n",
       "1     66.000  60.0  2265           Devil's Cup   \n",
       "2     71.000  60.0  2264   Rise of the Phoenix   \n",
       "3      0.090  60.0  2263              Sinister   \n",
       "4     75.000  60.0  2262         Sex and Candy   \n",
       "...      ...   ...   ...                   ...   \n",
       "2414  67.000  45.0   928             Belgorado   \n",
       "2415   0.052  40.0   807         Rail Yard Ale   \n",
       "2416  55.000  40.0   620       B3K Black Lager   \n",
       "2417  55.000  40.0   145   Silverback Pale Ale   \n",
       "2418   0.052   NaN    84  Rail Yard Ale (2009)   \n",
       "\n",
       "                               style brewery_id  ounces  \n",
       "0                American Pale Lager        408    12.0  \n",
       "1            American Pale Ale (APA)        177    12.0  \n",
       "2                       American IPA        177    12.0  \n",
       "3     American Double / Imperial IPA        177    12.0  \n",
       "4                       American IPA        177    12.0  \n",
       "...                              ...        ...     ...  \n",
       "2414                     Belgian IPA        424    12.0  \n",
       "2415        American Amber / Red Ale        424    12.0  \n",
       "2416                     Schwarzbier        424    12.0  \n",
       "2417         American Pale Ale (APA)        424    12.0  \n",
       "2418        American Amber / Red Ale        424    12.0  \n",
       "\n",
       "[2419 rows x 7 columns]"
      ]
     },
     "execution_count": 29,
     "metadata": {},
     "output_type": "execute_result"
    }
   ],
   "source": [
    "BEERS.fillna(method=\"bfill\") #or BEERS.bfill()"
   ]
  },
  {
   "cell_type": "code",
   "execution_count": 30,
   "metadata": {
    "colab": {
     "base_uri": "https://localhost:8080/",
     "height": 458
    },
    "executionInfo": {
     "elapsed": 314,
     "status": "ok",
     "timestamp": 1731064827244,
     "user": {
      "displayName": "Camilla Sancricca",
      "userId": "00021980050560537453"
     },
     "user_tz": -60
    },
    "id": "KLInrmt7yV0t",
    "outputId": "bdf5ee9d-875b-46a0-e5c2-c5ea83a88578"
   },
   "outputs": [
    {
     "data": {
      "text/plain": [
       "0       42.720255\n",
       "1       42.720255\n",
       "2       42.720255\n",
       "3       42.720255\n",
       "4       42.720255\n",
       "          ...    \n",
       "2414    45.000000\n",
       "2415    42.720255\n",
       "2416    42.720255\n",
       "2417    40.000000\n",
       "2418    42.720255\n",
       "Name: ibu, Length: 2419, dtype: float64"
      ]
     },
     "execution_count": 30,
     "metadata": {},
     "output_type": "execute_result"
    }
   ],
   "source": [
    "BEERS[\"ibu\"].fillna(BEERS[\"ibu\"].mean())"
   ]
  },
  {
   "cell_type": "code",
   "execution_count": 31,
   "metadata": {
    "colab": {
     "base_uri": "https://localhost:8080/",
     "height": 458
    },
    "executionInfo": {
     "elapsed": 7,
     "status": "ok",
     "timestamp": 1731064827244,
     "user": {
      "displayName": "Camilla Sancricca",
      "userId": "00021980050560537453"
     },
     "user_tz": -60
    },
    "id": "8Y8I4x4MyVxr",
    "outputId": "10a19467-bbd8-4faf-af77-915db8cb7ce2"
   },
   "outputs": [
    {
     "data": {
      "text/plain": [
       "0       35.0\n",
       "1       35.0\n",
       "2       35.0\n",
       "3       35.0\n",
       "4       35.0\n",
       "        ... \n",
       "2414    45.0\n",
       "2415    35.0\n",
       "2416    35.0\n",
       "2417    40.0\n",
       "2418    35.0\n",
       "Name: ibu, Length: 2419, dtype: float64"
      ]
     },
     "execution_count": 31,
     "metadata": {},
     "output_type": "execute_result"
    }
   ],
   "source": [
    "BEERS[\"ibu\"].fillna(BEERS[\"ibu\"].median())"
   ]
  },
  {
   "cell_type": "code",
   "execution_count": 32,
   "metadata": {
    "colab": {
     "base_uri": "https://localhost:8080/",
     "height": 458
    },
    "executionInfo": {
     "elapsed": 7,
     "status": "ok",
     "timestamp": 1731064827244,
     "user": {
      "displayName": "Camilla Sancricca",
      "userId": "00021980050560537453"
     },
     "user_tz": -60
    },
    "id": "UOPfi0leyVq0",
    "outputId": "886ce3e1-9798-4843-d8a1-e912c676339c"
   },
   "outputs": [
    {
     "data": {
      "text/plain": [
       "0       25.907272\n",
       "1       25.907272\n",
       "2       25.907272\n",
       "3       25.907272\n",
       "4       25.907272\n",
       "          ...    \n",
       "2414    45.000000\n",
       "2415    25.907272\n",
       "2416    25.907272\n",
       "2417    40.000000\n",
       "2418    25.907272\n",
       "Name: ibu, Length: 2419, dtype: float64"
      ]
     },
     "execution_count": 32,
     "metadata": {},
     "output_type": "execute_result"
    }
   ],
   "source": [
    "BEERS[\"ibu\"].fillna(BEERS[\"ibu\"].std())"
   ]
  },
  {
   "cell_type": "code",
   "execution_count": 33,
   "metadata": {
    "colab": {
     "base_uri": "https://localhost:8080/",
     "height": 115
    },
    "executionInfo": {
     "elapsed": 6,
     "status": "ok",
     "timestamp": 1731064827244,
     "user": {
      "displayName": "Camilla Sancricca",
      "userId": "00021980050560537453"
     },
     "user_tz": -60
    },
    "id": "MrjAzB30ycs3",
    "outputId": "a1716379-b8de-4777-ba19-5558b3d01c41"
   },
   "outputs": [
    {
     "data": {
      "text/plain": [
       "0    20.0\n",
       "Name: ibu, dtype: float64"
      ]
     },
     "execution_count": 33,
     "metadata": {},
     "output_type": "execute_result"
    }
   ],
   "source": [
    "BEERS[\"ibu\"].mode()"
   ]
  },
  {
   "cell_type": "code",
   "execution_count": 34,
   "metadata": {
    "colab": {
     "base_uri": "https://localhost:8080/",
     "height": 458
    },
    "executionInfo": {
     "elapsed": 6,
     "status": "ok",
     "timestamp": 1731064827244,
     "user": {
      "displayName": "Camilla Sancricca",
      "userId": "00021980050560537453"
     },
     "user_tz": -60
    },
    "id": "jipou0b8ycoT",
    "outputId": "4a24d196-02b2-4926-f63f-094ae07cf05e"
   },
   "outputs": [
    {
     "data": {
      "text/plain": [
       "0       20.0\n",
       "1       20.0\n",
       "2       20.0\n",
       "3       20.0\n",
       "4       20.0\n",
       "        ... \n",
       "2414    45.0\n",
       "2415    20.0\n",
       "2416    20.0\n",
       "2417    40.0\n",
       "2418    20.0\n",
       "Name: ibu, Length: 2419, dtype: float64"
      ]
     },
     "execution_count": 34,
     "metadata": {},
     "output_type": "execute_result"
    }
   ],
   "source": [
    "BEERS[\"ibu\"].fillna(BEERS[\"ibu\"].mode()[0])"
   ]
  },
  {
   "cell_type": "code",
   "execution_count": 35,
   "metadata": {
    "colab": {
     "base_uri": "https://localhost:8080/",
     "height": 424
    },
    "executionInfo": {
     "elapsed": 6,
     "status": "ok",
     "timestamp": 1731064827244,
     "user": {
      "displayName": "Camilla Sancricca",
      "userId": "00021980050560537453"
     },
     "user_tz": -60
    },
    "id": "bG5vmlDkyozT",
    "outputId": "92728d02-713e-4794-fc79-17fb421da779"
   },
   "outputs": [
    {
     "data": {
      "text/html": [
       "<div>\n",
       "<style scoped>\n",
       "    .dataframe tbody tr th:only-of-type {\n",
       "        vertical-align: middle;\n",
       "    }\n",
       "\n",
       "    .dataframe tbody tr th {\n",
       "        vertical-align: top;\n",
       "    }\n",
       "\n",
       "    .dataframe thead th {\n",
       "        text-align: right;\n",
       "    }\n",
       "</style>\n",
       "<table border=\"1\" class=\"dataframe\">\n",
       "  <thead>\n",
       "    <tr style=\"text-align: right;\">\n",
       "      <th></th>\n",
       "      <th>Pregnancies</th>\n",
       "      <th>Glucose</th>\n",
       "      <th>BloodPressure</th>\n",
       "      <th>SkinThickness</th>\n",
       "      <th>Insulin</th>\n",
       "      <th>BMI</th>\n",
       "      <th>DiabetesPedigreeFunction</th>\n",
       "      <th>Age</th>\n",
       "      <th>Outcome</th>\n",
       "    </tr>\n",
       "  </thead>\n",
       "  <tbody>\n",
       "    <tr>\n",
       "      <th>0</th>\n",
       "      <td>6</td>\n",
       "      <td>148</td>\n",
       "      <td>72</td>\n",
       "      <td>35</td>\n",
       "      <td>0</td>\n",
       "      <td>33.6</td>\n",
       "      <td>0.627</td>\n",
       "      <td>50</td>\n",
       "      <td>1</td>\n",
       "    </tr>\n",
       "    <tr>\n",
       "      <th>1</th>\n",
       "      <td>1</td>\n",
       "      <td>85</td>\n",
       "      <td>66</td>\n",
       "      <td>29</td>\n",
       "      <td>0</td>\n",
       "      <td>26.6</td>\n",
       "      <td>0.351</td>\n",
       "      <td>31</td>\n",
       "      <td>0</td>\n",
       "    </tr>\n",
       "    <tr>\n",
       "      <th>2</th>\n",
       "      <td>8</td>\n",
       "      <td>183</td>\n",
       "      <td>64</td>\n",
       "      <td>0</td>\n",
       "      <td>0</td>\n",
       "      <td>23.3</td>\n",
       "      <td>0.672</td>\n",
       "      <td>32</td>\n",
       "      <td>1</td>\n",
       "    </tr>\n",
       "    <tr>\n",
       "      <th>3</th>\n",
       "      <td>1</td>\n",
       "      <td>89</td>\n",
       "      <td>66</td>\n",
       "      <td>23</td>\n",
       "      <td>94</td>\n",
       "      <td>28.1</td>\n",
       "      <td>0.167</td>\n",
       "      <td>21</td>\n",
       "      <td>0</td>\n",
       "    </tr>\n",
       "    <tr>\n",
       "      <th>4</th>\n",
       "      <td>0</td>\n",
       "      <td>137</td>\n",
       "      <td>40</td>\n",
       "      <td>35</td>\n",
       "      <td>168</td>\n",
       "      <td>43.1</td>\n",
       "      <td>2.288</td>\n",
       "      <td>33</td>\n",
       "      <td>1</td>\n",
       "    </tr>\n",
       "    <tr>\n",
       "      <th>...</th>\n",
       "      <td>...</td>\n",
       "      <td>...</td>\n",
       "      <td>...</td>\n",
       "      <td>...</td>\n",
       "      <td>...</td>\n",
       "      <td>...</td>\n",
       "      <td>...</td>\n",
       "      <td>...</td>\n",
       "      <td>...</td>\n",
       "    </tr>\n",
       "    <tr>\n",
       "      <th>763</th>\n",
       "      <td>10</td>\n",
       "      <td>101</td>\n",
       "      <td>76</td>\n",
       "      <td>48</td>\n",
       "      <td>180</td>\n",
       "      <td>32.9</td>\n",
       "      <td>0.171</td>\n",
       "      <td>63</td>\n",
       "      <td>0</td>\n",
       "    </tr>\n",
       "    <tr>\n",
       "      <th>764</th>\n",
       "      <td>2</td>\n",
       "      <td>122</td>\n",
       "      <td>70</td>\n",
       "      <td>27</td>\n",
       "      <td>0</td>\n",
       "      <td>36.8</td>\n",
       "      <td>0.340</td>\n",
       "      <td>27</td>\n",
       "      <td>0</td>\n",
       "    </tr>\n",
       "    <tr>\n",
       "      <th>765</th>\n",
       "      <td>5</td>\n",
       "      <td>121</td>\n",
       "      <td>72</td>\n",
       "      <td>23</td>\n",
       "      <td>112</td>\n",
       "      <td>26.2</td>\n",
       "      <td>0.245</td>\n",
       "      <td>30</td>\n",
       "      <td>0</td>\n",
       "    </tr>\n",
       "    <tr>\n",
       "      <th>766</th>\n",
       "      <td>1</td>\n",
       "      <td>126</td>\n",
       "      <td>60</td>\n",
       "      <td>0</td>\n",
       "      <td>0</td>\n",
       "      <td>30.1</td>\n",
       "      <td>0.349</td>\n",
       "      <td>47</td>\n",
       "      <td>1</td>\n",
       "    </tr>\n",
       "    <tr>\n",
       "      <th>767</th>\n",
       "      <td>1</td>\n",
       "      <td>93</td>\n",
       "      <td>70</td>\n",
       "      <td>31</td>\n",
       "      <td>0</td>\n",
       "      <td>30.4</td>\n",
       "      <td>0.315</td>\n",
       "      <td>23</td>\n",
       "      <td>0</td>\n",
       "    </tr>\n",
       "  </tbody>\n",
       "</table>\n",
       "<p>768 rows × 9 columns</p>\n",
       "</div>"
      ],
      "text/plain": [
       "     Pregnancies  Glucose  BloodPressure  SkinThickness  Insulin   BMI  \\\n",
       "0              6      148             72             35        0  33.6   \n",
       "1              1       85             66             29        0  26.6   \n",
       "2              8      183             64              0        0  23.3   \n",
       "3              1       89             66             23       94  28.1   \n",
       "4              0      137             40             35      168  43.1   \n",
       "..           ...      ...            ...            ...      ...   ...   \n",
       "763           10      101             76             48      180  32.9   \n",
       "764            2      122             70             27        0  36.8   \n",
       "765            5      121             72             23      112  26.2   \n",
       "766            1      126             60              0        0  30.1   \n",
       "767            1       93             70             31        0  30.4   \n",
       "\n",
       "     DiabetesPedigreeFunction  Age  Outcome  \n",
       "0                       0.627   50        1  \n",
       "1                       0.351   31        0  \n",
       "2                       0.672   32        1  \n",
       "3                       0.167   21        0  \n",
       "4                       2.288   33        1  \n",
       "..                        ...  ...      ...  \n",
       "763                     0.171   63        0  \n",
       "764                     0.340   27        0  \n",
       "765                     0.245   30        0  \n",
       "766                     0.349   47        1  \n",
       "767                     0.315   23        0  \n",
       "\n",
       "[768 rows x 9 columns]"
      ]
     },
     "execution_count": 35,
     "metadata": {},
     "output_type": "execute_result"
    }
   ],
   "source": [
    "DIAB = pd.read_csv(\"https://raw.githubusercontent.com/camillasancricca/DATADIQ/master/DIABETES.csv\")\n",
    "DIAB"
   ]
  },
  {
   "cell_type": "code",
   "execution_count": 36,
   "metadata": {
    "executionInfo": {
     "elapsed": 5,
     "status": "ok",
     "timestamp": 1731064827244,
     "user": {
      "displayName": "Camilla Sancricca",
      "userId": "00021980050560537453"
     },
     "user_tz": -60
    },
    "id": "rMpD55LLyov0"
   },
   "outputs": [],
   "source": [
    "COLS = list(DIAB.columns)\n",
    "COLS.remove(\"Outcome\")"
   ]
  },
  {
   "cell_type": "code",
   "execution_count": 37,
   "metadata": {
    "colab": {
     "base_uri": "https://localhost:8080/"
    },
    "executionInfo": {
     "elapsed": 6,
     "status": "ok",
     "timestamp": 1731064827245,
     "user": {
      "displayName": "Camilla Sancricca",
      "userId": "00021980050560537453"
     },
     "user_tz": -60
    },
    "id": "EolYPLJoyosk",
    "outputId": "5b7e343a-fdce-4215-82c6-078916e98554"
   },
   "outputs": [
    {
     "data": {
      "text/plain": [
       "['Pregnancies',\n",
       " 'Glucose',\n",
       " 'BloodPressure',\n",
       " 'SkinThickness',\n",
       " 'Insulin',\n",
       " 'BMI',\n",
       " 'DiabetesPedigreeFunction',\n",
       " 'Age']"
      ]
     },
     "execution_count": 37,
     "metadata": {},
     "output_type": "execute_result"
    }
   ],
   "source": [
    "COLS"
   ]
  },
  {
   "cell_type": "code",
   "execution_count": 38,
   "metadata": {
    "colab": {
     "base_uri": "https://localhost:8080/",
     "height": 424
    },
    "executionInfo": {
     "elapsed": 366,
     "status": "ok",
     "timestamp": 1731064827606,
     "user": {
      "displayName": "Camilla Sancricca",
      "userId": "00021980050560537453"
     },
     "user_tz": -60
    },
    "id": "hWM-wIIuyopz",
    "outputId": "df0f4360-4315-45a6-c58a-f83c340a3c59"
   },
   "outputs": [
    {
     "data": {
      "text/html": [
       "<div>\n",
       "<style scoped>\n",
       "    .dataframe tbody tr th:only-of-type {\n",
       "        vertical-align: middle;\n",
       "    }\n",
       "\n",
       "    .dataframe tbody tr th {\n",
       "        vertical-align: top;\n",
       "    }\n",
       "\n",
       "    .dataframe thead th {\n",
       "        text-align: right;\n",
       "    }\n",
       "</style>\n",
       "<table border=\"1\" class=\"dataframe\">\n",
       "  <thead>\n",
       "    <tr style=\"text-align: right;\">\n",
       "      <th></th>\n",
       "      <th>Pregnancies</th>\n",
       "      <th>Glucose</th>\n",
       "      <th>BloodPressure</th>\n",
       "      <th>SkinThickness</th>\n",
       "      <th>Insulin</th>\n",
       "      <th>BMI</th>\n",
       "      <th>DiabetesPedigreeFunction</th>\n",
       "      <th>Age</th>\n",
       "      <th>Outcome</th>\n",
       "    </tr>\n",
       "  </thead>\n",
       "  <tbody>\n",
       "    <tr>\n",
       "      <th>0</th>\n",
       "      <td>6.0</td>\n",
       "      <td>148.0</td>\n",
       "      <td>72.0</td>\n",
       "      <td>35.0</td>\n",
       "      <td>NaN</td>\n",
       "      <td>33.6</td>\n",
       "      <td>0.627</td>\n",
       "      <td>50</td>\n",
       "      <td>1</td>\n",
       "    </tr>\n",
       "    <tr>\n",
       "      <th>1</th>\n",
       "      <td>1.0</td>\n",
       "      <td>85.0</td>\n",
       "      <td>66.0</td>\n",
       "      <td>29.0</td>\n",
       "      <td>NaN</td>\n",
       "      <td>26.6</td>\n",
       "      <td>0.351</td>\n",
       "      <td>31</td>\n",
       "      <td>0</td>\n",
       "    </tr>\n",
       "    <tr>\n",
       "      <th>2</th>\n",
       "      <td>8.0</td>\n",
       "      <td>183.0</td>\n",
       "      <td>64.0</td>\n",
       "      <td>NaN</td>\n",
       "      <td>NaN</td>\n",
       "      <td>23.3</td>\n",
       "      <td>0.672</td>\n",
       "      <td>32</td>\n",
       "      <td>1</td>\n",
       "    </tr>\n",
       "    <tr>\n",
       "      <th>3</th>\n",
       "      <td>1.0</td>\n",
       "      <td>89.0</td>\n",
       "      <td>66.0</td>\n",
       "      <td>23.0</td>\n",
       "      <td>94.0</td>\n",
       "      <td>28.1</td>\n",
       "      <td>0.167</td>\n",
       "      <td>21</td>\n",
       "      <td>0</td>\n",
       "    </tr>\n",
       "    <tr>\n",
       "      <th>4</th>\n",
       "      <td>NaN</td>\n",
       "      <td>137.0</td>\n",
       "      <td>40.0</td>\n",
       "      <td>35.0</td>\n",
       "      <td>168.0</td>\n",
       "      <td>43.1</td>\n",
       "      <td>2.288</td>\n",
       "      <td>33</td>\n",
       "      <td>1</td>\n",
       "    </tr>\n",
       "    <tr>\n",
       "      <th>...</th>\n",
       "      <td>...</td>\n",
       "      <td>...</td>\n",
       "      <td>...</td>\n",
       "      <td>...</td>\n",
       "      <td>...</td>\n",
       "      <td>...</td>\n",
       "      <td>...</td>\n",
       "      <td>...</td>\n",
       "      <td>...</td>\n",
       "    </tr>\n",
       "    <tr>\n",
       "      <th>763</th>\n",
       "      <td>10.0</td>\n",
       "      <td>101.0</td>\n",
       "      <td>76.0</td>\n",
       "      <td>48.0</td>\n",
       "      <td>180.0</td>\n",
       "      <td>32.9</td>\n",
       "      <td>0.171</td>\n",
       "      <td>63</td>\n",
       "      <td>0</td>\n",
       "    </tr>\n",
       "    <tr>\n",
       "      <th>764</th>\n",
       "      <td>2.0</td>\n",
       "      <td>122.0</td>\n",
       "      <td>70.0</td>\n",
       "      <td>27.0</td>\n",
       "      <td>NaN</td>\n",
       "      <td>36.8</td>\n",
       "      <td>0.340</td>\n",
       "      <td>27</td>\n",
       "      <td>0</td>\n",
       "    </tr>\n",
       "    <tr>\n",
       "      <th>765</th>\n",
       "      <td>5.0</td>\n",
       "      <td>121.0</td>\n",
       "      <td>72.0</td>\n",
       "      <td>23.0</td>\n",
       "      <td>112.0</td>\n",
       "      <td>26.2</td>\n",
       "      <td>0.245</td>\n",
       "      <td>30</td>\n",
       "      <td>0</td>\n",
       "    </tr>\n",
       "    <tr>\n",
       "      <th>766</th>\n",
       "      <td>1.0</td>\n",
       "      <td>126.0</td>\n",
       "      <td>60.0</td>\n",
       "      <td>NaN</td>\n",
       "      <td>NaN</td>\n",
       "      <td>30.1</td>\n",
       "      <td>0.349</td>\n",
       "      <td>47</td>\n",
       "      <td>1</td>\n",
       "    </tr>\n",
       "    <tr>\n",
       "      <th>767</th>\n",
       "      <td>1.0</td>\n",
       "      <td>93.0</td>\n",
       "      <td>70.0</td>\n",
       "      <td>31.0</td>\n",
       "      <td>NaN</td>\n",
       "      <td>30.4</td>\n",
       "      <td>0.315</td>\n",
       "      <td>23</td>\n",
       "      <td>0</td>\n",
       "    </tr>\n",
       "  </tbody>\n",
       "</table>\n",
       "<p>768 rows × 9 columns</p>\n",
       "</div>"
      ],
      "text/plain": [
       "     Pregnancies  Glucose  BloodPressure  SkinThickness  Insulin   BMI  \\\n",
       "0            6.0    148.0           72.0           35.0      NaN  33.6   \n",
       "1            1.0     85.0           66.0           29.0      NaN  26.6   \n",
       "2            8.0    183.0           64.0            NaN      NaN  23.3   \n",
       "3            1.0     89.0           66.0           23.0     94.0  28.1   \n",
       "4            NaN    137.0           40.0           35.0    168.0  43.1   \n",
       "..           ...      ...            ...            ...      ...   ...   \n",
       "763         10.0    101.0           76.0           48.0    180.0  32.9   \n",
       "764          2.0    122.0           70.0           27.0      NaN  36.8   \n",
       "765          5.0    121.0           72.0           23.0    112.0  26.2   \n",
       "766          1.0    126.0           60.0            NaN      NaN  30.1   \n",
       "767          1.0     93.0           70.0           31.0      NaN  30.4   \n",
       "\n",
       "     DiabetesPedigreeFunction  Age  Outcome  \n",
       "0                       0.627   50        1  \n",
       "1                       0.351   31        0  \n",
       "2                       0.672   32        1  \n",
       "3                       0.167   21        0  \n",
       "4                       2.288   33        1  \n",
       "..                        ...  ...      ...  \n",
       "763                     0.171   63        0  \n",
       "764                     0.340   27        0  \n",
       "765                     0.245   30        0  \n",
       "766                     0.349   47        1  \n",
       "767                     0.315   23        0  \n",
       "\n",
       "[768 rows x 9 columns]"
      ]
     },
     "execution_count": 38,
     "metadata": {},
     "output_type": "execute_result"
    }
   ],
   "source": [
    "DIAB[COLS] = DIAB[COLS].replace(0,np.nan)\n",
    "DIAB"
   ]
  },
  {
   "cell_type": "markdown",
   "metadata": {
    "id": "3ubXq7hT5NhY"
   },
   "source": [
    "*missingno* library: visualize missing cells"
   ]
  },
  {
   "cell_type": "code",
   "execution_count": 39,
   "metadata": {
    "colab": {
     "base_uri": "https://localhost:8080/",
     "height": 744
    },
    "executionInfo": {
     "elapsed": 1301,
     "status": "ok",
     "timestamp": 1731064828904,
     "user": {
      "displayName": "Camilla Sancricca",
      "userId": "00021980050560537453"
     },
     "user_tz": -60
    },
    "id": "FNIkDEi-yonV",
    "outputId": "a757d161-7637-47f6-8258-0334d7081498"
   },
   "outputs": [
    {
     "data": {
      "text/plain": [
       "<Axes: >"
      ]
     },
     "execution_count": 39,
     "metadata": {},
     "output_type": "execute_result"
    },
    {
     "data": {
      "image/png": "[encoded data removed]",
      "text/plain": [
       "<Figure size 2500x1000 with 2 Axes>"
      ]
     },
     "metadata": {},
     "output_type": "display_data"
    }
   ],
   "source": [
    "mno.matrix(DIAB)"
   ]
  },
  {
   "cell_type": "markdown",
   "metadata": {
    "id": "H5MJk-Q_5XYD"
   },
   "source": [
    "*sklearn* library: SimpleImputer"
   ]
  },
  {
   "cell_type": "code",
   "execution_count": 40,
   "metadata": {
    "colab": {
     "base_uri": "https://localhost:8080/",
     "height": 424
    },
    "executionInfo": {
     "elapsed": 12,
     "status": "ok",
     "timestamp": 1731064828905,
     "user": {
      "displayName": "Camilla Sancricca",
      "userId": "00021980050560537453"
     },
     "user_tz": -60
    },
    "id": "9t0pfLLDytVi",
    "outputId": "c226ae10-5afb-4be2-b627-b2e7eb7621e5"
   },
   "outputs": [
    {
     "data": {
      "text/html": [
       "<div>\n",
       "<style scoped>\n",
       "    .dataframe tbody tr th:only-of-type {\n",
       "        vertical-align: middle;\n",
       "    }\n",
       "\n",
       "    .dataframe tbody tr th {\n",
       "        vertical-align: top;\n",
       "    }\n",
       "\n",
       "    .dataframe thead th {\n",
       "        text-align: right;\n",
       "    }\n",
       "</style>\n",
       "<table border=\"1\" class=\"dataframe\">\n",
       "  <thead>\n",
       "    <tr style=\"text-align: right;\">\n",
       "      <th></th>\n",
       "      <th>Pregnancies</th>\n",
       "      <th>Glucose</th>\n",
       "      <th>BloodPressure</th>\n",
       "      <th>SkinThickness</th>\n",
       "      <th>Insulin</th>\n",
       "      <th>BMI</th>\n",
       "      <th>DiabetesPedigreeFunction</th>\n",
       "      <th>Age</th>\n",
       "      <th>Outcome</th>\n",
       "    </tr>\n",
       "  </thead>\n",
       "  <tbody>\n",
       "    <tr>\n",
       "      <th>0</th>\n",
       "      <td>6.000000</td>\n",
       "      <td>148.0</td>\n",
       "      <td>72.0</td>\n",
       "      <td>35.00000</td>\n",
       "      <td>155.548223</td>\n",
       "      <td>33.6</td>\n",
       "      <td>0.627</td>\n",
       "      <td>50.0</td>\n",
       "      <td>1.0</td>\n",
       "    </tr>\n",
       "    <tr>\n",
       "      <th>1</th>\n",
       "      <td>1.000000</td>\n",
       "      <td>85.0</td>\n",
       "      <td>66.0</td>\n",
       "      <td>29.00000</td>\n",
       "      <td>155.548223</td>\n",
       "      <td>26.6</td>\n",
       "      <td>0.351</td>\n",
       "      <td>31.0</td>\n",
       "      <td>0.0</td>\n",
       "    </tr>\n",
       "    <tr>\n",
       "      <th>2</th>\n",
       "      <td>8.000000</td>\n",
       "      <td>183.0</td>\n",
       "      <td>64.0</td>\n",
       "      <td>29.15342</td>\n",
       "      <td>155.548223</td>\n",
       "      <td>23.3</td>\n",
       "      <td>0.672</td>\n",
       "      <td>32.0</td>\n",
       "      <td>1.0</td>\n",
       "    </tr>\n",
       "    <tr>\n",
       "      <th>3</th>\n",
       "      <td>1.000000</td>\n",
       "      <td>89.0</td>\n",
       "      <td>66.0</td>\n",
       "      <td>23.00000</td>\n",
       "      <td>94.000000</td>\n",
       "      <td>28.1</td>\n",
       "      <td>0.167</td>\n",
       "      <td>21.0</td>\n",
       "      <td>0.0</td>\n",
       "    </tr>\n",
       "    <tr>\n",
       "      <th>4</th>\n",
       "      <td>4.494673</td>\n",
       "      <td>137.0</td>\n",
       "      <td>40.0</td>\n",
       "      <td>35.00000</td>\n",
       "      <td>168.000000</td>\n",
       "      <td>43.1</td>\n",
       "      <td>2.288</td>\n",
       "      <td>33.0</td>\n",
       "      <td>1.0</td>\n",
       "    </tr>\n",
       "    <tr>\n",
       "      <th>...</th>\n",
       "      <td>...</td>\n",
       "      <td>...</td>\n",
       "      <td>...</td>\n",
       "      <td>...</td>\n",
       "      <td>...</td>\n",
       "      <td>...</td>\n",
       "      <td>...</td>\n",
       "      <td>...</td>\n",
       "      <td>...</td>\n",
       "    </tr>\n",
       "    <tr>\n",
       "      <th>763</th>\n",
       "      <td>10.000000</td>\n",
       "      <td>101.0</td>\n",
       "      <td>76.0</td>\n",
       "      <td>48.00000</td>\n",
       "      <td>180.000000</td>\n",
       "      <td>32.9</td>\n",
       "      <td>0.171</td>\n",
       "      <td>63.0</td>\n",
       "      <td>0.0</td>\n",
       "    </tr>\n",
       "    <tr>\n",
       "      <th>764</th>\n",
       "      <td>2.000000</td>\n",
       "      <td>122.0</td>\n",
       "      <td>70.0</td>\n",
       "      <td>27.00000</td>\n",
       "      <td>155.548223</td>\n",
       "      <td>36.8</td>\n",
       "      <td>0.340</td>\n",
       "      <td>27.0</td>\n",
       "      <td>0.0</td>\n",
       "    </tr>\n",
       "    <tr>\n",
       "      <th>765</th>\n",
       "      <td>5.000000</td>\n",
       "      <td>121.0</td>\n",
       "      <td>72.0</td>\n",
       "      <td>23.00000</td>\n",
       "      <td>112.000000</td>\n",
       "      <td>26.2</td>\n",
       "      <td>0.245</td>\n",
       "      <td>30.0</td>\n",
       "      <td>0.0</td>\n",
       "    </tr>\n",
       "    <tr>\n",
       "      <th>766</th>\n",
       "      <td>1.000000</td>\n",
       "      <td>126.0</td>\n",
       "      <td>60.0</td>\n",
       "      <td>29.15342</td>\n",
       "      <td>155.548223</td>\n",
       "      <td>30.1</td>\n",
       "      <td>0.349</td>\n",
       "      <td>47.0</td>\n",
       "      <td>1.0</td>\n",
       "    </tr>\n",
       "    <tr>\n",
       "      <th>767</th>\n",
       "      <td>1.000000</td>\n",
       "      <td>93.0</td>\n",
       "      <td>70.0</td>\n",
       "      <td>31.00000</td>\n",
       "      <td>155.548223</td>\n",
       "      <td>30.4</td>\n",
       "      <td>0.315</td>\n",
       "      <td>23.0</td>\n",
       "      <td>0.0</td>\n",
       "    </tr>\n",
       "  </tbody>\n",
       "</table>\n",
       "<p>768 rows × 9 columns</p>\n",
       "</div>"
      ],
      "text/plain": [
       "     Pregnancies  Glucose  BloodPressure  SkinThickness     Insulin   BMI  \\\n",
       "0       6.000000    148.0           72.0       35.00000  155.548223  33.6   \n",
       "1       1.000000     85.0           66.0       29.00000  155.548223  26.6   \n",
       "2       8.000000    183.0           64.0       29.15342  155.548223  23.3   \n",
       "3       1.000000     89.0           66.0       23.00000   94.000000  28.1   \n",
       "4       4.494673    137.0           40.0       35.00000  168.000000  43.1   \n",
       "..           ...      ...            ...            ...         ...   ...   \n",
       "763    10.000000    101.0           76.0       48.00000  180.000000  32.9   \n",
       "764     2.000000    122.0           70.0       27.00000  155.548223  36.8   \n",
       "765     5.000000    121.0           72.0       23.00000  112.000000  26.2   \n",
       "766     1.000000    126.0           60.0       29.15342  155.548223  30.1   \n",
       "767     1.000000     93.0           70.0       31.00000  155.548223  30.4   \n",
       "\n",
       "     DiabetesPedigreeFunction   Age  Outcome  \n",
       "0                       0.627  50.0      1.0  \n",
       "1                       0.351  31.0      0.0  \n",
       "2                       0.672  32.0      1.0  \n",
       "3                       0.167  21.0      0.0  \n",
       "4                       2.288  33.0      1.0  \n",
       "..                        ...   ...      ...  \n",
       "763                     0.171  63.0      0.0  \n",
       "764                     0.340  27.0      0.0  \n",
       "765                     0.245  30.0      0.0  \n",
       "766                     0.349  47.0      1.0  \n",
       "767                     0.315  23.0      0.0  \n",
       "\n",
       "[768 rows x 9 columns]"
      ]
     },
     "execution_count": 40,
     "metadata": {},
     "output_type": "execute_result"
    }
   ],
   "source": [
    "SI = SimpleImputer(missing_values=np.nan, strategy='mean')\n",
    "DIAB_I = SI.fit_transform(DIAB)\n",
    "DIAB_I = pd.DataFrame(DIAB_I, columns=DIAB.columns)\n",
    "DIAB_I"
   ]
  },
  {
   "cell_type": "code",
   "execution_count": 41,
   "metadata": {
    "colab": {
     "base_uri": "https://localhost:8080/",
     "height": 424
    },
    "executionInfo": {
     "elapsed": 11,
     "status": "ok",
     "timestamp": 1731064828905,
     "user": {
      "displayName": "Camilla Sancricca",
      "userId": "00021980050560537453"
     },
     "user_tz": -60
    },
    "id": "P1TRDxUBytSC",
    "outputId": "a8075dbb-54a8-4269-b5df-a27fd365ffb6"
   },
   "outputs": [
    {
     "data": {
      "text/html": [
       "<div>\n",
       "<style scoped>\n",
       "    .dataframe tbody tr th:only-of-type {\n",
       "        vertical-align: middle;\n",
       "    }\n",
       "\n",
       "    .dataframe tbody tr th {\n",
       "        vertical-align: top;\n",
       "    }\n",
       "\n",
       "    .dataframe thead th {\n",
       "        text-align: right;\n",
       "    }\n",
       "</style>\n",
       "<table border=\"1\" class=\"dataframe\">\n",
       "  <thead>\n",
       "    <tr style=\"text-align: right;\">\n",
       "      <th></th>\n",
       "      <th>Pregnancies</th>\n",
       "      <th>Glucose</th>\n",
       "      <th>BloodPressure</th>\n",
       "      <th>SkinThickness</th>\n",
       "      <th>Insulin</th>\n",
       "      <th>BMI</th>\n",
       "      <th>DiabetesPedigreeFunction</th>\n",
       "      <th>Age</th>\n",
       "      <th>Outcome</th>\n",
       "    </tr>\n",
       "  </thead>\n",
       "  <tbody>\n",
       "    <tr>\n",
       "      <th>0</th>\n",
       "      <td>6.0</td>\n",
       "      <td>148.0</td>\n",
       "      <td>72.0</td>\n",
       "      <td>35.0</td>\n",
       "      <td>125.0</td>\n",
       "      <td>33.6</td>\n",
       "      <td>0.627</td>\n",
       "      <td>50.0</td>\n",
       "      <td>1.0</td>\n",
       "    </tr>\n",
       "    <tr>\n",
       "      <th>1</th>\n",
       "      <td>1.0</td>\n",
       "      <td>85.0</td>\n",
       "      <td>66.0</td>\n",
       "      <td>29.0</td>\n",
       "      <td>125.0</td>\n",
       "      <td>26.6</td>\n",
       "      <td>0.351</td>\n",
       "      <td>31.0</td>\n",
       "      <td>0.0</td>\n",
       "    </tr>\n",
       "    <tr>\n",
       "      <th>2</th>\n",
       "      <td>8.0</td>\n",
       "      <td>183.0</td>\n",
       "      <td>64.0</td>\n",
       "      <td>29.0</td>\n",
       "      <td>125.0</td>\n",
       "      <td>23.3</td>\n",
       "      <td>0.672</td>\n",
       "      <td>32.0</td>\n",
       "      <td>1.0</td>\n",
       "    </tr>\n",
       "    <tr>\n",
       "      <th>3</th>\n",
       "      <td>1.0</td>\n",
       "      <td>89.0</td>\n",
       "      <td>66.0</td>\n",
       "      <td>23.0</td>\n",
       "      <td>94.0</td>\n",
       "      <td>28.1</td>\n",
       "      <td>0.167</td>\n",
       "      <td>21.0</td>\n",
       "      <td>0.0</td>\n",
       "    </tr>\n",
       "    <tr>\n",
       "      <th>4</th>\n",
       "      <td>4.0</td>\n",
       "      <td>137.0</td>\n",
       "      <td>40.0</td>\n",
       "      <td>35.0</td>\n",
       "      <td>168.0</td>\n",
       "      <td>43.1</td>\n",
       "      <td>2.288</td>\n",
       "      <td>33.0</td>\n",
       "      <td>1.0</td>\n",
       "    </tr>\n",
       "    <tr>\n",
       "      <th>...</th>\n",
       "      <td>...</td>\n",
       "      <td>...</td>\n",
       "      <td>...</td>\n",
       "      <td>...</td>\n",
       "      <td>...</td>\n",
       "      <td>...</td>\n",
       "      <td>...</td>\n",
       "      <td>...</td>\n",
       "      <td>...</td>\n",
       "    </tr>\n",
       "    <tr>\n",
       "      <th>763</th>\n",
       "      <td>10.0</td>\n",
       "      <td>101.0</td>\n",
       "      <td>76.0</td>\n",
       "      <td>48.0</td>\n",
       "      <td>180.0</td>\n",
       "      <td>32.9</td>\n",
       "      <td>0.171</td>\n",
       "      <td>63.0</td>\n",
       "      <td>0.0</td>\n",
       "    </tr>\n",
       "    <tr>\n",
       "      <th>764</th>\n",
       "      <td>2.0</td>\n",
       "      <td>122.0</td>\n",
       "      <td>70.0</td>\n",
       "      <td>27.0</td>\n",
       "      <td>125.0</td>\n",
       "      <td>36.8</td>\n",
       "      <td>0.340</td>\n",
       "      <td>27.0</td>\n",
       "      <td>0.0</td>\n",
       "    </tr>\n",
       "    <tr>\n",
       "      <th>765</th>\n",
       "      <td>5.0</td>\n",
       "      <td>121.0</td>\n",
       "      <td>72.0</td>\n",
       "      <td>23.0</td>\n",
       "      <td>112.0</td>\n",
       "      <td>26.2</td>\n",
       "      <td>0.245</td>\n",
       "      <td>30.0</td>\n",
       "      <td>0.0</td>\n",
       "    </tr>\n",
       "    <tr>\n",
       "      <th>766</th>\n",
       "      <td>1.0</td>\n",
       "      <td>126.0</td>\n",
       "      <td>60.0</td>\n",
       "      <td>29.0</td>\n",
       "      <td>125.0</td>\n",
       "      <td>30.1</td>\n",
       "      <td>0.349</td>\n",
       "      <td>47.0</td>\n",
       "      <td>1.0</td>\n",
       "    </tr>\n",
       "    <tr>\n",
       "      <th>767</th>\n",
       "      <td>1.0</td>\n",
       "      <td>93.0</td>\n",
       "      <td>70.0</td>\n",
       "      <td>31.0</td>\n",
       "      <td>125.0</td>\n",
       "      <td>30.4</td>\n",
       "      <td>0.315</td>\n",
       "      <td>23.0</td>\n",
       "      <td>0.0</td>\n",
       "    </tr>\n",
       "  </tbody>\n",
       "</table>\n",
       "<p>768 rows × 9 columns</p>\n",
       "</div>"
      ],
      "text/plain": [
       "     Pregnancies  Glucose  BloodPressure  SkinThickness  Insulin   BMI  \\\n",
       "0            6.0    148.0           72.0           35.0    125.0  33.6   \n",
       "1            1.0     85.0           66.0           29.0    125.0  26.6   \n",
       "2            8.0    183.0           64.0           29.0    125.0  23.3   \n",
       "3            1.0     89.0           66.0           23.0     94.0  28.1   \n",
       "4            4.0    137.0           40.0           35.0    168.0  43.1   \n",
       "..           ...      ...            ...            ...      ...   ...   \n",
       "763         10.0    101.0           76.0           48.0    180.0  32.9   \n",
       "764          2.0    122.0           70.0           27.0    125.0  36.8   \n",
       "765          5.0    121.0           72.0           23.0    112.0  26.2   \n",
       "766          1.0    126.0           60.0           29.0    125.0  30.1   \n",
       "767          1.0     93.0           70.0           31.0    125.0  30.4   \n",
       "\n",
       "     DiabetesPedigreeFunction   Age  Outcome  \n",
       "0                       0.627  50.0      1.0  \n",
       "1                       0.351  31.0      0.0  \n",
       "2                       0.672  32.0      1.0  \n",
       "3                       0.167  21.0      0.0  \n",
       "4                       2.288  33.0      1.0  \n",
       "..                        ...   ...      ...  \n",
       "763                     0.171  63.0      0.0  \n",
       "764                     0.340  27.0      0.0  \n",
       "765                     0.245  30.0      0.0  \n",
       "766                     0.349  47.0      1.0  \n",
       "767                     0.315  23.0      0.0  \n",
       "\n",
       "[768 rows x 9 columns]"
      ]
     },
     "execution_count": 41,
     "metadata": {},
     "output_type": "execute_result"
    }
   ],
   "source": [
    "SI = SimpleImputer(missing_values=np.nan, strategy='median')\n",
    "DIAB_I = SI.fit_transform(DIAB)\n",
    "DIAB_I = pd.DataFrame(DIAB_I, columns=DIAB.columns)\n",
    "DIAB_I"
   ]
  },
  {
   "cell_type": "code",
   "execution_count": 42,
   "metadata": {
    "colab": {
     "base_uri": "https://localhost:8080/",
     "height": 424
    },
    "executionInfo": {
     "elapsed": 11,
     "status": "ok",
     "timestamp": 1731064828905,
     "user": {
      "displayName": "Camilla Sancricca",
      "userId": "00021980050560537453"
     },
     "user_tz": -60
    },
    "id": "QDMTqWSXytOx",
    "outputId": "65eab649-5306-4eac-ca90-ebcf587c2905"
   },
   "outputs": [
    {
     "data": {
      "text/html": [
       "<div>\n",
       "<style scoped>\n",
       "    .dataframe tbody tr th:only-of-type {\n",
       "        vertical-align: middle;\n",
       "    }\n",
       "\n",
       "    .dataframe tbody tr th {\n",
       "        vertical-align: top;\n",
       "    }\n",
       "\n",
       "    .dataframe thead th {\n",
       "        text-align: right;\n",
       "    }\n",
       "</style>\n",
       "<table border=\"1\" class=\"dataframe\">\n",
       "  <thead>\n",
       "    <tr style=\"text-align: right;\">\n",
       "      <th></th>\n",
       "      <th>Pregnancies</th>\n",
       "      <th>Glucose</th>\n",
       "      <th>BloodPressure</th>\n",
       "      <th>SkinThickness</th>\n",
       "      <th>Insulin</th>\n",
       "      <th>BMI</th>\n",
       "      <th>DiabetesPedigreeFunction</th>\n",
       "      <th>Age</th>\n",
       "      <th>Outcome</th>\n",
       "    </tr>\n",
       "  </thead>\n",
       "  <tbody>\n",
       "    <tr>\n",
       "      <th>0</th>\n",
       "      <td>6.0</td>\n",
       "      <td>148.0</td>\n",
       "      <td>72.0</td>\n",
       "      <td>35.0</td>\n",
       "      <td>105.0</td>\n",
       "      <td>33.6</td>\n",
       "      <td>0.627</td>\n",
       "      <td>50.0</td>\n",
       "      <td>1.0</td>\n",
       "    </tr>\n",
       "    <tr>\n",
       "      <th>1</th>\n",
       "      <td>1.0</td>\n",
       "      <td>85.0</td>\n",
       "      <td>66.0</td>\n",
       "      <td>29.0</td>\n",
       "      <td>105.0</td>\n",
       "      <td>26.6</td>\n",
       "      <td>0.351</td>\n",
       "      <td>31.0</td>\n",
       "      <td>0.0</td>\n",
       "    </tr>\n",
       "    <tr>\n",
       "      <th>2</th>\n",
       "      <td>8.0</td>\n",
       "      <td>183.0</td>\n",
       "      <td>64.0</td>\n",
       "      <td>32.0</td>\n",
       "      <td>105.0</td>\n",
       "      <td>23.3</td>\n",
       "      <td>0.672</td>\n",
       "      <td>32.0</td>\n",
       "      <td>1.0</td>\n",
       "    </tr>\n",
       "    <tr>\n",
       "      <th>3</th>\n",
       "      <td>1.0</td>\n",
       "      <td>89.0</td>\n",
       "      <td>66.0</td>\n",
       "      <td>23.0</td>\n",
       "      <td>94.0</td>\n",
       "      <td>28.1</td>\n",
       "      <td>0.167</td>\n",
       "      <td>21.0</td>\n",
       "      <td>0.0</td>\n",
       "    </tr>\n",
       "    <tr>\n",
       "      <th>4</th>\n",
       "      <td>1.0</td>\n",
       "      <td>137.0</td>\n",
       "      <td>40.0</td>\n",
       "      <td>35.0</td>\n",
       "      <td>168.0</td>\n",
       "      <td>43.1</td>\n",
       "      <td>2.288</td>\n",
       "      <td>33.0</td>\n",
       "      <td>1.0</td>\n",
       "    </tr>\n",
       "    <tr>\n",
       "      <th>...</th>\n",
       "      <td>...</td>\n",
       "      <td>...</td>\n",
       "      <td>...</td>\n",
       "      <td>...</td>\n",
       "      <td>...</td>\n",
       "      <td>...</td>\n",
       "      <td>...</td>\n",
       "      <td>...</td>\n",
       "      <td>...</td>\n",
       "    </tr>\n",
       "    <tr>\n",
       "      <th>763</th>\n",
       "      <td>10.0</td>\n",
       "      <td>101.0</td>\n",
       "      <td>76.0</td>\n",
       "      <td>48.0</td>\n",
       "      <td>180.0</td>\n",
       "      <td>32.9</td>\n",
       "      <td>0.171</td>\n",
       "      <td>63.0</td>\n",
       "      <td>0.0</td>\n",
       "    </tr>\n",
       "    <tr>\n",
       "      <th>764</th>\n",
       "      <td>2.0</td>\n",
       "      <td>122.0</td>\n",
       "      <td>70.0</td>\n",
       "      <td>27.0</td>\n",
       "      <td>105.0</td>\n",
       "      <td>36.8</td>\n",
       "      <td>0.340</td>\n",
       "      <td>27.0</td>\n",
       "      <td>0.0</td>\n",
       "    </tr>\n",
       "    <tr>\n",
       "      <th>765</th>\n",
       "      <td>5.0</td>\n",
       "      <td>121.0</td>\n",
       "      <td>72.0</td>\n",
       "      <td>23.0</td>\n",
       "      <td>112.0</td>\n",
       "      <td>26.2</td>\n",
       "      <td>0.245</td>\n",
       "      <td>30.0</td>\n",
       "      <td>0.0</td>\n",
       "    </tr>\n",
       "    <tr>\n",
       "      <th>766</th>\n",
       "      <td>1.0</td>\n",
       "      <td>126.0</td>\n",
       "      <td>60.0</td>\n",
       "      <td>32.0</td>\n",
       "      <td>105.0</td>\n",
       "      <td>30.1</td>\n",
       "      <td>0.349</td>\n",
       "      <td>47.0</td>\n",
       "      <td>1.0</td>\n",
       "    </tr>\n",
       "    <tr>\n",
       "      <th>767</th>\n",
       "      <td>1.0</td>\n",
       "      <td>93.0</td>\n",
       "      <td>70.0</td>\n",
       "      <td>31.0</td>\n",
       "      <td>105.0</td>\n",
       "      <td>30.4</td>\n",
       "      <td>0.315</td>\n",
       "      <td>23.0</td>\n",
       "      <td>0.0</td>\n",
       "    </tr>\n",
       "  </tbody>\n",
       "</table>\n",
       "<p>768 rows × 9 columns</p>\n",
       "</div>"
      ],
      "text/plain": [
       "     Pregnancies  Glucose  BloodPressure  SkinThickness  Insulin   BMI  \\\n",
       "0            6.0    148.0           72.0           35.0    105.0  33.6   \n",
       "1            1.0     85.0           66.0           29.0    105.0  26.6   \n",
       "2            8.0    183.0           64.0           32.0    105.0  23.3   \n",
       "3            1.0     89.0           66.0           23.0     94.0  28.1   \n",
       "4            1.0    137.0           40.0           35.0    168.0  43.1   \n",
       "..           ...      ...            ...            ...      ...   ...   \n",
       "763         10.0    101.0           76.0           48.0    180.0  32.9   \n",
       "764          2.0    122.0           70.0           27.0    105.0  36.8   \n",
       "765          5.0    121.0           72.0           23.0    112.0  26.2   \n",
       "766          1.0    126.0           60.0           32.0    105.0  30.1   \n",
       "767          1.0     93.0           70.0           31.0    105.0  30.4   \n",
       "\n",
       "     DiabetesPedigreeFunction   Age  Outcome  \n",
       "0                       0.627  50.0      1.0  \n",
       "1                       0.351  31.0      0.0  \n",
       "2                       0.672  32.0      1.0  \n",
       "3                       0.167  21.0      0.0  \n",
       "4                       2.288  33.0      1.0  \n",
       "..                        ...   ...      ...  \n",
       "763                     0.171  63.0      0.0  \n",
       "764                     0.340  27.0      0.0  \n",
       "765                     0.245  30.0      0.0  \n",
       "766                     0.349  47.0      1.0  \n",
       "767                     0.315  23.0      0.0  \n",
       "\n",
       "[768 rows x 9 columns]"
      ]
     },
     "execution_count": 42,
     "metadata": {},
     "output_type": "execute_result"
    }
   ],
   "source": [
    "SI = SimpleImputer(missing_values=np.nan, strategy='most_frequent')\n",
    "DIAB_I = SI.fit_transform(DIAB)\n",
    "DIAB_I = pd.DataFrame(DIAB_I, columns=DIAB.columns)\n",
    "DIAB_I"
   ]
  },
  {
   "cell_type": "markdown",
   "metadata": {
    "id": "0o6-sR9MyxQ4"
   },
   "source": [
    "**2. ML-BASED IMPUTATION**\n",
    "\n",
    "*Algorithms*:\n",
    "  - k-Nearest Neighbors (KNNImputer)\n",
    "  - Linear/Logistic Regression\n",
    "  - Other algorithms (e.g., Random Forest)"
   ]
  },
  {
   "cell_type": "code",
   "execution_count": 43,
   "metadata": {
    "colab": {
     "base_uri": "https://localhost:8080/",
     "height": 366
    },
    "executionInfo": {
     "elapsed": 10,
     "status": "ok",
     "timestamp": 1731064828905,
     "user": {
      "displayName": "Camilla Sancricca",
      "userId": "00021980050560537453"
     },
     "user_tz": -60
    },
    "id": "ZRdxozQvytIx",
    "outputId": "551eecc5-c0b7-45a4-c534-fc73def8274a"
   },
   "outputs": [
    {
     "data": {
      "text/plain": [
       "Pregnancies                 111\n",
       "Glucose                       5\n",
       "BloodPressure                35\n",
       "SkinThickness               227\n",
       "Insulin                     374\n",
       "BMI                          11\n",
       "DiabetesPedigreeFunction      0\n",
       "Age                           0\n",
       "Outcome                       0\n",
       "dtype: int64"
      ]
     },
     "execution_count": 43,
     "metadata": {},
     "output_type": "execute_result"
    }
   ],
   "source": [
    "DIAB.isnull().sum()"
   ]
  },
  {
   "cell_type": "code",
   "execution_count": 44,
   "metadata": {
    "colab": {
     "base_uri": "https://localhost:8080/",
     "height": 89
    },
    "executionInfo": {
     "elapsed": 10,
     "status": "ok",
     "timestamp": 1731064828905,
     "user": {
      "displayName": "Camilla Sancricca",
      "userId": "00021980050560537453"
     },
     "user_tz": -60
    },
    "id": "x6Yyine_y63P",
    "outputId": "47a377e4-e9b0-4202-94d6-3ae0d01fa791"
   },
   "outputs": [
    {
     "data": {
      "text/html": [
       "<div>\n",
       "<style scoped>\n",
       "    .dataframe tbody tr th:only-of-type {\n",
       "        vertical-align: middle;\n",
       "    }\n",
       "\n",
       "    .dataframe tbody tr th {\n",
       "        vertical-align: top;\n",
       "    }\n",
       "\n",
       "    .dataframe thead th {\n",
       "        text-align: right;\n",
       "    }\n",
       "</style>\n",
       "<table border=\"1\" class=\"dataframe\">\n",
       "  <thead>\n",
       "    <tr style=\"text-align: right;\">\n",
       "      <th></th>\n",
       "      <th>IMPPregnancies</th>\n",
       "      <th>IMPGlucose</th>\n",
       "      <th>IMPBloodPressure</th>\n",
       "      <th>IMPSkinThickness</th>\n",
       "      <th>IMPInsulin</th>\n",
       "      <th>IMPBMI</th>\n",
       "    </tr>\n",
       "  </thead>\n",
       "  <tbody>\n",
       "  </tbody>\n",
       "</table>\n",
       "</div>"
      ],
      "text/plain": [
       "Empty DataFrame\n",
       "Columns: [IMPPregnancies, IMPGlucose, IMPBloodPressure, IMPSkinThickness, IMPInsulin, IMPBMI]\n",
       "Index: []"
      ]
     },
     "execution_count": 44,
     "metadata": {},
     "output_type": "execute_result"
    }
   ],
   "source": [
    "missing_columns = [\"Pregnancies\",\"Glucose\", \"BloodPressure\", \"SkinThickness\", \"Insulin\", \"BMI\"]\n",
    "\n",
    "IMP_DATA = pd.DataFrame(columns=[\"IMP\" + name for name in missing_columns])\n",
    "IMP_DATA"
   ]
  },
  {
   "cell_type": "markdown",
   "metadata": {
    "id": "YoF27UbB6iOS"
   },
   "source": [
    "KNNImputer (*sklearn* library)\n",
    "\n",
    "  - Each sample’s missing values are imputed using the mean value from n_neighbors nearest neighbors found in the training set."
   ]
  },
  {
   "cell_type": "code",
   "execution_count": 45,
   "metadata": {
    "colab": {
     "base_uri": "https://localhost:8080/",
     "height": 424
    },
    "executionInfo": {
     "elapsed": 9,
     "status": "ok",
     "timestamp": 1731064828905,
     "user": {
      "displayName": "Camilla Sancricca",
      "userId": "00021980050560537453"
     },
     "user_tz": -60
    },
    "id": "O918brAFy6z3",
    "outputId": "898e3889-13e4-454f-b897-0528af06bc96"
   },
   "outputs": [
    {
     "data": {
      "text/html": [
       "<div>\n",
       "<style scoped>\n",
       "    .dataframe tbody tr th:only-of-type {\n",
       "        vertical-align: middle;\n",
       "    }\n",
       "\n",
       "    .dataframe tbody tr th {\n",
       "        vertical-align: top;\n",
       "    }\n",
       "\n",
       "    .dataframe thead th {\n",
       "        text-align: right;\n",
       "    }\n",
       "</style>\n",
       "<table border=\"1\" class=\"dataframe\">\n",
       "  <thead>\n",
       "    <tr style=\"text-align: right;\">\n",
       "      <th></th>\n",
       "      <th>IMPPregnancies</th>\n",
       "      <th>IMPGlucose</th>\n",
       "      <th>IMPBloodPressure</th>\n",
       "      <th>IMPSkinThickness</th>\n",
       "      <th>IMPInsulin</th>\n",
       "      <th>IMPBMI</th>\n",
       "    </tr>\n",
       "  </thead>\n",
       "  <tbody>\n",
       "    <tr>\n",
       "      <th>0</th>\n",
       "      <td>6.0</td>\n",
       "      <td>148.0</td>\n",
       "      <td>72.0</td>\n",
       "      <td>35.0</td>\n",
       "      <td>169.0</td>\n",
       "      <td>33.6</td>\n",
       "    </tr>\n",
       "    <tr>\n",
       "      <th>1</th>\n",
       "      <td>1.0</td>\n",
       "      <td>85.0</td>\n",
       "      <td>66.0</td>\n",
       "      <td>29.0</td>\n",
       "      <td>58.6</td>\n",
       "      <td>26.6</td>\n",
       "    </tr>\n",
       "    <tr>\n",
       "      <th>2</th>\n",
       "      <td>8.0</td>\n",
       "      <td>183.0</td>\n",
       "      <td>64.0</td>\n",
       "      <td>25.8</td>\n",
       "      <td>164.6</td>\n",
       "      <td>23.3</td>\n",
       "    </tr>\n",
       "    <tr>\n",
       "      <th>3</th>\n",
       "      <td>1.0</td>\n",
       "      <td>89.0</td>\n",
       "      <td>66.0</td>\n",
       "      <td>23.0</td>\n",
       "      <td>94.0</td>\n",
       "      <td>28.1</td>\n",
       "    </tr>\n",
       "    <tr>\n",
       "      <th>4</th>\n",
       "      <td>6.2</td>\n",
       "      <td>137.0</td>\n",
       "      <td>40.0</td>\n",
       "      <td>35.0</td>\n",
       "      <td>168.0</td>\n",
       "      <td>43.1</td>\n",
       "    </tr>\n",
       "    <tr>\n",
       "      <th>...</th>\n",
       "      <td>...</td>\n",
       "      <td>...</td>\n",
       "      <td>...</td>\n",
       "      <td>...</td>\n",
       "      <td>...</td>\n",
       "      <td>...</td>\n",
       "    </tr>\n",
       "    <tr>\n",
       "      <th>763</th>\n",
       "      <td>10.0</td>\n",
       "      <td>101.0</td>\n",
       "      <td>76.0</td>\n",
       "      <td>48.0</td>\n",
       "      <td>180.0</td>\n",
       "      <td>32.9</td>\n",
       "    </tr>\n",
       "    <tr>\n",
       "      <th>764</th>\n",
       "      <td>2.0</td>\n",
       "      <td>122.0</td>\n",
       "      <td>70.0</td>\n",
       "      <td>27.0</td>\n",
       "      <td>165.0</td>\n",
       "      <td>36.8</td>\n",
       "    </tr>\n",
       "    <tr>\n",
       "      <th>765</th>\n",
       "      <td>5.0</td>\n",
       "      <td>121.0</td>\n",
       "      <td>72.0</td>\n",
       "      <td>23.0</td>\n",
       "      <td>112.0</td>\n",
       "      <td>26.2</td>\n",
       "    </tr>\n",
       "    <tr>\n",
       "      <th>766</th>\n",
       "      <td>1.0</td>\n",
       "      <td>126.0</td>\n",
       "      <td>60.0</td>\n",
       "      <td>35.2</td>\n",
       "      <td>134.2</td>\n",
       "      <td>30.1</td>\n",
       "    </tr>\n",
       "    <tr>\n",
       "      <th>767</th>\n",
       "      <td>1.0</td>\n",
       "      <td>93.0</td>\n",
       "      <td>70.0</td>\n",
       "      <td>31.0</td>\n",
       "      <td>66.6</td>\n",
       "      <td>30.4</td>\n",
       "    </tr>\n",
       "  </tbody>\n",
       "</table>\n",
       "<p>768 rows × 6 columns</p>\n",
       "</div>"
      ],
      "text/plain": [
       "     IMPPregnancies  IMPGlucose  IMPBloodPressure  IMPSkinThickness  \\\n",
       "0               6.0       148.0              72.0              35.0   \n",
       "1               1.0        85.0              66.0              29.0   \n",
       "2               8.0       183.0              64.0              25.8   \n",
       "3               1.0        89.0              66.0              23.0   \n",
       "4               6.2       137.0              40.0              35.0   \n",
       "..              ...         ...               ...               ...   \n",
       "763            10.0       101.0              76.0              48.0   \n",
       "764             2.0       122.0              70.0              27.0   \n",
       "765             5.0       121.0              72.0              23.0   \n",
       "766             1.0       126.0              60.0              35.2   \n",
       "767             1.0        93.0              70.0              31.0   \n",
       "\n",
       "     IMPInsulin  IMPBMI  \n",
       "0         169.0    33.6  \n",
       "1          58.6    26.6  \n",
       "2         164.6    23.3  \n",
       "3          94.0    28.1  \n",
       "4         168.0    43.1  \n",
       "..          ...     ...  \n",
       "763       180.0    32.9  \n",
       "764       165.0    36.8  \n",
       "765       112.0    26.2  \n",
       "766       134.2    30.1  \n",
       "767        66.6    30.4  \n",
       "\n",
       "[768 rows x 6 columns]"
      ]
     },
     "execution_count": 45,
     "metadata": {},
     "output_type": "execute_result"
    }
   ],
   "source": [
    "df = DIAB.copy()\n",
    "\n",
    "IMPUTER = KNNImputer(n_neighbors=5)\n",
    "\n",
    "df_knn = pd.DataFrame(IMPUTER.fit_transform(df))\n",
    "df_knn.columns = df.columns\n",
    "for col in missing_columns:\n",
    "    IMP_DATA[\"IMP\" + col] = df_knn[col]\n",
    "IMP_DATA"
   ]
  },
  {
   "cell_type": "code",
   "execution_count": 46,
   "metadata": {
    "colab": {
     "base_uri": "https://localhost:8080/",
     "height": 1000
    },
    "executionInfo": {
     "elapsed": 4197,
     "status": "ok",
     "timestamp": 1731064833093,
     "user": {
      "displayName": "Camilla Sancricca",
      "userId": "00021980050560537453"
     },
     "user_tz": -60
    },
    "id": "RnqYNKTey6wO",
    "outputId": "1f223df4-cac3-4757-d667-4a5eac298f46"
   },
   "outputs": [
    {
     "data": {
      "image/png": "[encoded data removed]",
      "text/plain": [
       "<Figure size 800x2000 with 12 Axes>"
      ]
     },
     "metadata": {},
     "output_type": "display_data"
    }
   ],
   "source": [
    "s.plot_imp(DIAB, IMP_DATA, missing_columns)"
   ]
  },
  {
   "cell_type": "markdown",
   "metadata": {
    "id": "c0dEZSlWzCiV"
   },
   "source": [
    "Linear Regression (*sklearn* library)\n",
    "\n",
    "  - Linear Regression fits a linear model with coefficients w = (w1, …, wp) to minimize the residual sum of squares (RSS) between the observed targets in the dataset, and the targets predicted by the linear approximation."
   ]
  },
  {
   "cell_type": "code",
   "execution_count": 47,
   "metadata": {
    "colab": {
     "base_uri": "https://localhost:8080/",
     "height": 89
    },
    "executionInfo": {
     "elapsed": 9,
     "status": "ok",
     "timestamp": 1731064833093,
     "user": {
      "displayName": "Camilla Sancricca",
      "userId": "00021980050560537453"
     },
     "user_tz": -60
    },
    "id": "iGspAR82y6st",
    "outputId": "d97c58e3-e412-4100-844a-9098c8c9ac81"
   },
   "outputs": [
    {
     "data": {
      "text/html": [
       "<div>\n",
       "<style scoped>\n",
       "    .dataframe tbody tr th:only-of-type {\n",
       "        vertical-align: middle;\n",
       "    }\n",
       "\n",
       "    .dataframe tbody tr th {\n",
       "        vertical-align: top;\n",
       "    }\n",
       "\n",
       "    .dataframe thead th {\n",
       "        text-align: right;\n",
       "    }\n",
       "</style>\n",
       "<table border=\"1\" class=\"dataframe\">\n",
       "  <thead>\n",
       "    <tr style=\"text-align: right;\">\n",
       "      <th></th>\n",
       "      <th>IMPPregnancies</th>\n",
       "      <th>IMPGlucose</th>\n",
       "      <th>IMPBloodPressure</th>\n",
       "      <th>IMPSkinThickness</th>\n",
       "      <th>IMPInsulin</th>\n",
       "      <th>IMPBMI</th>\n",
       "    </tr>\n",
       "  </thead>\n",
       "  <tbody>\n",
       "  </tbody>\n",
       "</table>\n",
       "</div>"
      ],
      "text/plain": [
       "Empty DataFrame\n",
       "Columns: [IMPPregnancies, IMPGlucose, IMPBloodPressure, IMPSkinThickness, IMPInsulin, IMPBMI]\n",
       "Index: []"
      ]
     },
     "execution_count": 47,
     "metadata": {},
     "output_type": "execute_result"
    }
   ],
   "source": [
    "IMP_DATA = pd.DataFrame(columns = [\"IMP\" + name for name in missing_columns])\n",
    "IMP_DATA"
   ]
  },
  {
   "cell_type": "code",
   "execution_count": 48,
   "metadata": {
    "colab": {
     "base_uri": "https://localhost:8080/",
     "height": 444
    },
    "executionInfo": {
     "elapsed": 8,
     "status": "ok",
     "timestamp": 1731064833093,
     "user": {
      "displayName": "Camilla Sancricca",
      "userId": "00021980050560537453"
     },
     "user_tz": -60
    },
    "id": "NvK22tRoy6pc",
    "outputId": "47b634dc-0791-4b05-ae5e-7031d3eaab2c"
   },
   "outputs": [
    {
     "data": {
      "text/html": [
       "<div>\n",
       "<style scoped>\n",
       "    .dataframe tbody tr th:only-of-type {\n",
       "        vertical-align: middle;\n",
       "    }\n",
       "\n",
       "    .dataframe tbody tr th {\n",
       "        vertical-align: top;\n",
       "    }\n",
       "\n",
       "    .dataframe thead th {\n",
       "        text-align: right;\n",
       "    }\n",
       "</style>\n",
       "<table border=\"1\" class=\"dataframe\">\n",
       "  <thead>\n",
       "    <tr style=\"text-align: right;\">\n",
       "      <th></th>\n",
       "      <th>Pregnancies</th>\n",
       "      <th>Glucose</th>\n",
       "      <th>BloodPressure</th>\n",
       "      <th>SkinThickness</th>\n",
       "      <th>Insulin</th>\n",
       "      <th>BMI</th>\n",
       "      <th>DiabetesPedigreeFunction</th>\n",
       "      <th>Age</th>\n",
       "      <th>Outcome</th>\n",
       "      <th>Pregnancies_imp</th>\n",
       "      <th>Glucose_imp</th>\n",
       "      <th>BloodPressure_imp</th>\n",
       "      <th>SkinThickness_imp</th>\n",
       "      <th>Insulin_imp</th>\n",
       "      <th>BMI_imp</th>\n",
       "    </tr>\n",
       "  </thead>\n",
       "  <tbody>\n",
       "    <tr>\n",
       "      <th>0</th>\n",
       "      <td>6.0</td>\n",
       "      <td>148.0</td>\n",
       "      <td>72.0</td>\n",
       "      <td>35.0</td>\n",
       "      <td>NaN</td>\n",
       "      <td>33.6</td>\n",
       "      <td>0.627</td>\n",
       "      <td>50</td>\n",
       "      <td>1</td>\n",
       "      <td>6.0</td>\n",
       "      <td>148.0</td>\n",
       "      <td>72.0</td>\n",
       "      <td>35.0</td>\n",
       "      <td>125.0</td>\n",
       "      <td>33.6</td>\n",
       "    </tr>\n",
       "    <tr>\n",
       "      <th>1</th>\n",
       "      <td>1.0</td>\n",
       "      <td>85.0</td>\n",
       "      <td>66.0</td>\n",
       "      <td>29.0</td>\n",
       "      <td>NaN</td>\n",
       "      <td>26.6</td>\n",
       "      <td>0.351</td>\n",
       "      <td>31</td>\n",
       "      <td>0</td>\n",
       "      <td>1.0</td>\n",
       "      <td>85.0</td>\n",
       "      <td>66.0</td>\n",
       "      <td>29.0</td>\n",
       "      <td>125.0</td>\n",
       "      <td>26.6</td>\n",
       "    </tr>\n",
       "    <tr>\n",
       "      <th>2</th>\n",
       "      <td>8.0</td>\n",
       "      <td>183.0</td>\n",
       "      <td>64.0</td>\n",
       "      <td>NaN</td>\n",
       "      <td>NaN</td>\n",
       "      <td>23.3</td>\n",
       "      <td>0.672</td>\n",
       "      <td>32</td>\n",
       "      <td>1</td>\n",
       "      <td>8.0</td>\n",
       "      <td>183.0</td>\n",
       "      <td>64.0</td>\n",
       "      <td>29.0</td>\n",
       "      <td>125.0</td>\n",
       "      <td>23.3</td>\n",
       "    </tr>\n",
       "    <tr>\n",
       "      <th>3</th>\n",
       "      <td>1.0</td>\n",
       "      <td>89.0</td>\n",
       "      <td>66.0</td>\n",
       "      <td>23.0</td>\n",
       "      <td>94.0</td>\n",
       "      <td>28.1</td>\n",
       "      <td>0.167</td>\n",
       "      <td>21</td>\n",
       "      <td>0</td>\n",
       "      <td>1.0</td>\n",
       "      <td>89.0</td>\n",
       "      <td>66.0</td>\n",
       "      <td>23.0</td>\n",
       "      <td>94.0</td>\n",
       "      <td>28.1</td>\n",
       "    </tr>\n",
       "    <tr>\n",
       "      <th>4</th>\n",
       "      <td>NaN</td>\n",
       "      <td>137.0</td>\n",
       "      <td>40.0</td>\n",
       "      <td>35.0</td>\n",
       "      <td>168.0</td>\n",
       "      <td>43.1</td>\n",
       "      <td>2.288</td>\n",
       "      <td>33</td>\n",
       "      <td>1</td>\n",
       "      <td>4.0</td>\n",
       "      <td>137.0</td>\n",
       "      <td>40.0</td>\n",
       "      <td>35.0</td>\n",
       "      <td>168.0</td>\n",
       "      <td>43.1</td>\n",
       "    </tr>\n",
       "    <tr>\n",
       "      <th>...</th>\n",
       "      <td>...</td>\n",
       "      <td>...</td>\n",
       "      <td>...</td>\n",
       "      <td>...</td>\n",
       "      <td>...</td>\n",
       "      <td>...</td>\n",
       "      <td>...</td>\n",
       "      <td>...</td>\n",
       "      <td>...</td>\n",
       "      <td>...</td>\n",
       "      <td>...</td>\n",
       "      <td>...</td>\n",
       "      <td>...</td>\n",
       "      <td>...</td>\n",
       "      <td>...</td>\n",
       "    </tr>\n",
       "    <tr>\n",
       "      <th>763</th>\n",
       "      <td>10.0</td>\n",
       "      <td>101.0</td>\n",
       "      <td>76.0</td>\n",
       "      <td>48.0</td>\n",
       "      <td>180.0</td>\n",
       "      <td>32.9</td>\n",
       "      <td>0.171</td>\n",
       "      <td>63</td>\n",
       "      <td>0</td>\n",
       "      <td>10.0</td>\n",
       "      <td>101.0</td>\n",
       "      <td>76.0</td>\n",
       "      <td>48.0</td>\n",
       "      <td>180.0</td>\n",
       "      <td>32.9</td>\n",
       "    </tr>\n",
       "    <tr>\n",
       "      <th>764</th>\n",
       "      <td>2.0</td>\n",
       "      <td>122.0</td>\n",
       "      <td>70.0</td>\n",
       "      <td>27.0</td>\n",
       "      <td>NaN</td>\n",
       "      <td>36.8</td>\n",
       "      <td>0.340</td>\n",
       "      <td>27</td>\n",
       "      <td>0</td>\n",
       "      <td>2.0</td>\n",
       "      <td>122.0</td>\n",
       "      <td>70.0</td>\n",
       "      <td>27.0</td>\n",
       "      <td>125.0</td>\n",
       "      <td>36.8</td>\n",
       "    </tr>\n",
       "    <tr>\n",
       "      <th>765</th>\n",
       "      <td>5.0</td>\n",
       "      <td>121.0</td>\n",
       "      <td>72.0</td>\n",
       "      <td>23.0</td>\n",
       "      <td>112.0</td>\n",
       "      <td>26.2</td>\n",
       "      <td>0.245</td>\n",
       "      <td>30</td>\n",
       "      <td>0</td>\n",
       "      <td>5.0</td>\n",
       "      <td>121.0</td>\n",
       "      <td>72.0</td>\n",
       "      <td>23.0</td>\n",
       "      <td>112.0</td>\n",
       "      <td>26.2</td>\n",
       "    </tr>\n",
       "    <tr>\n",
       "      <th>766</th>\n",
       "      <td>1.0</td>\n",
       "      <td>126.0</td>\n",
       "      <td>60.0</td>\n",
       "      <td>NaN</td>\n",
       "      <td>NaN</td>\n",
       "      <td>30.1</td>\n",
       "      <td>0.349</td>\n",
       "      <td>47</td>\n",
       "      <td>1</td>\n",
       "      <td>1.0</td>\n",
       "      <td>126.0</td>\n",
       "      <td>60.0</td>\n",
       "      <td>29.0</td>\n",
       "      <td>125.0</td>\n",
       "      <td>30.1</td>\n",
       "    </tr>\n",
       "    <tr>\n",
       "      <th>767</th>\n",
       "      <td>1.0</td>\n",
       "      <td>93.0</td>\n",
       "      <td>70.0</td>\n",
       "      <td>31.0</td>\n",
       "      <td>NaN</td>\n",
       "      <td>30.4</td>\n",
       "      <td>0.315</td>\n",
       "      <td>23</td>\n",
       "      <td>0</td>\n",
       "      <td>1.0</td>\n",
       "      <td>93.0</td>\n",
       "      <td>70.0</td>\n",
       "      <td>31.0</td>\n",
       "      <td>125.0</td>\n",
       "      <td>30.4</td>\n",
       "    </tr>\n",
       "  </tbody>\n",
       "</table>\n",
       "<p>768 rows × 15 columns</p>\n",
       "</div>"
      ],
      "text/plain": [
       "     Pregnancies  Glucose  BloodPressure  SkinThickness  Insulin   BMI  \\\n",
       "0            6.0    148.0           72.0           35.0      NaN  33.6   \n",
       "1            1.0     85.0           66.0           29.0      NaN  26.6   \n",
       "2            8.0    183.0           64.0            NaN      NaN  23.3   \n",
       "3            1.0     89.0           66.0           23.0     94.0  28.1   \n",
       "4            NaN    137.0           40.0           35.0    168.0  43.1   \n",
       "..           ...      ...            ...            ...      ...   ...   \n",
       "763         10.0    101.0           76.0           48.0    180.0  32.9   \n",
       "764          2.0    122.0           70.0           27.0      NaN  36.8   \n",
       "765          5.0    121.0           72.0           23.0    112.0  26.2   \n",
       "766          1.0    126.0           60.0            NaN      NaN  30.1   \n",
       "767          1.0     93.0           70.0           31.0      NaN  30.4   \n",
       "\n",
       "     DiabetesPedigreeFunction  Age  Outcome  Pregnancies_imp  Glucose_imp  \\\n",
       "0                       0.627   50        1              6.0        148.0   \n",
       "1                       0.351   31        0              1.0         85.0   \n",
       "2                       0.672   32        1              8.0        183.0   \n",
       "3                       0.167   21        0              1.0         89.0   \n",
       "4                       2.288   33        1              4.0        137.0   \n",
       "..                        ...  ...      ...              ...          ...   \n",
       "763                     0.171   63        0             10.0        101.0   \n",
       "764                     0.340   27        0              2.0        122.0   \n",
       "765                     0.245   30        0              5.0        121.0   \n",
       "766                     0.349   47        1              1.0        126.0   \n",
       "767                     0.315   23        0              1.0         93.0   \n",
       "\n",
       "     BloodPressure_imp  SkinThickness_imp  Insulin_imp  BMI_imp  \n",
       "0                 72.0               35.0        125.0     33.6  \n",
       "1                 66.0               29.0        125.0     26.6  \n",
       "2                 64.0               29.0        125.0     23.3  \n",
       "3                 66.0               23.0         94.0     28.1  \n",
       "4                 40.0               35.0        168.0     43.1  \n",
       "..                 ...                ...          ...      ...  \n",
       "763               76.0               48.0        180.0     32.9  \n",
       "764               70.0               27.0        125.0     36.8  \n",
       "765               72.0               23.0        112.0     26.2  \n",
       "766               60.0               29.0        125.0     30.1  \n",
       "767               70.0               31.0        125.0     30.4  \n",
       "\n",
       "[768 rows x 15 columns]"
      ]
     },
     "execution_count": 48,
     "metadata": {},
     "output_type": "execute_result"
    }
   ],
   "source": [
    "for feature in missing_columns:\n",
    "\n",
    "    DIAB[feature + '_imp'] = DIAB[feature]\n",
    "\n",
    "    DIAB.loc[DIAB[feature].isnull(), feature + '_imp'] = DIAB[feature].median()\n",
    "\n",
    "DIAB"
   ]
  },
  {
   "cell_type": "code",
   "execution_count": 49,
   "metadata": {
    "colab": {
     "base_uri": "https://localhost:8080/",
     "height": 424
    },
    "executionInfo": {
     "elapsed": 8,
     "status": "ok",
     "timestamp": 1731064833093,
     "user": {
      "displayName": "Camilla Sancricca",
      "userId": "00021980050560537453"
     },
     "user_tz": -60
    },
    "id": "CzuPnFZYfFyr",
    "outputId": "784aa539-a1f5-44d4-855e-ddc6a40d37e3"
   },
   "outputs": [
    {
     "ename": "NameError",
     "evalue": "name 'parameters' is not defined",
     "output_type": "error",
     "traceback": [
      "\u001b[1;31m---------------------------------------------------------------------------\u001b[0m",
      "\u001b[1;31mNameError\u001b[0m                                 Traceback (most recent call last)",
      "Cell \u001b[1;32mIn[49], line 1\u001b[0m\n\u001b[1;32m----> 1\u001b[0m DIAB[\u001b[43mparameters\u001b[49m]\u001b[38;5;241m.\u001b[39mloc[DIAB[feature]\u001b[38;5;241m.\u001b[39mnotnull()]\n",
      "\u001b[1;31mNameError\u001b[0m: name 'parameters' is not defined"
     ]
    }
   ],
   "source": [
    "DIAB[parameters].loc[DIAB[feature].notnull()]"
   ]
  },
  {
   "cell_type": "code",
   "execution_count": null,
   "metadata": {
    "colab": {
     "base_uri": "https://localhost:8080/",
     "height": 531
    },
    "executionInfo": {
     "elapsed": 7,
     "status": "ok",
     "timestamp": 1731064833093,
     "user": {
      "displayName": "Camilla Sancricca",
      "userId": "00021980050560537453"
     },
     "user_tz": -60
    },
    "id": "xyGMX9dtzHDY",
    "outputId": "3777e93d-a47a-466f-cd64-2d4e4bdb5ed3"
   },
   "outputs": [],
   "source": [
    "for feature in missing_columns:\n",
    "\n",
    "    IMP_DATA[\"IMP\" + feature] = DIAB[feature]\n",
    "    parameters = list(set(DIAB.columns) - set(missing_columns) - {feature + '_imp'})\n",
    "\n",
    "    #Create a Linear Regression model to estimate the missing data\n",
    "    model = linear_model.LinearRegression()\n",
    "    model.fit(X = DIAB[parameters].loc[DIAB[feature].notnull()], y = DIAB[feature + '_imp'].loc[DIAB[feature].notnull()])\n",
    "    model_predicted = model.predict(DIAB[parameters].loc[DIAB[feature].isnull()])\n",
    "\n",
    "    #observe that I preserve the index of the missing data from the original dataframe\n",
    "    print(\"IMP\" + feature + \" successfully imputed\")\n",
    "    IMP_DATA.loc[DIAB[feature].isnull(), \"IMP\" + feature] = model_predicted\n",
    "IMP_DATA"
   ]
  },
  {
   "cell_type": "code",
   "execution_count": null,
   "metadata": {
    "colab": {
     "base_uri": "https://localhost:8080/",
     "height": 1000
    },
    "executionInfo": {
     "elapsed": 4232,
     "status": "ok",
     "timestamp": 1731064837319,
     "user": {
      "displayName": "Camilla Sancricca",
      "userId": "00021980050560537453"
     },
     "user_tz": -60
    },
    "id": "cjdcUG3LzHAQ",
    "outputId": "392017cb-37e9-475e-dad5-0264de6bc226"
   },
   "outputs": [],
   "source": [
    "s.plot_imp(DIAB,IMP_DATA,missing_columns)"
   ]
  },
  {
   "cell_type": "markdown",
   "metadata": {
    "id": "vARzW0cnV1RU"
   },
   "source": [
    "Other Algorithms (always of *sklearn*) with the same procedure!\n",
    "\n",
    "(Linear/Logistic Regression for numerical/categorical variables  or Random Forest)"
   ]
  },
  {
   "cell_type": "code",
   "execution_count": 86,
   "metadata": {
    "executionInfo": {
     "elapsed": 12,
     "status": "ok",
     "timestamp": 1731064837319,
     "user": {
      "displayName": "Camilla Sancricca",
      "userId": "00021980050560537453"
     },
     "user_tz": -60
    },
    "id": "UWifb6lKWfcN"
   },
   "outputs": [],
   "source": [
    "DIAB = pd.read_csv(\"https://raw.githubusercontent.com/camillasancricca/DATADIQ/master/DIABETES.csv\")"
   ]
  },
  {
   "cell_type": "code",
   "execution_count": 87,
   "metadata": {
    "executionInfo": {
     "elapsed": 12,
     "status": "ok",
     "timestamp": 1731064837320,
     "user": {
      "displayName": "Camilla Sancricca",
      "userId": "00021980050560537453"
     },
     "user_tz": -60
    },
    "id": "nTRMjigTW6XL"
   },
   "outputs": [],
   "source": [
    "DIAB[COLS] = DIAB[COLS].replace(0,np.nan)\n",
    "DIAB.loc[DIAB['Pregnancies'] > 1, 'Pregnancies'] = 'More'\n",
    "DIAB.loc[DIAB['Pregnancies'] == 1, 'Pregnancies'] = 'One'"
   ]
  },
  {
   "cell_type": "code",
   "execution_count": null,
   "metadata": {
    "colab": {
     "base_uri": "https://localhost:8080/",
     "height": 424
    },
    "executionInfo": {
     "elapsed": 12,
     "status": "ok",
     "timestamp": 1731064837320,
     "user": {
      "displayName": "Camilla Sancricca",
      "userId": "00021980050560537453"
     },
     "user_tz": -60
    },
    "id": "_1cbbAVMX6Ok",
    "outputId": "fa26bcd5-9e3a-4da0-a361-759f72d96214"
   },
   "outputs": [],
   "source": [
    "DIAB"
   ]
  },
  {
   "cell_type": "code",
   "execution_count": null,
   "metadata": {
    "colab": {
     "base_uri": "https://localhost:8080/",
     "height": 89
    },
    "executionInfo": {
     "elapsed": 11,
     "status": "ok",
     "timestamp": 1731064837320,
     "user": {
      "displayName": "Camilla Sancricca",
      "userId": "00021980050560537453"
     },
     "user_tz": -60
    },
    "id": "MoFAubG2WUoW",
    "outputId": "cfaca9dc-7546-454d-8435-4e5e0d283b2d"
   },
   "outputs": [],
   "source": [
    "missing_columns = [\"Pregnancies\",\"Glucose\", \"BloodPressure\", \"SkinThickness\", \"Insulin\", \"BMI\"]\n",
    "\n",
    "IMP_DATA = pd.DataFrame(columns = [\"IMP\" + name for name in missing_columns])\n",
    "IMP_DATA"
   ]
  },
  {
   "cell_type": "code",
   "execution_count": null,
   "metadata": {
    "colab": {
     "base_uri": "https://localhost:8080/",
     "height": 444
    },
    "executionInfo": {
     "elapsed": 10,
     "status": "ok",
     "timestamp": 1731064837320,
     "user": {
      "displayName": "Camilla Sancricca",
      "userId": "00021980050560537453"
     },
     "user_tz": -60
    },
    "id": "t7nIt7FWWQ2p",
    "outputId": "c0274df9-6d8d-4bc2-e272-160426cf6e4b"
   },
   "outputs": [],
   "source": [
    "CAT = list(DIAB.select_dtypes(include=['bool','object']).columns)\n",
    "NUM = list(DIAB.select_dtypes(include=['int64','float64']).columns)\n",
    "\n",
    "for feature in missing_columns:\n",
    "\n",
    "    DIAB[feature + '_imp'] = DIAB[feature]\n",
    "\n",
    "    if feature in NUM:\n",
    "      DIAB.loc[DIAB[feature].isnull(), feature + '_imp'] = DIAB[feature].median()\n",
    "    elif feature in CAT:\n",
    "      DIAB.loc[DIAB[feature].isnull(), feature + '_imp'] = DIAB[feature].mode()[0]\n",
    "\n",
    "DIAB"
   ]
  },
  {
   "cell_type": "code",
   "execution_count": null,
   "metadata": {
    "colab": {
     "base_uri": "https://localhost:8080/",
     "height": 531
    },
    "executionInfo": {
     "elapsed": 288,
     "status": "ok",
     "timestamp": 1731064837599,
     "user": {
      "displayName": "Camilla Sancricca",
      "userId": "00021980050560537453"
     },
     "user_tz": -60
    },
    "id": "ZOpAhw5AVxVA",
    "outputId": "bc0d3a5f-9541-4f32-943a-c63207e57e92"
   },
   "outputs": [],
   "source": [
    "for feature in missing_columns:\n",
    "\n",
    "    IMP_DATA[\"IMP\" + feature] = DIAB[feature]\n",
    "    parameters = list(set(DIAB.columns) - set(missing_columns) - {feature + '_imp'})\n",
    "\n",
    "    #Create a Linear Regression model to estimate the missing data\n",
    "    if feature in NUM:\n",
    "      model = linear_model.LinearRegression()\n",
    "    if feature in CAT:\n",
    "      model = linear_model.LogisticRegression()\n",
    "\n",
    "    X = s.encoding_categorical_variables(DIAB[parameters])\n",
    "\n",
    "    model.fit(X = X.loc[DIAB[feature].notnull()], y = DIAB[feature + '_imp'].loc[DIAB[feature].notnull()])\n",
    "    model_predicted = model.predict(X.loc[DIAB[feature].isnull()])\n",
    "\n",
    "    #observe that I preserve the index of the missing data from the original dataframe\n",
    "    print(\"IMP\" + feature + \" successfully imputed\")\n",
    "    IMP_DATA.loc[DIAB[feature].isnull(), \"IMP\" + feature] = model_predicted\n",
    "IMP_DATA"
   ]
  },
  {
   "cell_type": "markdown",
   "metadata": {
    "id": "wDbDKBwAcl2w"
   },
   "source": [
    "same procedure with Random Forest Classifier/Regressor:"
   ]
  },
  {
   "cell_type": "code",
   "execution_count": null,
   "metadata": {
    "colab": {
     "base_uri": "https://localhost:8080/",
     "height": 531
    },
    "executionInfo": {
     "elapsed": 2834,
     "status": "ok",
     "timestamp": 1731064862353,
     "user": {
      "displayName": "Camilla Sancricca",
      "userId": "00021980050560537453"
     },
     "user_tz": -60
    },
    "id": "lTjepSB1cLV6",
    "outputId": "168f83a9-2e29-4477-a162-312c3cc8442a"
   },
   "outputs": [],
   "source": [
    "DIAB = pd.read_csv(\"https://raw.githubusercontent.com/camillasancricca/DATADIQ/master/DIABETES.csv\")\n",
    "DIAB[COLS] = DIAB[COLS].replace(0,np.nan)\n",
    "DIAB.loc[DIAB['Pregnancies'] > 1, 'Pregnancies'] = 'More'\n",
    "DIAB.loc[DIAB['Pregnancies'] == 1, 'Pregnancies'] = 'One'\n",
    "\n",
    "missing_columns = [\"Pregnancies\",\"Glucose\", \"BloodPressure\", \"SkinThickness\", \"Insulin\", \"BMI\"]\n",
    "\n",
    "IMP_DATA = pd.DataFrame(columns = [\"IMP\" + name for name in missing_columns])\n",
    "\n",
    "CAT = list(DIAB.select_dtypes(include=['bool','object']).columns)\n",
    "NUM = list(DIAB.select_dtypes(include=['int64','float64']).columns)\n",
    "\n",
    "for feature in missing_columns:\n",
    "\n",
    "    DIAB[feature + '_imp'] = DIAB[feature]\n",
    "\n",
    "    if feature in NUM:\n",
    "      DIAB.loc[DIAB[feature].isnull(), feature + '_imp'] = DIAB[feature].median()\n",
    "    elif feature in CAT:\n",
    "      DIAB.loc[DIAB[feature].isnull(), feature + '_imp'] = DIAB[feature].mode()[0]\n",
    "\n",
    "for feature in missing_columns:\n",
    "\n",
    "    IMP_DATA[\"IMP\" + feature] = DIAB[feature]\n",
    "    parameters = list(set(DIAB.columns) - set(missing_columns) - {feature + '_imp'})\n",
    "\n",
    "    #Create a Linear Regression model to estimate the missing data\n",
    "    if feature in NUM:\n",
    "      model = ensemble.RandomForestRegressor()\n",
    "    if feature in CAT:\n",
    "      model = ensemble.RandomForestClassifier()\n",
    "\n",
    "    X = s.encoding_categorical_variables(DIAB[parameters])\n",
    "\n",
    "    model.fit(X = X.loc[DIAB[feature].notnull()], y = DIAB[feature + '_imp'].loc[DIAB[feature].notnull()])\n",
    "    model_predicted = model.predict(X.loc[DIAB[feature].isnull()])\n",
    "\n",
    "    #observe that I preserve the index of the missing data from the original dataframe\n",
    "    print(\"IMP\" + feature + \" successfully imputed\")\n",
    "    IMP_DATA.loc[DIAB[feature].isnull(), \"IMP\" + feature] = model_predicted\n",
    "\n",
    "IMP_DATA"
   ]
  },
  {
   "cell_type": "markdown",
   "metadata": {
    "id": "8m6KdtkUzIg1"
   },
   "source": [
    "**3. MICE (Multiple Imputation by Chained Equations)**\n",
    "\n",
    "*sklearn* library: IterativeImputer\n",
    "\n",
    "  - The *MICE* procedure imputes missing data through an iterative series of predictive models. In each iteration, each specified variable in the dataset is imputed using the other variables in the dataset. These iterations should be run until it appears that convergence has been met."
   ]
  },
  {
   "cell_type": "code",
   "execution_count": null,
   "metadata": {
    "colab": {
     "base_uri": "https://localhost:8080/",
     "height": 424
    },
    "executionInfo": {
     "elapsed": 2385,
     "status": "ok",
     "timestamp": 1731064842154,
     "user": {
      "displayName": "Camilla Sancricca",
      "userId": "00021980050560537453"
     },
     "user_tz": -60
    },
    "id": "TcPpr3NezG9o",
    "outputId": "23dbb3e9-90f5-4575-fe5a-add16113ad35"
   },
   "outputs": [],
   "source": [
    "DIAB = pd.read_csv(\"https://raw.githubusercontent.com/camillasancricca/DATADIQ/master/DIABETES.csv\")\n",
    "DIAB[COLS] = DIAB[COLS].replace(0,np.nan)\n",
    "missing_columns = [\"Pregnancies\",\"Glucose\", \"BloodPressure\", \"SkinThickness\", \"Insulin\", \"BMI\"]\n",
    "\n",
    "IMP_DATA = pd.DataFrame(columns = [\"IMP\" + name for name in missing_columns])\n",
    "\n",
    "df = DIAB.copy()\n",
    "multivariate_impute_pipe = ColumnTransformer([\n",
    "    (\"impute_num\", IterativeImputer(estimator=KNeighborsRegressor(n_neighbors=10),\n",
    "                                    max_iter=100), df.columns)\n",
    "]\n",
    ")\n",
    "df_mice = multivariate_impute_pipe.fit_transform(df)\n",
    "df_mice = pd.DataFrame(df_mice, columns=df.columns)\n",
    "for col in df_mice[df.columns]:\n",
    "    if col in missing_columns:\n",
    "        IMP_DATA[\"IMP\" + col] = df_mice[col]\n",
    "IMP_DATA"
   ]
  },
  {
   "cell_type": "code",
   "execution_count": null,
   "metadata": {
    "colab": {
     "base_uri": "https://localhost:8080/",
     "height": 1000
    },
    "executionInfo": {
     "elapsed": 4140,
     "status": "ok",
     "timestamp": 1731064846291,
     "user": {
      "displayName": "Camilla Sancricca",
      "userId": "00021980050560537453"
     },
     "user_tz": -60
    },
    "id": "4YyJFGlXwDD8",
    "outputId": "8276cc5f-d6a3-4a36-b56b-605d81e676f7"
   },
   "outputs": [],
   "source": [
    "s.plot_imp(DIAB,IMP_DATA,missing_columns)"
   ]
  },
  {
   "cell_type": "markdown",
   "metadata": {
    "id": "AkBr79tjzOE_"
   },
   "source": [
    "**Summary**\n",
    "\n",
    "*Data Imputation:*\n",
    "- DataFrame.isnull().sum()\n",
    "- DataFrame.fillna()\n",
    "- DataFrame.replace()\n",
    "\n",
    "*Visualization of Missing Values:*\n",
    "- mno.matrix()\n",
    "\n",
    "*Data Imputation Algorithms (sklearn):*\n",
    "- SimpleImputer()\n",
    "- KNNImputer()\n",
    "- IterativeImputer()"
   ]
  }
 ],
 "metadata": {
  "colab": {
   "provenance": []
  },
  "kernelspec": {
   "display_name": ".venv",
   "language": "python",
   "name": "python3"
  },
  "language_info": {
   "codemirror_mode": {
    "name": "ipython",
    "version": 3
   },
   "file_extension": ".py",
   "mimetype": "text/x-python",
   "name": "python",
   "nbconvert_exporter": "python",
   "pygments_lexer": "ipython3",
   "version": "3.11.2"
  }
 },
 "nbformat": 4,
 "nbformat_minor": 0
}
