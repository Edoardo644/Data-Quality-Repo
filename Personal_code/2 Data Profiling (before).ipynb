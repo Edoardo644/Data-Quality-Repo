{
 "cells": [
  {
   "cell_type": "markdown",
   "metadata": {
    "id": "w8ZQ94-883b2"
   },
   "source": [
    "# **2. DATA PROFILING**"
   ]
  },
  {
   "cell_type": "markdown",
   "metadata": {
    "id": "jBsQ_-zk8m-L"
   },
   "source": [
    "Import libraries:"
   ]
  },
  {
   "cell_type": "code",
   "execution_count": null,
   "metadata": {
    "id": "pdWSyiew9Rw3"
   },
   "outputs": [],
   "source": [
    "!pip install sweetviz lux-api autoviz plotly matplotlib"
   ]
  },
  {
   "cell_type": "code",
   "execution_count": 1,
   "metadata": {
    "id": "izfIcJR38dvf"
   },
   "outputs": [
    {
     "name": "stdout",
     "output_type": "stream",
     "text": [
      "Imported v0.1.905. Please call AutoViz in this sequence:\n",
      "    AV = AutoViz_Class()\n",
      "    %matplotlib inline\n",
      "    dfte = AV.AutoViz(filename, sep=',', depVar='', dfte=None, header=0, verbose=1, lowess=False,\n",
      "               chart_format='svg',max_rows_analyzed=150000,max_cols_analyzed=30, save_plot_dir=None)\n"
     ]
    }
   ],
   "source": [
    "import pandas as pd\n",
    "import json\n",
    "import seaborn as sns\n",
    "import sweetviz as sv\n",
    "import lux\n",
    "from autoviz import AutoViz_Class\n",
    "import plotly.express as px\n",
    "import matplotlib.pyplot as plt\n",
    "%matplotlib inline"
   ]
  },
  {
   "cell_type": "markdown",
   "metadata": {
    "id": "qfbUJ6Kj9xVQ"
   },
   "source": [
    "**DATA PROFILING**\n",
    "\n",
    "Data profiling is the set of activities and processes designed to determine the metadata of a given dataset.\n",
    "\n",
    "Data profiling helps understand and prepare data for subsequent cleansing, integration, and analysis."
   ]
  },
  {
   "cell_type": "markdown",
   "metadata": {
    "id": "IC9d5Wxz-MTC"
   },
   "source": [
    "Import data:"
   ]
  },
  {
   "cell_type": "code",
   "execution_count": 2,
   "metadata": {
    "id": "2q2Q_3iN8dtm"
   },
   "outputs": [],
   "source": [
    "BEERS = pd.read_csv('https://raw.githubusercontent.com/camillasancricca/DATADIQ/master/BEERS.csv')"
   ]
  },
  {
   "cell_type": "markdown",
   "metadata": {
    "id": "1Bg17F6v-TiF"
   },
   "source": [
    "Basic profiling activities:"
   ]
  },
  {
   "cell_type": "code",
   "execution_count": 3,
   "metadata": {
    "id": "z2qriqtb8drI"
   },
   "outputs": [
    {
     "data": {
      "text/plain": [
       "Index(['abv', 'ibu', 'id', 'name', 'style', 'brewery_id', 'ounces'], dtype='object')"
      ]
     },
     "execution_count": 3,
     "metadata": {},
     "output_type": "execute_result"
    }
   ],
   "source": [
    "#look at data with the functions we have already seen in DQ ASSESSMENT\n",
    "BEERS.columns"
   ]
  },
  {
   "cell_type": "code",
   "execution_count": 4,
   "metadata": {
    "id": "NHd8-KhF8djE"
   },
   "outputs": [
    {
     "data": {
      "text/plain": [
       "(2419, 7)"
      ]
     },
     "execution_count": 4,
     "metadata": {},
     "output_type": "execute_result"
    }
   ],
   "source": [
    "BEERS.shape"
   ]
  },
  {
   "cell_type": "code",
   "execution_count": 5,
   "metadata": {
    "id": "LUjjgYA78db9"
   },
   "outputs": [
    {
     "data": {
      "text/html": [
       "<div>\n",
       "<style scoped>\n",
       "    .dataframe tbody tr th:only-of-type {\n",
       "        vertical-align: middle;\n",
       "    }\n",
       "\n",
       "    .dataframe tbody tr th {\n",
       "        vertical-align: top;\n",
       "    }\n",
       "\n",
       "    .dataframe thead th {\n",
       "        text-align: right;\n",
       "    }\n",
       "</style>\n",
       "<table border=\"1\" class=\"dataframe\">\n",
       "  <thead>\n",
       "    <tr style=\"text-align: center;\">\n",
       "      <th></th>\n",
       "      <th>abv</th>\n",
       "      <th>ibu</th>\n",
       "      <th>id</th>\n",
       "      <th>name</th>\n",
       "      <th>style</th>\n",
       "      <th>brewery_id</th>\n",
       "      <th>ounces</th>\n",
       "    </tr>\n",
       "  </thead>\n",
       "  <tbody>\n",
       "    <tr>\n",
       "      <th>0</th>\n",
       "      <td>0.05</td>\n",
       "      <td>NaN</td>\n",
       "      <td>1436</td>\n",
       "      <td>Pub Beer</td>\n",
       "      <td>American Pale Lager</td>\n",
       "      <td>408</td>\n",
       "      <td>12.0</td>\n",
       "    </tr>\n",
       "    <tr>\n",
       "      <th>1</th>\n",
       "      <td>66.00</td>\n",
       "      <td>NaN</td>\n",
       "      <td>2265</td>\n",
       "      <td>Devil's Cup</td>\n",
       "      <td>American Pale Ale (APA)</td>\n",
       "      <td>177</td>\n",
       "      <td>12.0</td>\n",
       "    </tr>\n",
       "    <tr>\n",
       "      <th>2</th>\n",
       "      <td>71.00</td>\n",
       "      <td>NaN</td>\n",
       "      <td>2264</td>\n",
       "      <td>Rise of the Phoenix</td>\n",
       "      <td>American IPA</td>\n",
       "      <td>177</td>\n",
       "      <td>12.0</td>\n",
       "    </tr>\n",
       "    <tr>\n",
       "      <th>3</th>\n",
       "      <td>0.09</td>\n",
       "      <td>NaN</td>\n",
       "      <td>2263</td>\n",
       "      <td>Sinister</td>\n",
       "      <td>American Double / Imperial IPA</td>\n",
       "      <td>177</td>\n",
       "      <td>12.0</td>\n",
       "    </tr>\n",
       "    <tr>\n",
       "      <th>4</th>\n",
       "      <td>75.00</td>\n",
       "      <td>NaN</td>\n",
       "      <td>2262</td>\n",
       "      <td>Sex and Candy</td>\n",
       "      <td>American IPA</td>\n",
       "      <td>177</td>\n",
       "      <td>12.0</td>\n",
       "    </tr>\n",
       "  </tbody>\n",
       "</table>\n",
       "</div>"
      ],
      "text/plain": [
       "    abv   ibu   id          name                      style               \\\n",
       "0   0.05 NaN   1436             Pub Beer             American Pale Lager   \n",
       "1  66.00 NaN   2265          Devil's Cup         American Pale Ale (APA)   \n",
       "2  71.00 NaN   2264  Rise of the Phoenix                    American IPA   \n",
       "3   0.09 NaN   2263             Sinister  American Double / Imperial IPA   \n",
       "4  75.00 NaN   2262        Sex and Candy                    American IPA   \n",
       "\n",
       "  brewery_id  ounces  \n",
       "0     408      12.0   \n",
       "1     177      12.0   \n",
       "2     177      12.0   \n",
       "3     177      12.0   \n",
       "4     177      12.0   "
      ]
     },
     "metadata": {},
     "output_type": "display_data"
    }
   ],
   "source": [
    "BEERS.head()"
   ]
  },
  {
   "cell_type": "code",
   "execution_count": 6,
   "metadata": {
    "id": "9BCQh2v1-e5B"
   },
   "outputs": [
    {
     "name": "stdout",
     "output_type": "stream",
     "text": [
      "abv           float64\n",
      "ibu           float64\n",
      "id              int64\n",
      "name           object\n",
      "style          object\n",
      "brewery_id     object\n",
      "ounces        float64\n",
      "dtype: object\n"
     ]
    }
   ],
   "source": [
    "BEERS.dtypes"
   ]
  },
  {
   "cell_type": "code",
   "execution_count": 7,
   "metadata": {
    "id": "YLy71qX7-e2v"
   },
   "outputs": [
    {
     "data": {
      "text/plain": [
       "['abv', 'ibu', 'id', 'ounces']"
      ]
     },
     "execution_count": 7,
     "metadata": {},
     "output_type": "execute_result"
    }
   ],
   "source": [
    "#display numeric columns\n",
    "NUM = list(BEERS.select_dtypes(include=['int64','float64']).columns)\n",
    "NUM"
   ]
  },
  {
   "cell_type": "code",
   "execution_count": 8,
   "metadata": {
    "id": "9z-dntu8-e0o"
   },
   "outputs": [
    {
     "data": {
      "text/plain": [
       "['name', 'style', 'brewery_id']"
      ]
     },
     "execution_count": 8,
     "metadata": {},
     "output_type": "execute_result"
    }
   ],
   "source": [
    "#display categorical columns\n",
    "CAT = list(BEERS.select_dtypes(include=['bool','object']).columns)\n",
    "CAT"
   ]
  },
  {
   "cell_type": "markdown",
   "metadata": {
    "id": "AdslP_Pw-nOi"
   },
   "source": [
    "**SINGLE COLUMN ANALYSIS**"
   ]
  },
  {
   "cell_type": "markdown",
   "metadata": {
    "id": "0-5rxNTq-vAp"
   },
   "source": [
    "**Cardinalities**\n",
    "\n",
    "Cardinalities are numbers that summarize simple metadata (*e.g.,* number of rows, attributes, null values, distinct values, Uniqueness and Distinctness).\n",
    "\n",
    "*Cardinality* = count of the number of distinct actual values.\n",
    "\n",
    "*Uniqueness* = percentage calculated as Cardinality divided by the total number of records.\n",
    "\n",
    "*Actual* = count of the number of records with an actual value (*i.e.,* not-null).\n",
    "\n",
    "*Distinctness* = percentage calculated as Cardinality divided by Actual."
   ]
  },
  {
   "cell_type": "code",
   "execution_count": 9,
   "metadata": {
    "id": "V_n-xRgm-eyh"
   },
   "outputs": [
    {
     "data": {
      "text/plain": [
       "2419"
      ]
     },
     "execution_count": 9,
     "metadata": {},
     "output_type": "execute_result"
    }
   ],
   "source": [
    "#len command counts the number of rows\n",
    "IBU_ROWS = len(BEERS['ibu'])\n",
    "IBU_ROWS"
   ]
  },
  {
   "cell_type": "code",
   "execution_count": 10,
   "metadata": {
    "id": "-NcR9mTF-ew6"
   },
   "outputs": [
    {
     "data": {
      "text/plain": [
       "2419"
      ]
     },
     "execution_count": 10,
     "metadata": {},
     "output_type": "execute_result"
    }
   ],
   "source": [
    "#number of rows with shape function\n",
    "BEERS.shape[0]"
   ]
  },
  {
   "cell_type": "code",
   "execution_count": 11,
   "metadata": {
    "id": "BZR5NuE6-euJ"
   },
   "outputs": [
    {
     "data": {
      "text/plain": [
       "7"
      ]
     },
     "execution_count": 11,
     "metadata": {},
     "output_type": "execute_result"
    }
   ],
   "source": [
    "#number of columns with shape function\n",
    "BEERS.shape[1]"
   ]
  },
  {
   "cell_type": "code",
   "execution_count": 12,
   "metadata": {
    "id": "LSRozggb-eqR"
   },
   "outputs": [
    {
     "data": {
      "text/plain": [
       "16933"
      ]
     },
     "execution_count": 12,
     "metadata": {},
     "output_type": "execute_result"
    }
   ],
   "source": [
    "#number of cells with shape function\n",
    "CELLS = BEERS.shape[0]*BEERS.shape[1]\n",
    "CELLS"
   ]
  },
  {
   "cell_type": "code",
   "execution_count": 13,
   "metadata": {
    "id": "Eb-aR66a-en-"
   },
   "outputs": [
    {
     "data": {
      "text/plain": [
       "np.int64(1412)"
      ]
     },
     "execution_count": 13,
     "metadata": {},
     "output_type": "execute_result"
    }
   ],
   "source": [
    "#number of non—null observation in a column (attribute \"ibu\")\n",
    "COUNT =  BEERS[\"ibu\"].count()\n",
    "COUNT"
   ]
  },
  {
   "cell_type": "code",
   "execution_count": null,
   "metadata": {
    "id": "p_kI_04--el5"
   },
   "outputs": [],
   "source": [
    "#value counts is the same of a group by (attribute \"ibu\")\n",
    "VALUE_COUNT =  BEERS[\"ibu\"].value_counts()\n",
    "VALUE_COUNT"
   ]
  },
  {
   "cell_type": "code",
   "execution_count": 18,
   "metadata": {
    "id": "C9WO6fQ--edG"
   },
   "outputs": [
    {
     "data": {
      "text/plain": [
       "107"
      ]
     },
     "execution_count": 18,
     "metadata": {},
     "output_type": "execute_result"
    }
   ],
   "source": [
    "#nunique is the number of distict values for an attribute (attribute \"ibu\")\n",
    "DISTINCT = (BEERS['ibu'].nunique())\n",
    "DISTINCT"
   ]
  },
  {
   "cell_type": "markdown",
   "metadata": {
    "id": "6ZsK7Mn6_EFW"
   },
   "source": [
    "UNIQUENESS EVALUATION:"
   ]
  },
  {
   "cell_type": "code",
   "execution_count": 20,
   "metadata": {
    "id": "MLkNop0V_GWU"
   },
   "outputs": [
    {
     "name": "stdout",
     "output_type": "stream",
     "text": [
      "UNIQUENESS:  0.04423315419594874\n"
     ]
    }
   ],
   "source": [
    "#for attribute \"ibu\"\n",
    "UNIQUENESS = DISTINCT / IBU_ROWS\n",
    "print(\"UNIQUENESS: \", UNIQUENESS)"
   ]
  },
  {
   "cell_type": "markdown",
   "metadata": {
    "id": "dOUdGEDN_UIT"
   },
   "source": [
    "DISTINCTNESS EVALUATION:"
   ]
  },
  {
   "cell_type": "code",
   "execution_count": null,
   "metadata": {
    "id": "4kgjyElz_G4Q"
   },
   "outputs": [],
   "source": [
    "#for attribute \"ibu\"\n",
    "DISTINCTNESS = DISTINCT / COUNT\n",
    "print(\"DISTINCTNESS: \", DISTINCTNESS)"
   ]
  },
  {
   "cell_type": "markdown",
   "metadata": {
    "id": "7mfL5tvM_c47"
   },
   "source": [
    "**Value distributions**\n",
    "\n",
    "Value distributions summarize the distribution of values within a column (*e.g.,* extremes and Constancy). A common representation for value distributions are Histograms.\n",
    "\n",
    "*Constancy* = frequency of the most frequent value divided by the total number of values. It might reveals the presence of standard values."
   ]
  },
  {
   "cell_type": "code",
   "execution_count": null,
   "metadata": {
    "id": "WaMOvBQx_G1l"
   },
   "outputs": [],
   "source": [
    "#extremes (attribute \"abv\")\n",
    "#print ('MIN:', )\n",
    "#print ('MAX:', )\n",
    "#print ('MODE:', )"
   ]
  },
  {
   "cell_type": "code",
   "execution_count": null,
   "metadata": {
    "id": "ZlQ_hVWt_Gy8"
   },
   "outputs": [],
   "source": [
    "#extremes (all attributes)\n",
    "#print ('MIN: ', )\n",
    "#print(\"\\n\\n\")\n",
    "#print ('MAX: ', )"
   ]
  },
  {
   "cell_type": "code",
   "execution_count": null,
   "metadata": {
    "id": "Zjd7N0Yb_Gwj"
   },
   "outputs": [],
   "source": [
    "#other information: Mean and Standard deviation\n",
    "#print('Average:', )\n",
    "#print('Standard Deviation:', )"
   ]
  },
  {
   "cell_type": "code",
   "execution_count": null,
   "metadata": {
    "id": "Ek7A38J3_Gts"
   },
   "outputs": [],
   "source": [
    "#find max of value counts (attribute \"ibu\")\n"
   ]
  },
  {
   "cell_type": "markdown",
   "metadata": {
    "id": "8XT7xynN_r-5"
   },
   "source": [
    "CONSTANCY EVALUATION:"
   ]
  },
  {
   "cell_type": "code",
   "execution_count": null,
   "metadata": {
    "id": "tRefnsW1_Gps"
   },
   "outputs": [],
   "source": [
    "#for attribute \"ibu\"\n",
    "\n",
    "#print(\"CONSTANCY: \", CONSTANCY)"
   ]
  },
  {
   "cell_type": "markdown",
   "metadata": {
    "id": "AtZ1JbA3_wjH"
   },
   "source": [
    "**Histograms** are often used to fit distributions to the data. Analysts can check if the values of some columns are (approximately) normally distributed, and the number of outliers may be returned.\n"
   ]
  },
  {
   "cell_type": "code",
   "execution_count": null,
   "metadata": {
    "id": "21XOKYJ5_91J"
   },
   "outputs": [],
   "source": [
    "#plot the distribution of the attribute \"ibu\" with hist function\n"
   ]
  },
  {
   "cell_type": "code",
   "execution_count": null,
   "metadata": {
    "id": "qWOTLXCO_9ut"
   },
   "outputs": [],
   "source": [
    "#describe function get different properties for all the numerical attributes of the table\n"
   ]
  },
  {
   "cell_type": "code",
   "execution_count": null,
   "metadata": {
    "id": "fVeWxiCl_9oD"
   },
   "outputs": [],
   "source": [
    "#we can also display multiple histograms\n"
   ]
  },
  {
   "cell_type": "code",
   "execution_count": null,
   "metadata": {
    "id": "YgHTh3M_AIeC"
   },
   "outputs": [],
   "source": [
    "#correlation evaluation base on pearson correlation coefficient\n"
   ]
  },
  {
   "cell_type": "code",
   "execution_count": null,
   "metadata": {
    "id": "cuK4dHvcAIbU"
   },
   "outputs": [],
   "source": [
    "#correlation evaluation base on kendall correlation coefficient\n"
   ]
  },
  {
   "cell_type": "code",
   "execution_count": null,
   "metadata": {
    "id": "isAQbDA2AIYl"
   },
   "outputs": [],
   "source": [
    "#correlation evaluation base on spearman correlation coefficient\n"
   ]
  },
  {
   "cell_type": "code",
   "execution_count": null,
   "metadata": {
    "id": "M4LATU6njjA1"
   },
   "outputs": [],
   "source": [
    "#correlation evaluation heatmap\n"
   ]
  },
  {
   "cell_type": "markdown",
   "metadata": {
    "id": "_Xump7jSAn38"
   },
   "source": [
    "**SWEETVIZ LIBRARY** (alternative library for data profiling)"
   ]
  },
  {
   "cell_type": "code",
   "execution_count": null,
   "metadata": {
    "id": "7dXEXRnkAmpK"
   },
   "outputs": [],
   "source": [
    "#sweet_report = sv.analyze([BEERS,'Sweetviz Report'])\n",
    "#sweet_report.show_notebook()"
   ]
  },
  {
   "cell_type": "markdown",
   "metadata": {
    "id": "004o9_9KZYJx"
   },
   "source": [
    "**LUX LIBRARY** (alternative library for correlation discovery)"
   ]
  },
  {
   "cell_type": "code",
   "execution_count": null,
   "metadata": {
    "id": "__X6je_SM7F2"
   },
   "outputs": [],
   "source": [
    "#BEERS.default_display = \"lux\""
   ]
  },
  {
   "cell_type": "code",
   "execution_count": null,
   "metadata": {
    "id": "-_GZT6KLNbzw"
   },
   "outputs": [],
   "source": [
    "#BEERS"
   ]
  },
  {
   "cell_type": "markdown",
   "metadata": {
    "id": "DxJOfLzab1lf"
   },
   "source": [
    "**MATPLOTLIB** (very useful library for data visualization)"
   ]
  },
  {
   "cell_type": "code",
   "execution_count": null,
   "metadata": {
    "id": "1_JG8GB1b3K6"
   },
   "outputs": [],
   "source": [
    "#plt.figure(figsize=(8, 6))\n",
    "#plt.scatter(, , marker='o', color='r', label='Data')\n",
    "#plt.xlabel('IBU')\n",
    "#plt.ylabel('ABV')\n",
    "#plt.title('SCATTER PLOT')\n",
    "#plt.legend()\n",
    "#plt.grid(False)\n",
    "#plt.show()"
   ]
  },
  {
   "cell_type": "markdown",
   "metadata": {
    "id": "7x7fQYh9Zp4Z"
   },
   "source": [
    "**PLOTLY** (very useful library for **interactive** data visualization)"
   ]
  },
  {
   "cell_type": "code",
   "execution_count": null,
   "metadata": {
    "id": "7ODnzIaJU2Gh"
   },
   "outputs": [],
   "source": [
    "#df = px.data.iris()\n",
    "#fig = px.scatter_matrix(df,\n",
    "#    dimensions=[\"sepal_length\", \"sepal_width\", \"petal_length\", \"petal_width\"],\n",
    "#    color=\"species\")\n",
    "#fig.show()"
   ]
  },
  {
   "cell_type": "code",
   "execution_count": null,
   "metadata": {
    "id": "jYbBHA76mRWD"
   },
   "outputs": [],
   "source": [
    "#df = px.data.tips()\n",
    "#fig = px.box(df, x=\"time\", y=\"total_bill\")\n",
    "#fig.show()"
   ]
  },
  {
   "cell_type": "code",
   "execution_count": null,
   "metadata": {
    "id": "BRCSbK29nkHI"
   },
   "outputs": [],
   "source": [
    "#fig = px.box(df, x=\"time\", y=\"total_bill\", points=\"all\")\n",
    "#fig.show()"
   ]
  },
  {
   "cell_type": "markdown",
   "metadata": {
    "id": "c7SSgZziBEFb"
   },
   "source": [
    "**Summary:**\n",
    "\n",
    "*Basic profiling activities*\n",
    "- pandas.read_csv()\n",
    "- DataFrame.columns()\n",
    "- DataFrame.shape()\n",
    "- DataFrame.head()\n",
    "- DataFrame.dtypes()\n",
    "- DataFrame.select_dtypes()\n",
    "\n",
    "*Single column analysis*\n",
    "- len()\n",
    "- DataFrame.count()\n",
    "- DataFrame.value_counts()\n",
    "- DataFrame.nunique()\n",
    "- DataFrame.min(), DataFrame.max(), DataFrame.mean(), DataFrame.std(), DataFrame.mode()\n",
    "\n",
    "*Histograms*\n",
    "- DataFrame.describe()\n",
    "- DataFrame.dropna()\n",
    "- DataFrame.hist()\n",
    "- DataFrame.corr()"
   ]
  }
 ],
 "metadata": {
  "colab": {
   "provenance": []
  },
  "kernelspec": {
   "display_name": ".venv",
   "language": "python",
   "name": "python3"
  },
  "language_info": {
   "codemirror_mode": {
    "name": "ipython",
    "version": 3
   },
   "file_extension": ".py",
   "mimetype": "text/x-python",
   "name": "python",
   "nbconvert_exporter": "python",
   "pygments_lexer": "ipython3",
   "version": "3.11.2"
  }
 },
 "nbformat": 4,
 "nbformat_minor": 0
}
