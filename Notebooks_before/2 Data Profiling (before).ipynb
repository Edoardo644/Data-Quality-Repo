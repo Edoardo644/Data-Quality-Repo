{
 "cells": [
  {
   "cell_type": "markdown",
   "metadata": {
    "id": "w8ZQ94-883b2"
   },
   "source": [
    "# **2. DATA PROFILING**"
   ]
  },
  {
   "cell_type": "markdown",
   "metadata": {
    "id": "jBsQ_-zk8m-L"
   },
   "source": [
    "Import libraries:"
   ]
  },
  {
   "cell_type": "code",
   "execution_count": 1,
   "metadata": {
    "id": "pdWSyiew9Rw3"
   },
   "outputs": [
    {
     "name": "stdout",
     "output_type": "stream",
     "text": [
      "Requirement already satisfied: sweetviz in c:\\users\\user\\desktop\\onedrive - universita degli studi roma tre\\desktop\\programming\\data quality\\data-quality-repo\\.venv\\lib\\site-packages (2.3.1)\n",
      "Collecting lux-api\n",
      "  Using cached lux_api-0.5.1-py3-none-any.whl\n",
      "Collecting autoviz\n",
      "  Using cached autoviz-0.1.905-py3-none-any.whl.metadata (14 kB)\n",
      "Requirement already satisfied: plotly in c:\\users\\user\\desktop\\onedrive - universita degli studi roma tre\\desktop\\programming\\data quality\\data-quality-repo\\.venv\\lib\\site-packages (5.24.1)\n",
      "Requirement already satisfied: matplotlib in c:\\users\\user\\desktop\\onedrive - universita degli studi roma tre\\desktop\\programming\\data quality\\data-quality-repo\\.venv\\lib\\site-packages (3.9.2)\n",
      "Requirement already satisfied: pandas!=1.0.0,!=1.0.1,!=1.0.2,>=0.25.3 in c:\\users\\user\\desktop\\onedrive - universita degli studi roma tre\\desktop\\programming\\data quality\\data-quality-repo\\.venv\\lib\\site-packages (from sweetviz) (2.2.3)\n",
      "Requirement already satisfied: numpy>=1.16.0 in c:\\users\\user\\desktop\\onedrive - universita degli studi roma tre\\desktop\\programming\\data quality\\data-quality-repo\\.venv\\lib\\site-packages (from sweetviz) (2.1.3)\n",
      "Requirement already satisfied: tqdm>=4.43.0 in c:\\users\\user\\desktop\\onedrive - universita degli studi roma tre\\desktop\\programming\\data quality\\data-quality-repo\\.venv\\lib\\site-packages (from sweetviz) (4.67.1)\n",
      "Requirement already satisfied: scipy>=1.3.2 in c:\\users\\user\\desktop\\onedrive - universita degli studi roma tre\\desktop\\programming\\data quality\\data-quality-repo\\.venv\\lib\\site-packages (from sweetviz) (1.14.1)\n",
      "Requirement already satisfied: jinja2>=2.11.1 in c:\\users\\user\\desktop\\onedrive - universita degli studi roma tre\\desktop\\programming\\data quality\\data-quality-repo\\.venv\\lib\\site-packages (from sweetviz) (3.1.4)\n",
      "Requirement already satisfied: importlib-resources>=1.2.0 in c:\\users\\user\\desktop\\onedrive - universita degli studi roma tre\\desktop\\programming\\data quality\\data-quality-repo\\.venv\\lib\\site-packages (from sweetviz) (6.4.5)\n",
      "Collecting altair>=4.0.0 (from lux-api)\n",
      "  Using cached altair-5.5.0-py3-none-any.whl.metadata (11 kB)\n",
      "Requirement already satisfied: scikit-learn>=0.22 in c:\\users\\user\\desktop\\onedrive - universita degli studi roma tre\\desktop\\programming\\data quality\\data-quality-repo\\.venv\\lib\\site-packages (from lux-api) (1.5.2)\n",
      "Collecting lux-widget>=0.1.4 (from lux-api)\n",
      "  Using cached lux_widget-0.1.11-py3-none-any.whl\n",
      "Requirement already satisfied: autopep8>=1.5 in c:\\users\\user\\desktop\\onedrive - universita degli studi roma tre\\desktop\\programming\\data quality\\data-quality-repo\\.venv\\lib\\site-packages (from lux-api) (2.3.1)\n",
      "Requirement already satisfied: iso3166 in c:\\users\\user\\desktop\\onedrive - universita degli studi roma tre\\desktop\\programming\\data quality\\data-quality-repo\\.venv\\lib\\site-packages (from lux-api) (2.1.1)\n",
      "Requirement already satisfied: psutil>=5.9.0 in c:\\users\\user\\desktop\\onedrive - universita degli studi roma tre\\desktop\\programming\\data quality\\data-quality-repo\\.venv\\lib\\site-packages (from lux-api) (6.1.0)\n",
      "Requirement already satisfied: sh in c:\\users\\user\\desktop\\onedrive - universita degli studi roma tre\\desktop\\programming\\data quality\\data-quality-repo\\.venv\\lib\\site-packages (from lux-api) (2.1.0)\n",
      "Requirement already satisfied: xlrd in c:\\users\\user\\desktop\\onedrive - universita degli studi roma tre\\desktop\\programming\\data quality\\data-quality-repo\\.venv\\lib\\site-packages (from autoviz) (2.0.1)\n",
      "Requirement already satisfied: wordcloud in c:\\users\\user\\desktop\\onedrive - universita degli studi roma tre\\desktop\\programming\\data quality\\data-quality-repo\\.venv\\lib\\site-packages (from autoviz) (1.9.4)\n",
      "Requirement already satisfied: emoji in c:\\users\\user\\desktop\\onedrive - universita degli studi roma tre\\desktop\\programming\\data quality\\data-quality-repo\\.venv\\lib\\site-packages (from autoviz) (2.14.0)\n",
      "Requirement already satisfied: pyamg in c:\\users\\user\\desktop\\onedrive - universita degli studi roma tre\\desktop\\programming\\data quality\\data-quality-repo\\.venv\\lib\\site-packages (from autoviz) (5.2.1)\n",
      "Requirement already satisfied: statsmodels in c:\\users\\user\\desktop\\onedrive - universita degli studi roma tre\\desktop\\programming\\data quality\\data-quality-repo\\.venv\\lib\\site-packages (from autoviz) (0.14.4)\n",
      "Requirement already satisfied: nltk in c:\\users\\user\\desktop\\onedrive - universita degli studi roma tre\\desktop\\programming\\data quality\\data-quality-repo\\.venv\\lib\\site-packages (from autoviz) (3.9.1)\n",
      "Requirement already satisfied: textblob in c:\\users\\user\\desktop\\onedrive - universita degli studi roma tre\\desktop\\programming\\data quality\\data-quality-repo\\.venv\\lib\\site-packages (from autoviz) (0.18.0.post0)\n",
      "Requirement already satisfied: xgboost<1.7,>=0.82 in c:\\users\\user\\desktop\\onedrive - universita degli studi roma tre\\desktop\\programming\\data quality\\data-quality-repo\\.venv\\lib\\site-packages (from autoviz) (1.6.2)\n",
      "Requirement already satisfied: fsspec>=0.8.3 in c:\\users\\user\\desktop\\onedrive - universita degli studi roma tre\\desktop\\programming\\data quality\\data-quality-repo\\.venv\\lib\\site-packages (from autoviz) (2024.10.0)\n",
      "Requirement already satisfied: typing-extensions>=4.1.1 in c:\\users\\user\\desktop\\onedrive - universita degli studi roma tre\\desktop\\programming\\data quality\\data-quality-repo\\.venv\\lib\\site-packages (from autoviz) (4.12.2)\n",
      "Requirement already satisfied: pandas-dq>=1.29 in c:\\users\\user\\desktop\\onedrive - universita degli studi roma tre\\desktop\\programming\\data quality\\data-quality-repo\\.venv\\lib\\site-packages (from autoviz) (1.29)\n",
      "Collecting hvplot>=0.9.2 (from autoviz)\n",
      "  Using cached hvplot-0.11.1-py3-none-any.whl.metadata (15 kB)\n",
      "Collecting holoviews>=1.16.0 (from autoviz)\n",
      "  Using cached holoviews-1.20.0-py3-none-any.whl.metadata (9.9 kB)\n",
      "Collecting panel>=1.4.0 (from autoviz)\n",
      "  Using cached panel-1.5.4-py3-none-any.whl.metadata (15 kB)\n",
      "Requirement already satisfied: seaborn>0.12.2 in c:\\users\\user\\desktop\\onedrive - universita degli studi roma tre\\desktop\\programming\\data quality\\data-quality-repo\\.venv\\lib\\site-packages (from autoviz) (0.13.2)\n",
      "Requirement already satisfied: tenacity>=6.2.0 in c:\\users\\user\\desktop\\onedrive - universita degli studi roma tre\\desktop\\programming\\data quality\\data-quality-repo\\.venv\\lib\\site-packages (from plotly) (9.0.0)\n",
      "Requirement already satisfied: packaging in c:\\users\\user\\desktop\\onedrive - universita degli studi roma tre\\desktop\\programming\\data quality\\data-quality-repo\\.venv\\lib\\site-packages (from plotly) (24.2)\n",
      "Requirement already satisfied: contourpy>=1.0.1 in c:\\users\\user\\desktop\\onedrive - universita degli studi roma tre\\desktop\\programming\\data quality\\data-quality-repo\\.venv\\lib\\site-packages (from matplotlib) (1.3.1)\n",
      "Requirement already satisfied: cycler>=0.10 in c:\\users\\user\\desktop\\onedrive - universita degli studi roma tre\\desktop\\programming\\data quality\\data-quality-repo\\.venv\\lib\\site-packages (from matplotlib) (0.12.1)\n",
      "Requirement already satisfied: fonttools>=4.22.0 in c:\\users\\user\\desktop\\onedrive - universita degli studi roma tre\\desktop\\programming\\data quality\\data-quality-repo\\.venv\\lib\\site-packages (from matplotlib) (4.55.0)\n",
      "Requirement already satisfied: kiwisolver>=1.3.1 in c:\\users\\user\\desktop\\onedrive - universita degli studi roma tre\\desktop\\programming\\data quality\\data-quality-repo\\.venv\\lib\\site-packages (from matplotlib) (1.4.7)\n",
      "Requirement already satisfied: pillow>=8 in c:\\users\\user\\desktop\\onedrive - universita degli studi roma tre\\desktop\\programming\\data quality\\data-quality-repo\\.venv\\lib\\site-packages (from matplotlib) (11.0.0)\n",
      "Requirement already satisfied: pyparsing>=2.3.1 in c:\\users\\user\\desktop\\onedrive - universita degli studi roma tre\\desktop\\programming\\data quality\\data-quality-repo\\.venv\\lib\\site-packages (from matplotlib) (3.2.0)\n",
      "Requirement already satisfied: python-dateutil>=2.7 in c:\\users\\user\\desktop\\onedrive - universita degli studi roma tre\\desktop\\programming\\data quality\\data-quality-repo\\.venv\\lib\\site-packages (from matplotlib) (2.9.0.post0)\n",
      "Requirement already satisfied: jsonschema>=3.0 in c:\\users\\user\\desktop\\onedrive - universita degli studi roma tre\\desktop\\programming\\data quality\\data-quality-repo\\.venv\\lib\\site-packages (from altair>=4.0.0->lux-api) (4.23.0)\n",
      "Requirement already satisfied: narwhals>=1.14.2 in c:\\users\\user\\desktop\\onedrive - universita degli studi roma tre\\desktop\\programming\\data quality\\data-quality-repo\\.venv\\lib\\site-packages (from altair>=4.0.0->lux-api) (1.14.2)\n",
      "Requirement already satisfied: pycodestyle>=2.12.0 in c:\\users\\user\\desktop\\onedrive - universita degli studi roma tre\\desktop\\programming\\data quality\\data-quality-repo\\.venv\\lib\\site-packages (from autopep8>=1.5->lux-api) (2.12.1)\n",
      "Requirement already satisfied: bokeh>=3.1 in c:\\users\\user\\desktop\\onedrive - universita degli studi roma tre\\desktop\\programming\\data quality\\data-quality-repo\\.venv\\lib\\site-packages (from holoviews>=1.16.0->autoviz) (3.6.1)\n",
      "Requirement already satisfied: colorcet in c:\\users\\user\\desktop\\onedrive - universita degli studi roma tre\\desktop\\programming\\data quality\\data-quality-repo\\.venv\\lib\\site-packages (from holoviews>=1.16.0->autoviz) (3.1.0)\n",
      "Requirement already satisfied: param<3.0,>=2.0 in c:\\users\\user\\desktop\\onedrive - universita degli studi roma tre\\desktop\\programming\\data quality\\data-quality-repo\\.venv\\lib\\site-packages (from holoviews>=1.16.0->autoviz) (2.1.1)\n",
      "Requirement already satisfied: pyviz-comms>=2.1 in c:\\users\\user\\desktop\\onedrive - universita degli studi roma tre\\desktop\\programming\\data quality\\data-quality-repo\\.venv\\lib\\site-packages (from holoviews>=1.16.0->autoviz) (3.0.3)\n",
      "Requirement already satisfied: MarkupSafe>=2.0 in c:\\users\\user\\desktop\\onedrive - universita degli studi roma tre\\desktop\\programming\\data quality\\data-quality-repo\\.venv\\lib\\site-packages (from jinja2>=2.11.1->sweetviz) (3.0.2)\n",
      "Collecting notebook>=4.0.0 (from lux-widget>=0.1.4->lux-api)\n",
      "  Using cached notebook-7.2.2-py3-none-any.whl.metadata (10 kB)\n",
      "Collecting ipywidgets>=7.5.0 (from lux-widget>=0.1.4->lux-api)\n",
      "  Using cached ipywidgets-8.1.5-py3-none-any.whl.metadata (2.3 kB)\n",
      "Requirement already satisfied: pytz>=2020.1 in c:\\users\\user\\desktop\\onedrive - universita degli studi roma tre\\desktop\\programming\\data quality\\data-quality-repo\\.venv\\lib\\site-packages (from pandas!=1.0.0,!=1.0.1,!=1.0.2,>=0.25.3->sweetviz) (2024.2)\n",
      "Requirement already satisfied: tzdata>=2022.7 in c:\\users\\user\\desktop\\onedrive - universita degli studi roma tre\\desktop\\programming\\data quality\\data-quality-repo\\.venv\\lib\\site-packages (from pandas!=1.0.0,!=1.0.1,!=1.0.2,>=0.25.3->sweetviz) (2024.2)\n",
      "Requirement already satisfied: bleach in c:\\users\\user\\desktop\\onedrive - universita degli studi roma tre\\desktop\\programming\\data quality\\data-quality-repo\\.venv\\lib\\site-packages (from panel>=1.4.0->autoviz) (6.2.0)\n",
      "Requirement already satisfied: linkify-it-py in c:\\users\\user\\desktop\\onedrive - universita degli studi roma tre\\desktop\\programming\\data quality\\data-quality-repo\\.venv\\lib\\site-packages (from panel>=1.4.0->autoviz) (2.0.3)\n",
      "Requirement already satisfied: markdown in c:\\users\\user\\desktop\\onedrive - universita degli studi roma tre\\desktop\\programming\\data quality\\data-quality-repo\\.venv\\lib\\site-packages (from panel>=1.4.0->autoviz) (3.7)\n",
      "Requirement already satisfied: markdown-it-py in c:\\users\\user\\desktop\\onedrive - universita degli studi roma tre\\desktop\\programming\\data quality\\data-quality-repo\\.venv\\lib\\site-packages (from panel>=1.4.0->autoviz) (3.0.0)\n",
      "Requirement already satisfied: mdit-py-plugins in c:\\users\\user\\desktop\\onedrive - universita degli studi roma tre\\desktop\\programming\\data quality\\data-quality-repo\\.venv\\lib\\site-packages (from panel>=1.4.0->autoviz) (0.4.2)\n",
      "Requirement already satisfied: requests in c:\\users\\user\\desktop\\onedrive - universita degli studi roma tre\\desktop\\programming\\data quality\\data-quality-repo\\.venv\\lib\\site-packages (from panel>=1.4.0->autoviz) (2.32.3)\n",
      "Requirement already satisfied: six>=1.5 in c:\\users\\user\\desktop\\onedrive - universita degli studi roma tre\\desktop\\programming\\data quality\\data-quality-repo\\.venv\\lib\\site-packages (from python-dateutil>=2.7->matplotlib) (1.16.0)\n",
      "Requirement already satisfied: joblib>=1.2.0 in c:\\users\\user\\desktop\\onedrive - universita degli studi roma tre\\desktop\\programming\\data quality\\data-quality-repo\\.venv\\lib\\site-packages (from scikit-learn>=0.22->lux-api) (1.4.2)\n",
      "Requirement already satisfied: threadpoolctl>=3.1.0 in c:\\users\\user\\desktop\\onedrive - universita degli studi roma tre\\desktop\\programming\\data quality\\data-quality-repo\\.venv\\lib\\site-packages (from scikit-learn>=0.22->lux-api) (3.5.0)\n",
      "Requirement already satisfied: colorama in c:\\users\\user\\desktop\\onedrive - universita degli studi roma tre\\desktop\\programming\\data quality\\data-quality-repo\\.venv\\lib\\site-packages (from tqdm>=4.43.0->sweetviz) (0.4.6)\n",
      "Requirement already satisfied: click in c:\\users\\user\\desktop\\onedrive - universita degli studi roma tre\\desktop\\programming\\data quality\\data-quality-repo\\.venv\\lib\\site-packages (from nltk->autoviz) (8.1.7)\n",
      "Requirement already satisfied: regex>=2021.8.3 in c:\\users\\user\\desktop\\onedrive - universita degli studi roma tre\\desktop\\programming\\data quality\\data-quality-repo\\.venv\\lib\\site-packages (from nltk->autoviz) (2024.11.6)\n",
      "Requirement already satisfied: patsy>=0.5.6 in c:\\users\\user\\desktop\\onedrive - universita degli studi roma tre\\desktop\\programming\\data quality\\data-quality-repo\\.venv\\lib\\site-packages (from statsmodels->autoviz) (1.0.1)\n",
      "Requirement already satisfied: PyYAML>=3.10 in c:\\users\\user\\desktop\\onedrive - universita degli studi roma tre\\desktop\\programming\\data quality\\data-quality-repo\\.venv\\lib\\site-packages (from bokeh>=3.1->holoviews>=1.16.0->autoviz) (6.0.2)\n",
      "Requirement already satisfied: tornado>=6.2 in c:\\users\\user\\desktop\\onedrive - universita degli studi roma tre\\desktop\\programming\\data quality\\data-quality-repo\\.venv\\lib\\site-packages (from bokeh>=3.1->holoviews>=1.16.0->autoviz) (6.4.2)\n",
      "Requirement already satisfied: xyzservices>=2021.09.1 in c:\\users\\user\\desktop\\onedrive - universita degli studi roma tre\\desktop\\programming\\data quality\\data-quality-repo\\.venv\\lib\\site-packages (from bokeh>=3.1->holoviews>=1.16.0->autoviz) (2024.9.0)\n",
      "Requirement already satisfied: comm>=0.1.3 in c:\\users\\user\\desktop\\onedrive - universita degli studi roma tre\\desktop\\programming\\data quality\\data-quality-repo\\.venv\\lib\\site-packages (from ipywidgets>=7.5.0->lux-widget>=0.1.4->lux-api) (0.2.2)\n",
      "Requirement already satisfied: ipython>=6.1.0 in c:\\users\\user\\desktop\\onedrive - universita degli studi roma tre\\desktop\\programming\\data quality\\data-quality-repo\\.venv\\lib\\site-packages (from ipywidgets>=7.5.0->lux-widget>=0.1.4->lux-api) (8.29.0)\n",
      "Requirement already satisfied: traitlets>=4.3.1 in c:\\users\\user\\desktop\\onedrive - universita degli studi roma tre\\desktop\\programming\\data quality\\data-quality-repo\\.venv\\lib\\site-packages (from ipywidgets>=7.5.0->lux-widget>=0.1.4->lux-api) (5.14.3)\n",
      "Requirement already satisfied: widgetsnbextension~=4.0.12 in c:\\users\\user\\desktop\\onedrive - universita degli studi roma tre\\desktop\\programming\\data quality\\data-quality-repo\\.venv\\lib\\site-packages (from ipywidgets>=7.5.0->lux-widget>=0.1.4->lux-api) (4.0.13)\n",
      "Requirement already satisfied: jupyterlab-widgets~=3.0.12 in c:\\users\\user\\desktop\\onedrive - universita degli studi roma tre\\desktop\\programming\\data quality\\data-quality-repo\\.venv\\lib\\site-packages (from ipywidgets>=7.5.0->lux-widget>=0.1.4->lux-api) (3.0.13)\n",
      "Requirement already satisfied: attrs>=22.2.0 in c:\\users\\user\\desktop\\onedrive - universita degli studi roma tre\\desktop\\programming\\data quality\\data-quality-repo\\.venv\\lib\\site-packages (from jsonschema>=3.0->altair>=4.0.0->lux-api) (24.2.0)\n",
      "Requirement already satisfied: jsonschema-specifications>=2023.03.6 in c:\\users\\user\\desktop\\onedrive - universita degli studi roma tre\\desktop\\programming\\data quality\\data-quality-repo\\.venv\\lib\\site-packages (from jsonschema>=3.0->altair>=4.0.0->lux-api) (2024.10.1)\n",
      "Requirement already satisfied: referencing>=0.28.4 in c:\\users\\user\\desktop\\onedrive - universita degli studi roma tre\\desktop\\programming\\data quality\\data-quality-repo\\.venv\\lib\\site-packages (from jsonschema>=3.0->altair>=4.0.0->lux-api) (0.35.1)\n",
      "Requirement already satisfied: rpds-py>=0.7.1 in c:\\users\\user\\desktop\\onedrive - universita degli studi roma tre\\desktop\\programming\\data quality\\data-quality-repo\\.venv\\lib\\site-packages (from jsonschema>=3.0->altair>=4.0.0->lux-api) (0.21.0)\n",
      "Collecting jupyter-server<3,>=2.4.0 (from notebook>=4.0.0->lux-widget>=0.1.4->lux-api)\n",
      "  Using cached jupyter_server-2.14.2-py3-none-any.whl.metadata (8.4 kB)\n",
      "Collecting jupyterlab-server<3,>=2.27.1 (from notebook>=4.0.0->lux-widget>=0.1.4->lux-api)\n",
      "  Using cached jupyterlab_server-2.27.3-py3-none-any.whl.metadata (5.9 kB)\n",
      "Collecting jupyterlab<4.3,>=4.2.0 (from notebook>=4.0.0->lux-widget>=0.1.4->lux-api)\n",
      "  Using cached jupyterlab-4.2.6-py3-none-any.whl.metadata (16 kB)\n",
      "Collecting notebook-shim<0.3,>=0.2 (from notebook>=4.0.0->lux-widget>=0.1.4->lux-api)\n",
      "  Using cached notebook_shim-0.2.4-py3-none-any.whl.metadata (4.0 kB)\n",
      "Requirement already satisfied: webencodings in c:\\users\\user\\desktop\\onedrive - universita degli studi roma tre\\desktop\\programming\\data quality\\data-quality-repo\\.venv\\lib\\site-packages (from bleach->panel>=1.4.0->autoviz) (0.5.1)\n",
      "Requirement already satisfied: uc-micro-py in c:\\users\\user\\desktop\\onedrive - universita degli studi roma tre\\desktop\\programming\\data quality\\data-quality-repo\\.venv\\lib\\site-packages (from linkify-it-py->panel>=1.4.0->autoviz) (1.0.3)\n",
      "Requirement already satisfied: mdurl~=0.1 in c:\\users\\user\\desktop\\onedrive - universita degli studi roma tre\\desktop\\programming\\data quality\\data-quality-repo\\.venv\\lib\\site-packages (from markdown-it-py->panel>=1.4.0->autoviz) (0.1.2)\n",
      "Requirement already satisfied: charset-normalizer<4,>=2 in c:\\users\\user\\desktop\\onedrive - universita degli studi roma tre\\desktop\\programming\\data quality\\data-quality-repo\\.venv\\lib\\site-packages (from requests->panel>=1.4.0->autoviz) (3.4.0)\n",
      "Requirement already satisfied: idna<4,>=2.5 in c:\\users\\user\\desktop\\onedrive - universita degli studi roma tre\\desktop\\programming\\data quality\\data-quality-repo\\.venv\\lib\\site-packages (from requests->panel>=1.4.0->autoviz) (3.10)\n",
      "Requirement already satisfied: urllib3<3,>=1.21.1 in c:\\users\\user\\desktop\\onedrive - universita degli studi roma tre\\desktop\\programming\\data quality\\data-quality-repo\\.venv\\lib\\site-packages (from requests->panel>=1.4.0->autoviz) (2.2.3)\n",
      "Requirement already satisfied: certifi>=2017.4.17 in c:\\users\\user\\desktop\\onedrive - universita degli studi roma tre\\desktop\\programming\\data quality\\data-quality-repo\\.venv\\lib\\site-packages (from requests->panel>=1.4.0->autoviz) (2024.8.30)\n",
      "Requirement already satisfied: decorator in c:\\users\\user\\desktop\\onedrive - universita degli studi roma tre\\desktop\\programming\\data quality\\data-quality-repo\\.venv\\lib\\site-packages (from ipython>=6.1.0->ipywidgets>=7.5.0->lux-widget>=0.1.4->lux-api) (5.1.1)\n",
      "Requirement already satisfied: jedi>=0.16 in c:\\users\\user\\desktop\\onedrive - universita degli studi roma tre\\desktop\\programming\\data quality\\data-quality-repo\\.venv\\lib\\site-packages (from ipython>=6.1.0->ipywidgets>=7.5.0->lux-widget>=0.1.4->lux-api) (0.19.2)\n",
      "Requirement already satisfied: matplotlib-inline in c:\\users\\user\\desktop\\onedrive - universita degli studi roma tre\\desktop\\programming\\data quality\\data-quality-repo\\.venv\\lib\\site-packages (from ipython>=6.1.0->ipywidgets>=7.5.0->lux-widget>=0.1.4->lux-api) (0.1.7)\n",
      "Requirement already satisfied: prompt-toolkit<3.1.0,>=3.0.41 in c:\\users\\user\\desktop\\onedrive - universita degli studi roma tre\\desktop\\programming\\data quality\\data-quality-repo\\.venv\\lib\\site-packages (from ipython>=6.1.0->ipywidgets>=7.5.0->lux-widget>=0.1.4->lux-api) (3.0.48)\n",
      "Requirement already satisfied: pygments>=2.4.0 in c:\\users\\user\\desktop\\onedrive - universita degli studi roma tre\\desktop\\programming\\data quality\\data-quality-repo\\.venv\\lib\\site-packages (from ipython>=6.1.0->ipywidgets>=7.5.0->lux-widget>=0.1.4->lux-api) (2.18.0)\n",
      "Requirement already satisfied: stack-data in c:\\users\\user\\desktop\\onedrive - universita degli studi roma tre\\desktop\\programming\\data quality\\data-quality-repo\\.venv\\lib\\site-packages (from ipython>=6.1.0->ipywidgets>=7.5.0->lux-widget>=0.1.4->lux-api) (0.6.3)\n",
      "Requirement already satisfied: anyio>=3.1.0 in c:\\users\\user\\desktop\\onedrive - universita degli studi roma tre\\desktop\\programming\\data quality\\data-quality-repo\\.venv\\lib\\site-packages (from jupyter-server<3,>=2.4.0->notebook>=4.0.0->lux-widget>=0.1.4->lux-api) (4.6.2.post1)\n",
      "Requirement already satisfied: argon2-cffi>=21.1 in c:\\users\\user\\desktop\\onedrive - universita degli studi roma tre\\desktop\\programming\\data quality\\data-quality-repo\\.venv\\lib\\site-packages (from jupyter-server<3,>=2.4.0->notebook>=4.0.0->lux-widget>=0.1.4->lux-api) (23.1.0)\n",
      "Requirement already satisfied: jupyter-client>=7.4.4 in c:\\users\\user\\desktop\\onedrive - universita degli studi roma tre\\desktop\\programming\\data quality\\data-quality-repo\\.venv\\lib\\site-packages (from jupyter-server<3,>=2.4.0->notebook>=4.0.0->lux-widget>=0.1.4->lux-api) (8.6.3)\n",
      "Requirement already satisfied: jupyter-core!=5.0.*,>=4.12 in c:\\users\\user\\desktop\\onedrive - universita degli studi roma tre\\desktop\\programming\\data quality\\data-quality-repo\\.venv\\lib\\site-packages (from jupyter-server<3,>=2.4.0->notebook>=4.0.0->lux-widget>=0.1.4->lux-api) (5.7.2)\n",
      "Collecting jupyter-events>=0.9.0 (from jupyter-server<3,>=2.4.0->notebook>=4.0.0->lux-widget>=0.1.4->lux-api)\n",
      "  Using cached jupyter_events-0.10.0-py3-none-any.whl.metadata (5.9 kB)\n",
      "Requirement already satisfied: jupyter-server-terminals>=0.4.4 in c:\\users\\user\\desktop\\onedrive - universita degli studi roma tre\\desktop\\programming\\data quality\\data-quality-repo\\.venv\\lib\\site-packages (from jupyter-server<3,>=2.4.0->notebook>=4.0.0->lux-widget>=0.1.4->lux-api) (0.5.3)\n",
      "Collecting nbconvert>=6.4.4 (from jupyter-server<3,>=2.4.0->notebook>=4.0.0->lux-widget>=0.1.4->lux-api)\n",
      "  Using cached nbconvert-7.16.4-py3-none-any.whl.metadata (8.5 kB)\n",
      "Collecting nbformat>=5.3.0 (from jupyter-server<3,>=2.4.0->notebook>=4.0.0->lux-widget>=0.1.4->lux-api)\n",
      "  Using cached nbformat-5.10.4-py3-none-any.whl.metadata (3.6 kB)\n",
      "Requirement already satisfied: overrides>=5.0 in c:\\users\\user\\desktop\\onedrive - universita degli studi roma tre\\desktop\\programming\\data quality\\data-quality-repo\\.venv\\lib\\site-packages (from jupyter-server<3,>=2.4.0->notebook>=4.0.0->lux-widget>=0.1.4->lux-api) (7.7.0)\n",
      "Requirement already satisfied: prometheus-client>=0.9 in c:\\users\\user\\desktop\\onedrive - universita degli studi roma tre\\desktop\\programming\\data quality\\data-quality-repo\\.venv\\lib\\site-packages (from jupyter-server<3,>=2.4.0->notebook>=4.0.0->lux-widget>=0.1.4->lux-api) (0.21.0)\n",
      "Requirement already satisfied: pywinpty>=2.0.1 in c:\\users\\user\\desktop\\onedrive - universita degli studi roma tre\\desktop\\programming\\data quality\\data-quality-repo\\.venv\\lib\\site-packages (from jupyter-server<3,>=2.4.0->notebook>=4.0.0->lux-widget>=0.1.4->lux-api) (2.0.14)\n",
      "Requirement already satisfied: pyzmq>=24 in c:\\users\\user\\desktop\\onedrive - universita degli studi roma tre\\desktop\\programming\\data quality\\data-quality-repo\\.venv\\lib\\site-packages (from jupyter-server<3,>=2.4.0->notebook>=4.0.0->lux-widget>=0.1.4->lux-api) (26.2.0)\n",
      "Requirement already satisfied: send2trash>=1.8.2 in c:\\users\\user\\desktop\\onedrive - universita degli studi roma tre\\desktop\\programming\\data quality\\data-quality-repo\\.venv\\lib\\site-packages (from jupyter-server<3,>=2.4.0->notebook>=4.0.0->lux-widget>=0.1.4->lux-api) (1.8.3)\n",
      "Requirement already satisfied: terminado>=0.8.3 in c:\\users\\user\\desktop\\onedrive - universita degli studi roma tre\\desktop\\programming\\data quality\\data-quality-repo\\.venv\\lib\\site-packages (from jupyter-server<3,>=2.4.0->notebook>=4.0.0->lux-widget>=0.1.4->lux-api) (0.18.1)\n",
      "Requirement already satisfied: websocket-client>=1.7 in c:\\users\\user\\desktop\\onedrive - universita degli studi roma tre\\desktop\\programming\\data quality\\data-quality-repo\\.venv\\lib\\site-packages (from jupyter-server<3,>=2.4.0->notebook>=4.0.0->lux-widget>=0.1.4->lux-api) (1.8.0)\n",
      "Requirement already satisfied: async-lru>=1.0.0 in c:\\users\\user\\desktop\\onedrive - universita degli studi roma tre\\desktop\\programming\\data quality\\data-quality-repo\\.venv\\lib\\site-packages (from jupyterlab<4.3,>=4.2.0->notebook>=4.0.0->lux-widget>=0.1.4->lux-api) (2.0.4)\n",
      "Requirement already satisfied: httpx>=0.25.0 in c:\\users\\user\\desktop\\onedrive - universita degli studi roma tre\\desktop\\programming\\data quality\\data-quality-repo\\.venv\\lib\\site-packages (from jupyterlab<4.3,>=4.2.0->notebook>=4.0.0->lux-widget>=0.1.4->lux-api) (0.27.2)\n",
      "Requirement already satisfied: ipykernel>=6.5.0 in c:\\users\\user\\desktop\\onedrive - universita degli studi roma tre\\desktop\\programming\\data quality\\data-quality-repo\\.venv\\lib\\site-packages (from jupyterlab<4.3,>=4.2.0->notebook>=4.0.0->lux-widget>=0.1.4->lux-api) (6.29.5)\n",
      "Collecting jupyter-lsp>=2.0.0 (from jupyterlab<4.3,>=4.2.0->notebook>=4.0.0->lux-widget>=0.1.4->lux-api)\n",
      "  Using cached jupyter_lsp-2.2.5-py3-none-any.whl.metadata (1.8 kB)\n",
      "Requirement already satisfied: setuptools>=40.1.0 in c:\\users\\user\\desktop\\onedrive - universita degli studi roma tre\\desktop\\programming\\data quality\\data-quality-repo\\.venv\\lib\\site-packages (from jupyterlab<4.3,>=4.2.0->notebook>=4.0.0->lux-widget>=0.1.4->lux-api) (65.5.0)\n",
      "Requirement already satisfied: babel>=2.10 in c:\\users\\user\\desktop\\onedrive - universita degli studi roma tre\\desktop\\programming\\data quality\\data-quality-repo\\.venv\\lib\\site-packages (from jupyterlab-server<3,>=2.27.1->notebook>=4.0.0->lux-widget>=0.1.4->lux-api) (2.16.0)\n",
      "Requirement already satisfied: json5>=0.9.0 in c:\\users\\user\\desktop\\onedrive - universita degli studi roma tre\\desktop\\programming\\data quality\\data-quality-repo\\.venv\\lib\\site-packages (from jupyterlab-server<3,>=2.27.1->notebook>=4.0.0->lux-widget>=0.1.4->lux-api) (0.9.28)\n",
      "Requirement already satisfied: sniffio>=1.1 in c:\\users\\user\\desktop\\onedrive - universita degli studi roma tre\\desktop\\programming\\data quality\\data-quality-repo\\.venv\\lib\\site-packages (from anyio>=3.1.0->jupyter-server<3,>=2.4.0->notebook>=4.0.0->lux-widget>=0.1.4->lux-api) (1.3.1)\n",
      "Requirement already satisfied: argon2-cffi-bindings in c:\\users\\user\\desktop\\onedrive - universita degli studi roma tre\\desktop\\programming\\data quality\\data-quality-repo\\.venv\\lib\\site-packages (from argon2-cffi>=21.1->jupyter-server<3,>=2.4.0->notebook>=4.0.0->lux-widget>=0.1.4->lux-api) (21.2.0)\n",
      "Requirement already satisfied: httpcore==1.* in c:\\users\\user\\desktop\\onedrive - universita degli studi roma tre\\desktop\\programming\\data quality\\data-quality-repo\\.venv\\lib\\site-packages (from httpx>=0.25.0->jupyterlab<4.3,>=4.2.0->notebook>=4.0.0->lux-widget>=0.1.4->lux-api) (1.0.7)\n",
      "Requirement already satisfied: h11<0.15,>=0.13 in c:\\users\\user\\desktop\\onedrive - universita degli studi roma tre\\desktop\\programming\\data quality\\data-quality-repo\\.venv\\lib\\site-packages (from httpcore==1.*->httpx>=0.25.0->jupyterlab<4.3,>=4.2.0->notebook>=4.0.0->lux-widget>=0.1.4->lux-api) (0.14.0)\n",
      "Requirement already satisfied: debugpy>=1.6.5 in c:\\users\\user\\desktop\\onedrive - universita degli studi roma tre\\desktop\\programming\\data quality\\data-quality-repo\\.venv\\lib\\site-packages (from ipykernel>=6.5.0->jupyterlab<4.3,>=4.2.0->notebook>=4.0.0->lux-widget>=0.1.4->lux-api) (1.8.9)\n",
      "Requirement already satisfied: nest-asyncio in c:\\users\\user\\desktop\\onedrive - universita degli studi roma tre\\desktop\\programming\\data quality\\data-quality-repo\\.venv\\lib\\site-packages (from ipykernel>=6.5.0->jupyterlab<4.3,>=4.2.0->notebook>=4.0.0->lux-widget>=0.1.4->lux-api) (1.6.0)\n",
      "Requirement already satisfied: parso<0.9.0,>=0.8.4 in c:\\users\\user\\desktop\\onedrive - universita degli studi roma tre\\desktop\\programming\\data quality\\data-quality-repo\\.venv\\lib\\site-packages (from jedi>=0.16->ipython>=6.1.0->ipywidgets>=7.5.0->lux-widget>=0.1.4->lux-api) (0.8.4)\n",
      "Requirement already satisfied: platformdirs>=2.5 in c:\\users\\user\\desktop\\onedrive - universita degli studi roma tre\\desktop\\programming\\data quality\\data-quality-repo\\.venv\\lib\\site-packages (from jupyter-core!=5.0.*,>=4.12->jupyter-server<3,>=2.4.0->notebook>=4.0.0->lux-widget>=0.1.4->lux-api) (4.3.6)\n",
      "Requirement already satisfied: pywin32>=300 in c:\\users\\user\\desktop\\onedrive - universita degli studi roma tre\\desktop\\programming\\data quality\\data-quality-repo\\.venv\\lib\\site-packages (from jupyter-core!=5.0.*,>=4.12->jupyter-server<3,>=2.4.0->notebook>=4.0.0->lux-widget>=0.1.4->lux-api) (308)\n",
      "Requirement already satisfied: python-json-logger>=2.0.4 in c:\\users\\user\\desktop\\onedrive - universita degli studi roma tre\\desktop\\programming\\data quality\\data-quality-repo\\.venv\\lib\\site-packages (from jupyter-events>=0.9.0->jupyter-server<3,>=2.4.0->notebook>=4.0.0->lux-widget>=0.1.4->lux-api) (2.0.7)\n",
      "Requirement already satisfied: rfc3339-validator in c:\\users\\user\\desktop\\onedrive - universita degli studi roma tre\\desktop\\programming\\data quality\\data-quality-repo\\.venv\\lib\\site-packages (from jupyter-events>=0.9.0->jupyter-server<3,>=2.4.0->notebook>=4.0.0->lux-widget>=0.1.4->lux-api) (0.1.4)\n",
      "Requirement already satisfied: rfc3986-validator>=0.1.1 in c:\\users\\user\\desktop\\onedrive - universita degli studi roma tre\\desktop\\programming\\data quality\\data-quality-repo\\.venv\\lib\\site-packages (from jupyter-events>=0.9.0->jupyter-server<3,>=2.4.0->notebook>=4.0.0->lux-widget>=0.1.4->lux-api) (0.1.1)\n",
      "Requirement already satisfied: beautifulsoup4 in c:\\users\\user\\desktop\\onedrive - universita degli studi roma tre\\desktop\\programming\\data quality\\data-quality-repo\\.venv\\lib\\site-packages (from nbconvert>=6.4.4->jupyter-server<3,>=2.4.0->notebook>=4.0.0->lux-widget>=0.1.4->lux-api) (4.12.3)\n",
      "Requirement already satisfied: defusedxml in c:\\users\\user\\desktop\\onedrive - universita degli studi roma tre\\desktop\\programming\\data quality\\data-quality-repo\\.venv\\lib\\site-packages (from nbconvert>=6.4.4->jupyter-server<3,>=2.4.0->notebook>=4.0.0->lux-widget>=0.1.4->lux-api) (0.7.1)\n",
      "Requirement already satisfied: jupyterlab-pygments in c:\\users\\user\\desktop\\onedrive - universita degli studi roma tre\\desktop\\programming\\data quality\\data-quality-repo\\.venv\\lib\\site-packages (from nbconvert>=6.4.4->jupyter-server<3,>=2.4.0->notebook>=4.0.0->lux-widget>=0.1.4->lux-api) (0.3.0)\n",
      "Requirement already satisfied: mistune<4,>=2.0.3 in c:\\users\\user\\desktop\\onedrive - universita degli studi roma tre\\desktop\\programming\\data quality\\data-quality-repo\\.venv\\lib\\site-packages (from nbconvert>=6.4.4->jupyter-server<3,>=2.4.0->notebook>=4.0.0->lux-widget>=0.1.4->lux-api) (3.0.2)\n",
      "Collecting nbclient>=0.5.0 (from nbconvert>=6.4.4->jupyter-server<3,>=2.4.0->notebook>=4.0.0->lux-widget>=0.1.4->lux-api)\n",
      "  Using cached nbclient-0.10.0-py3-none-any.whl.metadata (7.8 kB)\n",
      "Requirement already satisfied: pandocfilters>=1.4.1 in c:\\users\\user\\desktop\\onedrive - universita degli studi roma tre\\desktop\\programming\\data quality\\data-quality-repo\\.venv\\lib\\site-packages (from nbconvert>=6.4.4->jupyter-server<3,>=2.4.0->notebook>=4.0.0->lux-widget>=0.1.4->lux-api) (1.5.1)\n",
      "Requirement already satisfied: tinycss2 in c:\\users\\user\\desktop\\onedrive - universita degli studi roma tre\\desktop\\programming\\data quality\\data-quality-repo\\.venv\\lib\\site-packages (from nbconvert>=6.4.4->jupyter-server<3,>=2.4.0->notebook>=4.0.0->lux-widget>=0.1.4->lux-api) (1.4.0)\n",
      "Requirement already satisfied: fastjsonschema>=2.15 in c:\\users\\user\\desktop\\onedrive - universita degli studi roma tre\\desktop\\programming\\data quality\\data-quality-repo\\.venv\\lib\\site-packages (from nbformat>=5.3.0->jupyter-server<3,>=2.4.0->notebook>=4.0.0->lux-widget>=0.1.4->lux-api) (2.20.0)\n",
      "Requirement already satisfied: wcwidth in c:\\users\\user\\desktop\\onedrive - universita degli studi roma tre\\desktop\\programming\\data quality\\data-quality-repo\\.venv\\lib\\site-packages (from prompt-toolkit<3.1.0,>=3.0.41->ipython>=6.1.0->ipywidgets>=7.5.0->lux-widget>=0.1.4->lux-api) (0.2.13)\n",
      "Requirement already satisfied: executing>=1.2.0 in c:\\users\\user\\desktop\\onedrive - universita degli studi roma tre\\desktop\\programming\\data quality\\data-quality-repo\\.venv\\lib\\site-packages (from stack-data->ipython>=6.1.0->ipywidgets>=7.5.0->lux-widget>=0.1.4->lux-api) (2.1.0)\n",
      "Requirement already satisfied: asttokens>=2.1.0 in c:\\users\\user\\desktop\\onedrive - universita degli studi roma tre\\desktop\\programming\\data quality\\data-quality-repo\\.venv\\lib\\site-packages (from stack-data->ipython>=6.1.0->ipywidgets>=7.5.0->lux-widget>=0.1.4->lux-api) (2.4.1)\n",
      "Requirement already satisfied: pure-eval in c:\\users\\user\\desktop\\onedrive - universita degli studi roma tre\\desktop\\programming\\data quality\\data-quality-repo\\.venv\\lib\\site-packages (from stack-data->ipython>=6.1.0->ipywidgets>=7.5.0->lux-widget>=0.1.4->lux-api) (0.2.3)\n",
      "Requirement already satisfied: fqdn in c:\\users\\user\\desktop\\onedrive - universita degli studi roma tre\\desktop\\programming\\data quality\\data-quality-repo\\.venv\\lib\\site-packages (from jsonschema[format-nongpl]>=4.18.0->jupyter-events>=0.9.0->jupyter-server<3,>=2.4.0->notebook>=4.0.0->lux-widget>=0.1.4->lux-api) (1.5.1)\n",
      "Requirement already satisfied: isoduration in c:\\users\\user\\desktop\\onedrive - universita degli studi roma tre\\desktop\\programming\\data quality\\data-quality-repo\\.venv\\lib\\site-packages (from jsonschema[format-nongpl]>=4.18.0->jupyter-events>=0.9.0->jupyter-server<3,>=2.4.0->notebook>=4.0.0->lux-widget>=0.1.4->lux-api) (20.11.0)\n",
      "Requirement already satisfied: jsonpointer>1.13 in c:\\users\\user\\desktop\\onedrive - universita degli studi roma tre\\desktop\\programming\\data quality\\data-quality-repo\\.venv\\lib\\site-packages (from jsonschema[format-nongpl]>=4.18.0->jupyter-events>=0.9.0->jupyter-server<3,>=2.4.0->notebook>=4.0.0->lux-widget>=0.1.4->lux-api) (3.0.0)\n",
      "Requirement already satisfied: uri-template in c:\\users\\user\\desktop\\onedrive - universita degli studi roma tre\\desktop\\programming\\data quality\\data-quality-repo\\.venv\\lib\\site-packages (from jsonschema[format-nongpl]>=4.18.0->jupyter-events>=0.9.0->jupyter-server<3,>=2.4.0->notebook>=4.0.0->lux-widget>=0.1.4->lux-api) (1.3.0)\n",
      "Requirement already satisfied: webcolors>=24.6.0 in c:\\users\\user\\desktop\\onedrive - universita degli studi roma tre\\desktop\\programming\\data quality\\data-quality-repo\\.venv\\lib\\site-packages (from jsonschema[format-nongpl]>=4.18.0->jupyter-events>=0.9.0->jupyter-server<3,>=2.4.0->notebook>=4.0.0->lux-widget>=0.1.4->lux-api) (24.11.1)\n",
      "Requirement already satisfied: cffi>=1.0.1 in c:\\users\\user\\desktop\\onedrive - universita degli studi roma tre\\desktop\\programming\\data quality\\data-quality-repo\\.venv\\lib\\site-packages (from argon2-cffi-bindings->argon2-cffi>=21.1->jupyter-server<3,>=2.4.0->notebook>=4.0.0->lux-widget>=0.1.4->lux-api) (1.17.1)\n",
      "Requirement already satisfied: soupsieve>1.2 in c:\\users\\user\\desktop\\onedrive - universita degli studi roma tre\\desktop\\programming\\data quality\\data-quality-repo\\.venv\\lib\\site-packages (from beautifulsoup4->nbconvert>=6.4.4->jupyter-server<3,>=2.4.0->notebook>=4.0.0->lux-widget>=0.1.4->lux-api) (2.6)\n",
      "Requirement already satisfied: pycparser in c:\\users\\user\\desktop\\onedrive - universita degli studi roma tre\\desktop\\programming\\data quality\\data-quality-repo\\.venv\\lib\\site-packages (from cffi>=1.0.1->argon2-cffi-bindings->argon2-cffi>=21.1->jupyter-server<3,>=2.4.0->notebook>=4.0.0->lux-widget>=0.1.4->lux-api) (2.22)\n",
      "Requirement already satisfied: arrow>=0.15.0 in c:\\users\\user\\desktop\\onedrive - universita degli studi roma tre\\desktop\\programming\\data quality\\data-quality-repo\\.venv\\lib\\site-packages (from isoduration->jsonschema[format-nongpl]>=4.18.0->jupyter-events>=0.9.0->jupyter-server<3,>=2.4.0->notebook>=4.0.0->lux-widget>=0.1.4->lux-api) (1.3.0)\n",
      "Requirement already satisfied: types-python-dateutil>=2.8.10 in c:\\users\\user\\desktop\\onedrive - universita degli studi roma tre\\desktop\\programming\\data quality\\data-quality-repo\\.venv\\lib\\site-packages (from arrow>=0.15.0->isoduration->jsonschema[format-nongpl]>=4.18.0->jupyter-events>=0.9.0->jupyter-server<3,>=2.4.0->notebook>=4.0.0->lux-widget>=0.1.4->lux-api) (2.9.0.20241003)\n",
      "Using cached autoviz-0.1.905-py3-none-any.whl (67 kB)\n",
      "Using cached altair-5.5.0-py3-none-any.whl (731 kB)\n",
      "Using cached holoviews-1.20.0-py3-none-any.whl (5.0 MB)\n",
      "Using cached hvplot-0.11.1-py3-none-any.whl (161 kB)\n",
      "Using cached panel-1.5.4-py3-none-any.whl (63.1 MB)\n",
      "Using cached ipywidgets-8.1.5-py3-none-any.whl (139 kB)\n",
      "Using cached notebook-7.2.2-py3-none-any.whl (5.0 MB)\n",
      "Using cached jupyter_server-2.14.2-py3-none-any.whl (383 kB)\n",
      "Using cached jupyterlab-4.2.6-py3-none-any.whl (11.6 MB)\n",
      "Using cached jupyterlab_server-2.27.3-py3-none-any.whl (59 kB)\n",
      "Using cached notebook_shim-0.2.4-py3-none-any.whl (13 kB)\n",
      "Using cached jupyter_events-0.10.0-py3-none-any.whl (18 kB)\n",
      "Using cached jupyter_lsp-2.2.5-py3-none-any.whl (69 kB)\n",
      "Using cached nbconvert-7.16.4-py3-none-any.whl (257 kB)\n",
      "Using cached nbformat-5.10.4-py3-none-any.whl (78 kB)\n",
      "Using cached nbclient-0.10.0-py3-none-any.whl (25 kB)\n",
      "Installing collected packages: panel, nbformat, ipywidgets, altair, nbclient, jupyter-events, holoviews, nbconvert, hvplot, jupyter-server, autoviz, notebook-shim, jupyterlab-server, jupyter-lsp, jupyterlab, notebook, lux-widget, lux-api\n"
     ]
    },
    {
     "name": "stderr",
     "output_type": "stream",
     "text": [
      "ERROR: Could not install packages due to an OSError: [Errno 2] No such file or directory: 'c:\\\\Users\\\\User\\\\Desktop\\\\OneDrive - Universita degli Studi Roma Tre\\\\Desktop\\\\Programming\\\\Data Quality\\\\Data-Quality-Repo\\\\.venv\\\\Lib\\\\site-packages\\\\panel\\\\node_modules\\\\@typescript-eslint\\\\eslint-plugin\\\\dist\\\\rules\\\\prefer-optional-chain-utils\\\\PreferOptionalChainOptions.js'\n",
      "\n"
     ]
    }
   ],
   "source": [
    "!pip install sweetviz lux-api autoviz plotly matplotlib"
   ]
  },
  {
   "cell_type": "code",
   "execution_count": 5,
   "metadata": {
    "id": "izfIcJR38dvf"
   },
   "outputs": [
    {
     "name": "stdout",
     "output_type": "stream",
     "text": [
      "Imported v0.1.905. Please call AutoViz in this sequence:\n",
      "    AV = AutoViz_Class()\n",
      "    %matplotlib inline\n",
      "    dfte = AV.AutoViz(filename, sep=',', depVar='', dfte=None, header=0, verbose=1, lowess=False,\n",
      "               chart_format='svg',max_rows_analyzed=150000,max_cols_analyzed=30, save_plot_dir=None)\n"
     ]
    }
   ],
   "source": [
    "import pandas as pd\n",
    "import json\n",
    "import seaborn as sns\n",
    "import sweetviz as sv\n",
    "import lux\n",
    "from autoviz import AutoViz_Class\n",
    "import plotly.express as px\n",
    "import matplotlib.pyplot as plt\n",
    "%matplotlib inline"
   ]
  },
  {
   "cell_type": "markdown",
   "metadata": {
    "id": "qfbUJ6Kj9xVQ"
   },
   "source": [
    "**DATA PROFILING**\n",
    "\n",
    "Data profiling is the set of activities and processes designed to determine the metadata of a given dataset.\n",
    "\n",
    "Data profiling helps understand and prepare data for subsequent cleansing, integration, and analysis."
   ]
  },
  {
   "cell_type": "markdown",
   "metadata": {
    "id": "IC9d5Wxz-MTC"
   },
   "source": [
    "Import data:"
   ]
  },
  {
   "cell_type": "code",
   "execution_count": 4,
   "metadata": {
    "id": "2q2Q_3iN8dtm"
   },
   "outputs": [],
   "source": [
    "BEERS = pd.read_csv('https://raw.githubusercontent.com/camillasancricca/DATADIQ/master/BEERS.csv')"
   ]
  },
  {
   "cell_type": "markdown",
   "metadata": {
    "id": "1Bg17F6v-TiF"
   },
   "source": [
    "Basic profiling activities:"
   ]
  },
  {
   "cell_type": "code",
   "execution_count": null,
   "metadata": {
    "id": "z2qriqtb8drI"
   },
   "outputs": [],
   "source": [
    "#look at data with the functions we have already seen in DQ ASSESSMENT\n"
   ]
  },
  {
   "cell_type": "code",
   "execution_count": null,
   "metadata": {
    "id": "NHd8-KhF8djE"
   },
   "outputs": [],
   "source": []
  },
  {
   "cell_type": "code",
   "execution_count": null,
   "metadata": {
    "id": "LUjjgYA78db9"
   },
   "outputs": [],
   "source": []
  },
  {
   "cell_type": "code",
   "execution_count": null,
   "metadata": {
    "id": "9BCQh2v1-e5B"
   },
   "outputs": [],
   "source": []
  },
  {
   "cell_type": "code",
   "execution_count": null,
   "metadata": {
    "id": "YLy71qX7-e2v"
   },
   "outputs": [],
   "source": [
    "#display numeric columns\n"
   ]
  },
  {
   "cell_type": "code",
   "execution_count": null,
   "metadata": {
    "id": "9z-dntu8-e0o"
   },
   "outputs": [],
   "source": [
    "#display categorical columns\n"
   ]
  },
  {
   "cell_type": "markdown",
   "metadata": {
    "id": "AdslP_Pw-nOi"
   },
   "source": [
    "**SINGLE COLUMN ANALYSIS**"
   ]
  },
  {
   "cell_type": "markdown",
   "metadata": {
    "id": "0-5rxNTq-vAp"
   },
   "source": [
    "**Cardinalities**\n",
    "\n",
    "Cardinalities are numbers that summarize simple metadata (*e.g.,* number of rows, attributes, null values, distinct values, Uniqueness and Distinctness).\n",
    "\n",
    "*Cardinality* = count of the number of distinct actual values.\n",
    "\n",
    "*Uniqueness* = percentage calculated as Cardinality divided by the total number of records.\n",
    "\n",
    "*Actual* = count of the number of records with an actual value (*i.e.,* not-null).\n",
    "\n",
    "*Distinctness* = percentage calculated as Cardinality divided by Actual."
   ]
  },
  {
   "cell_type": "code",
   "execution_count": null,
   "metadata": {
    "id": "V_n-xRgm-eyh"
   },
   "outputs": [],
   "source": [
    "#len command counts the number of rows\n"
   ]
  },
  {
   "cell_type": "code",
   "execution_count": null,
   "metadata": {
    "id": "-NcR9mTF-ew6"
   },
   "outputs": [],
   "source": [
    "#number of rows with shape function\n"
   ]
  },
  {
   "cell_type": "code",
   "execution_count": null,
   "metadata": {
    "id": "BZR5NuE6-euJ"
   },
   "outputs": [],
   "source": [
    "#number of columns with shape function\n"
   ]
  },
  {
   "cell_type": "code",
   "execution_count": null,
   "metadata": {
    "id": "LSRozggb-eqR"
   },
   "outputs": [],
   "source": [
    "#number of cells with shape function\n"
   ]
  },
  {
   "cell_type": "code",
   "execution_count": null,
   "metadata": {
    "id": "Eb-aR66a-en-"
   },
   "outputs": [],
   "source": [
    "#number of non—null observation in a column (attribute \"ibu\")\n"
   ]
  },
  {
   "cell_type": "code",
   "execution_count": null,
   "metadata": {
    "id": "p_kI_04--el5"
   },
   "outputs": [],
   "source": [
    "#value counts is the same of a group by (attribute \"ibu\")\n"
   ]
  },
  {
   "cell_type": "code",
   "execution_count": null,
   "metadata": {
    "id": "C9WO6fQ--edG"
   },
   "outputs": [],
   "source": [
    "#nunique is the number of distict values for an attribute (attribute \"ibu\")\n"
   ]
  },
  {
   "cell_type": "markdown",
   "metadata": {
    "id": "6ZsK7Mn6_EFW"
   },
   "source": [
    "UNIQUENESS EVALUATION:"
   ]
  },
  {
   "cell_type": "code",
   "execution_count": null,
   "metadata": {
    "id": "MLkNop0V_GWU"
   },
   "outputs": [],
   "source": [
    "#for attribute \"ibu\"\n",
    "\n",
    "#print(\"UNIQUENESS: \", UNIQUENESS)"
   ]
  },
  {
   "cell_type": "markdown",
   "metadata": {
    "id": "dOUdGEDN_UIT"
   },
   "source": [
    "DISTINCTNESS EVALUATION:"
   ]
  },
  {
   "cell_type": "code",
   "execution_count": null,
   "metadata": {
    "id": "4kgjyElz_G4Q"
   },
   "outputs": [],
   "source": [
    "#for attribute \"ibu\"\n",
    "\n",
    "#print(\"DISTINCTNESS: \", DISTINCTNESS)"
   ]
  },
  {
   "cell_type": "markdown",
   "metadata": {
    "id": "7mfL5tvM_c47"
   },
   "source": [
    "**Value distributions**\n",
    "\n",
    "Value distributions summarize the distribution of values within a column (*e.g.,* extremes and Constancy). A common representation for value distributions are Histograms.\n",
    "\n",
    "*Constancy* = frequency of the most frequent value divided by the total number of values. It might reveals the presence of standard values."
   ]
  },
  {
   "cell_type": "code",
   "execution_count": null,
   "metadata": {
    "id": "WaMOvBQx_G1l"
   },
   "outputs": [],
   "source": [
    "#extremes (attribute \"abv\")\n",
    "#print ('MIN:', )\n",
    "#print ('MAX:', )\n",
    "#print ('MODE:', )"
   ]
  },
  {
   "cell_type": "code",
   "execution_count": null,
   "metadata": {
    "id": "ZlQ_hVWt_Gy8"
   },
   "outputs": [],
   "source": [
    "#extremes (all attributes)\n",
    "#print ('MIN: ', )\n",
    "#print(\"\\n\\n\")\n",
    "#print ('MAX: ', )"
   ]
  },
  {
   "cell_type": "code",
   "execution_count": null,
   "metadata": {
    "id": "Zjd7N0Yb_Gwj"
   },
   "outputs": [],
   "source": [
    "#other information: Mean and Standard deviation\n",
    "#print('Average:', )\n",
    "#print('Standard Deviation:', )"
   ]
  },
  {
   "cell_type": "code",
   "execution_count": null,
   "metadata": {
    "id": "Ek7A38J3_Gts"
   },
   "outputs": [],
   "source": [
    "#find max of value counts (attribute \"ibu\")\n"
   ]
  },
  {
   "cell_type": "markdown",
   "metadata": {
    "id": "8XT7xynN_r-5"
   },
   "source": [
    "CONSTANCY EVALUATION:"
   ]
  },
  {
   "cell_type": "code",
   "execution_count": null,
   "metadata": {
    "id": "tRefnsW1_Gps"
   },
   "outputs": [],
   "source": [
    "#for attribute \"ibu\"\n",
    "\n",
    "#print(\"CONSTANCY: \", CONSTANCY)"
   ]
  },
  {
   "cell_type": "markdown",
   "metadata": {
    "id": "AtZ1JbA3_wjH"
   },
   "source": [
    "**Histograms** are often used to fit distributions to the data. Analysts can check if the values of some columns are (approximately) normally distributed, and the number of outliers may be returned.\n"
   ]
  },
  {
   "cell_type": "code",
   "execution_count": null,
   "metadata": {
    "id": "21XOKYJ5_91J"
   },
   "outputs": [],
   "source": [
    "#plot the distribution of the attribute \"ibu\" with hist function\n"
   ]
  },
  {
   "cell_type": "code",
   "execution_count": null,
   "metadata": {
    "id": "qWOTLXCO_9ut"
   },
   "outputs": [],
   "source": [
    "#describe function get different properties for all the numerical attributes of the table\n"
   ]
  },
  {
   "cell_type": "code",
   "execution_count": null,
   "metadata": {
    "id": "fVeWxiCl_9oD"
   },
   "outputs": [],
   "source": [
    "#we can also display multiple histograms\n"
   ]
  },
  {
   "cell_type": "code",
   "execution_count": null,
   "metadata": {
    "id": "YgHTh3M_AIeC"
   },
   "outputs": [],
   "source": [
    "#correlation evaluation base on pearson correlation coefficient\n"
   ]
  },
  {
   "cell_type": "code",
   "execution_count": null,
   "metadata": {
    "id": "cuK4dHvcAIbU"
   },
   "outputs": [],
   "source": [
    "#correlation evaluation base on kendall correlation coefficient\n"
   ]
  },
  {
   "cell_type": "code",
   "execution_count": null,
   "metadata": {
    "id": "isAQbDA2AIYl"
   },
   "outputs": [],
   "source": [
    "#correlation evaluation base on spearman correlation coefficient\n"
   ]
  },
  {
   "cell_type": "code",
   "execution_count": null,
   "metadata": {
    "id": "M4LATU6njjA1"
   },
   "outputs": [],
   "source": [
    "#correlation evaluation heatmap\n"
   ]
  },
  {
   "cell_type": "markdown",
   "metadata": {
    "id": "_Xump7jSAn38"
   },
   "source": [
    "**SWEETVIZ LIBRARY** (alternative library for data profiling)"
   ]
  },
  {
   "cell_type": "code",
   "execution_count": null,
   "metadata": {
    "id": "7dXEXRnkAmpK"
   },
   "outputs": [],
   "source": [
    "#sweet_report = sv.analyze([BEERS,'Sweetviz Report'])\n",
    "#sweet_report.show_notebook()"
   ]
  },
  {
   "cell_type": "markdown",
   "metadata": {
    "id": "004o9_9KZYJx"
   },
   "source": [
    "**LUX LIBRARY** (alternative library for correlation discovery)"
   ]
  },
  {
   "cell_type": "code",
   "execution_count": null,
   "metadata": {
    "id": "__X6je_SM7F2"
   },
   "outputs": [],
   "source": [
    "#BEERS.default_display = \"lux\""
   ]
  },
  {
   "cell_type": "code",
   "execution_count": null,
   "metadata": {
    "id": "-_GZT6KLNbzw"
   },
   "outputs": [],
   "source": [
    "#BEERS"
   ]
  },
  {
   "cell_type": "markdown",
   "metadata": {
    "id": "DxJOfLzab1lf"
   },
   "source": [
    "**MATPLOTLIB** (very useful library for data visualization)"
   ]
  },
  {
   "cell_type": "code",
   "execution_count": null,
   "metadata": {
    "id": "1_JG8GB1b3K6"
   },
   "outputs": [],
   "source": [
    "#plt.figure(figsize=(8, 6))\n",
    "#plt.scatter(, , marker='o', color='r', label='Data')\n",
    "#plt.xlabel('IBU')\n",
    "#plt.ylabel('ABV')\n",
    "#plt.title('SCATTER PLOT')\n",
    "#plt.legend()\n",
    "#plt.grid(False)\n",
    "#plt.show()"
   ]
  },
  {
   "cell_type": "markdown",
   "metadata": {
    "id": "7x7fQYh9Zp4Z"
   },
   "source": [
    "**PLOTLY** (very useful library for **interactive** data visualization)"
   ]
  },
  {
   "cell_type": "code",
   "execution_count": null,
   "metadata": {
    "id": "7ODnzIaJU2Gh"
   },
   "outputs": [],
   "source": [
    "#df = px.data.iris()\n",
    "#fig = px.scatter_matrix(df,\n",
    "#    dimensions=[\"sepal_length\", \"sepal_width\", \"petal_length\", \"petal_width\"],\n",
    "#    color=\"species\")\n",
    "#fig.show()"
   ]
  },
  {
   "cell_type": "code",
   "execution_count": null,
   "metadata": {
    "id": "jYbBHA76mRWD"
   },
   "outputs": [],
   "source": [
    "#df = px.data.tips()\n",
    "#fig = px.box(df, x=\"time\", y=\"total_bill\")\n",
    "#fig.show()"
   ]
  },
  {
   "cell_type": "code",
   "execution_count": null,
   "metadata": {
    "id": "BRCSbK29nkHI"
   },
   "outputs": [],
   "source": [
    "#fig = px.box(df, x=\"time\", y=\"total_bill\", points=\"all\")\n",
    "#fig.show()"
   ]
  },
  {
   "cell_type": "markdown",
   "metadata": {
    "id": "c7SSgZziBEFb"
   },
   "source": [
    "**Summary:**\n",
    "\n",
    "*Basic profiling activities*\n",
    "- pandas.read_csv()\n",
    "- DataFrame.columns()\n",
    "- DataFrame.shape()\n",
    "- DataFrame.head()\n",
    "- DataFrame.dtypes()\n",
    "- DataFrame.select_dtypes()\n",
    "\n",
    "*Single column analysis*\n",
    "- len()\n",
    "- DataFrame.count()\n",
    "- DataFrame.value_counts()\n",
    "- DataFrame.nunique()\n",
    "- DataFrame.min(), DataFrame.max(), DataFrame.mean(), DataFrame.std(), DataFrame.mode()\n",
    "\n",
    "*Histograms*\n",
    "- DataFrame.describe()\n",
    "- DataFrame.dropna()\n",
    "- DataFrame.hist()\n",
    "- DataFrame.corr()"
   ]
  }
 ],
 "metadata": {
  "colab": {
   "provenance": []
  },
  "kernelspec": {
   "display_name": ".venv",
   "language": "python",
   "name": "python3"
  },
  "language_info": {
   "codemirror_mode": {
    "name": "ipython",
    "version": 3
   },
   "file_extension": ".py",
   "mimetype": "text/x-python",
   "name": "python",
   "nbconvert_exporter": "python",
   "pygments_lexer": "ipython3",
   "version": "3.11.2"
  }
 },
 "nbformat": 4,
 "nbformat_minor": 0
}
