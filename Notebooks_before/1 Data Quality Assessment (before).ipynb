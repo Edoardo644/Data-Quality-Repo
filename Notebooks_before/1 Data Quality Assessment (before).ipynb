{
 "cells": [
  {
   "cell_type": "markdown",
   "metadata": {
    "id": "r482Jy--sT_h"
   },
   "source": [
    "# **1. DATA QUALITY ASSESSMENT**"
   ]
  },
  {
   "cell_type": "markdown",
   "metadata": {
    "id": "usX-KMaKFoV3"
   },
   "source": [
    "Import libraries:"
   ]
  },
  {
   "cell_type": "code",
   "execution_count": 1,
   "metadata": {
    "id": "RHC5fCBGFmbB"
   },
   "outputs": [],
   "source": [
    "import pandas as pd\n",
    "import numpy as np\n",
    "from datetime import datetime\n",
    "import os"
   ]
  },
  {
   "cell_type": "markdown",
   "metadata": {
    "id": "GlX2fWRZGmCu"
   },
   "source": [
    "Import data:"
   ]
  },
  {
   "cell_type": "code",
   "execution_count": null,
   "metadata": {
    "id": "CwiaxCf9Fv4P"
   },
   "outputs": [
    {
     "data": {
      "text/html": [
       "<div>\n",
       "<style scoped>\n",
       "    .dataframe tbody tr th:only-of-type {\n",
       "        vertical-align: middle;\n",
       "    }\n",
       "\n",
       "    .dataframe tbody tr th {\n",
       "        vertical-align: top;\n",
       "    }\n",
       "\n",
       "    .dataframe thead th {\n",
       "        text-align: right;\n",
       "    }\n",
       "</style>\n",
       "<table border=\"1\" class=\"dataframe\">\n",
       "  <thead>\n",
       "    <tr style=\"text-align: right;\">\n",
       "      <th></th>\n",
       "      <th>abv</th>\n",
       "      <th>ibu</th>\n",
       "      <th>id</th>\n",
       "      <th>name</th>\n",
       "      <th>style</th>\n",
       "      <th>brewery_id</th>\n",
       "      <th>ounces</th>\n",
       "    </tr>\n",
       "  </thead>\n",
       "  <tbody>\n",
       "    <tr>\n",
       "      <th>0</th>\n",
       "      <td>0.050</td>\n",
       "      <td>NaN</td>\n",
       "      <td>1436</td>\n",
       "      <td>Pub Beer</td>\n",
       "      <td>American Pale Lager</td>\n",
       "      <td>408</td>\n",
       "      <td>12.0</td>\n",
       "    </tr>\n",
       "    <tr>\n",
       "      <th>1</th>\n",
       "      <td>66.000</td>\n",
       "      <td>NaN</td>\n",
       "      <td>2265</td>\n",
       "      <td>Devil's Cup</td>\n",
       "      <td>American Pale Ale (APA)</td>\n",
       "      <td>177</td>\n",
       "      <td>12.0</td>\n",
       "    </tr>\n",
       "    <tr>\n",
       "      <th>2</th>\n",
       "      <td>71.000</td>\n",
       "      <td>NaN</td>\n",
       "      <td>2264</td>\n",
       "      <td>Rise of the Phoenix</td>\n",
       "      <td>American IPA</td>\n",
       "      <td>177</td>\n",
       "      <td>12.0</td>\n",
       "    </tr>\n",
       "    <tr>\n",
       "      <th>3</th>\n",
       "      <td>0.090</td>\n",
       "      <td>NaN</td>\n",
       "      <td>2263</td>\n",
       "      <td>Sinister</td>\n",
       "      <td>American Double / Imperial IPA</td>\n",
       "      <td>177</td>\n",
       "      <td>12.0</td>\n",
       "    </tr>\n",
       "    <tr>\n",
       "      <th>4</th>\n",
       "      <td>75.000</td>\n",
       "      <td>NaN</td>\n",
       "      <td>2262</td>\n",
       "      <td>Sex and Candy</td>\n",
       "      <td>American IPA</td>\n",
       "      <td>177</td>\n",
       "      <td>12.0</td>\n",
       "    </tr>\n",
       "    <tr>\n",
       "      <th>...</th>\n",
       "      <td>...</td>\n",
       "      <td>...</td>\n",
       "      <td>...</td>\n",
       "      <td>...</td>\n",
       "      <td>...</td>\n",
       "      <td>...</td>\n",
       "      <td>...</td>\n",
       "    </tr>\n",
       "    <tr>\n",
       "      <th>2414</th>\n",
       "      <td>67.000</td>\n",
       "      <td>45.0</td>\n",
       "      <td>928</td>\n",
       "      <td>Belgorado</td>\n",
       "      <td>Belgian IPA</td>\n",
       "      <td>424</td>\n",
       "      <td>12.0</td>\n",
       "    </tr>\n",
       "    <tr>\n",
       "      <th>2415</th>\n",
       "      <td>0.052</td>\n",
       "      <td>NaN</td>\n",
       "      <td>807</td>\n",
       "      <td>Rail Yard Ale</td>\n",
       "      <td>American Amber / Red Ale</td>\n",
       "      <td>424</td>\n",
       "      <td>12.0</td>\n",
       "    </tr>\n",
       "    <tr>\n",
       "      <th>2416</th>\n",
       "      <td>55.000</td>\n",
       "      <td>NaN</td>\n",
       "      <td>620</td>\n",
       "      <td>B3K Black Lager</td>\n",
       "      <td>Schwarzbier</td>\n",
       "      <td>424</td>\n",
       "      <td>12.0</td>\n",
       "    </tr>\n",
       "    <tr>\n",
       "      <th>2417</th>\n",
       "      <td>55.000</td>\n",
       "      <td>40.0</td>\n",
       "      <td>145</td>\n",
       "      <td>Silverback Pale Ale</td>\n",
       "      <td>American Pale Ale (APA)</td>\n",
       "      <td>424</td>\n",
       "      <td>12.0</td>\n",
       "    </tr>\n",
       "    <tr>\n",
       "      <th>2418</th>\n",
       "      <td>0.052</td>\n",
       "      <td>NaN</td>\n",
       "      <td>84</td>\n",
       "      <td>Rail Yard Ale (2009)</td>\n",
       "      <td>American Amber / Red Ale</td>\n",
       "      <td>424</td>\n",
       "      <td>12.0</td>\n",
       "    </tr>\n",
       "  </tbody>\n",
       "</table>\n",
       "<p>2419 rows × 7 columns</p>\n",
       "</div>"
      ],
      "text/plain": [
       "         abv   ibu    id                  name  \\\n",
       "0      0.050   NaN  1436              Pub Beer   \n",
       "1     66.000   NaN  2265           Devil's Cup   \n",
       "2     71.000   NaN  2264   Rise of the Phoenix   \n",
       "3      0.090   NaN  2263              Sinister   \n",
       "4     75.000   NaN  2262         Sex and Candy   \n",
       "...      ...   ...   ...                   ...   \n",
       "2414  67.000  45.0   928             Belgorado   \n",
       "2415   0.052   NaN   807         Rail Yard Ale   \n",
       "2416  55.000   NaN   620       B3K Black Lager   \n",
       "2417  55.000  40.0   145   Silverback Pale Ale   \n",
       "2418   0.052   NaN    84  Rail Yard Ale (2009)   \n",
       "\n",
       "                               style brewery_id  ounces  \n",
       "0                American Pale Lager        408    12.0  \n",
       "1            American Pale Ale (APA)        177    12.0  \n",
       "2                       American IPA        177    12.0  \n",
       "3     American Double / Imperial IPA        177    12.0  \n",
       "4                       American IPA        177    12.0  \n",
       "...                              ...        ...     ...  \n",
       "2414                     Belgian IPA        424    12.0  \n",
       "2415        American Amber / Red Ale        424    12.0  \n",
       "2416                     Schwarzbier        424    12.0  \n",
       "2417         American Pale Ale (APA)        424    12.0  \n",
       "2418        American Amber / Red Ale        424    12.0  \n",
       "\n",
       "[2419 rows x 7 columns]"
      ]
     },
     "execution_count": 3,
     "metadata": {},
     "output_type": "execute_result"
    }
   ],
   "source": [
    "BEERS = pd.read_csv(\"https://raw.githubusercontent.com/camillasancricca/DATADIQ/master/BEERS.csv\")\n",
    "#Put the name of the variable to just show it\n",
    "BEERS\n"
   ]
  },
  {
   "cell_type": "markdown",
   "metadata": {
    "id": "IUTZxJstHU_P"
   },
   "source": [
    "Basic operation to inspect data:"
   ]
  },
  {
   "cell_type": "code",
   "execution_count": 42,
   "metadata": {
    "id": "pBqDcHPiHwXR"
   },
   "outputs": [],
   "source": [
    "#number of tuples and columns of the data source\n"
   ]
  },
  {
   "cell_type": "code",
   "execution_count": 43,
   "metadata": {
    "id": "WxRjmLMoHwQo"
   },
   "outputs": [],
   "source": [
    "#show the schema of the data source\n"
   ]
  },
  {
   "cell_type": "code",
   "execution_count": 44,
   "metadata": {
    "id": "rkKNskwVHwK5"
   },
   "outputs": [],
   "source": [
    "#show the first 5 tuples of the data source\n"
   ]
  },
  {
   "cell_type": "code",
   "execution_count": 45,
   "metadata": {
    "id": "gwWa88ccHwDu"
   },
   "outputs": [],
   "source": [
    "#head(K) shows the first K lines of the data source\n"
   ]
  },
  {
   "cell_type": "code",
   "execution_count": 46,
   "metadata": {
    "id": "4ylptFfgHv3F"
   },
   "outputs": [],
   "source": [
    "#for each attribute the system shows the type of data. The type of data is defined analyzing the values\n"
   ]
  },
  {
   "cell_type": "code",
   "execution_count": 47,
   "metadata": {
    "id": "KHKCBf_zH1vW"
   },
   "outputs": [],
   "source": [
    "#unique display the list of distinct values in a column\n"
   ]
  },
  {
   "cell_type": "code",
   "execution_count": 48,
   "metadata": {
    "id": "7vk1Xq-JH1pm"
   },
   "outputs": [],
   "source": [
    "#nunique counts the number of distinct values\n"
   ]
  },
  {
   "cell_type": "code",
   "execution_count": 49,
   "metadata": {
    "id": "eAbRLfTIH1iz"
   },
   "outputs": [],
   "source": [
    "#value_counts() returns an object containing counts for each unique value\n"
   ]
  },
  {
   "cell_type": "code",
   "execution_count": 49,
   "metadata": {
    "id": "XNmNVBoxH1dU"
   },
   "outputs": [],
   "source": []
  },
  {
   "cell_type": "code",
   "execution_count": 49,
   "metadata": {
    "id": "83vswaAEH1Vq"
   },
   "outputs": [],
   "source": []
  },
  {
   "cell_type": "code",
   "execution_count": 50,
   "metadata": {
    "id": "AfTrpVj3IBzh"
   },
   "outputs": [],
   "source": [
    "#here we want to inspect how many unique values have the same count\n"
   ]
  },
  {
   "cell_type": "markdown",
   "metadata": {
    "id": "DpOIZzv9IIDO"
   },
   "source": [
    "**DUPLICATION**\n",
    "\n",
    "Duplication occurs when a real-world entity is stored twice or more in a data source.\n",
    "\n",
    "*Definition*: A measure of unwanted duplication existing within a data set.\n",
    "\n",
    "*Evaluation*: Number of duplicates"
   ]
  },
  {
   "cell_type": "code",
   "execution_count": 51,
   "metadata": {
    "id": "UZFcsqTDIBtK"
   },
   "outputs": [],
   "source": [
    "BEERS = pd.read_csv(\"https://raw.githubusercontent.com/camillasancricca/DATADIQ/master/BEERS.csv\", header=None)"
   ]
  },
  {
   "cell_type": "code",
   "execution_count": 52,
   "metadata": {
    "id": "Z_yiOHXhIBmp"
   },
   "outputs": [],
   "source": [
    "#duplicated returns a boolean Series denoting the duplicate rows (exact matching)\n"
   ]
  },
  {
   "cell_type": "code",
   "execution_count": 53,
   "metadata": {
    "id": "1j46Pn_uIeYs"
   },
   "outputs": [],
   "source": [
    "#any shows if duplicates exist\n"
   ]
  },
  {
   "cell_type": "code",
   "execution_count": 53,
   "metadata": {
    "id": "V_-ILNMeIkM2"
   },
   "outputs": [],
   "source": []
  },
  {
   "cell_type": "markdown",
   "metadata": {
    "id": "GJCFgUXpJ_ol"
   },
   "source": [
    "**COMPLETENESS**\n",
    "\n",
    "The completeness of a table characterizes the extent to which a table represents the corresponding real world.\n",
    "\n",
    "Completeness in the relational model can be characterized by the presence of null values. In a model with null values, the presence of a null value has the general meaning of a missing value, i.e., a value that exist in the real-world but it is not available.\n",
    "\n",
    "*Definition*: The degree to which a given data collection includes the data describing the corresponding set of real-world objects.\n",
    "\n",
    "*Evaluation*: Number of not null values / Total number of values"
   ]
  },
  {
   "cell_type": "code",
   "execution_count": 54,
   "metadata": {
    "id": "zEXtk9A_7kS-"
   },
   "outputs": [],
   "source": [
    "BEERS = pd.read_csv('https://raw.githubusercontent.com/camillasancricca/DATADIQ/master/BEERS.csv')"
   ]
  },
  {
   "cell_type": "code",
   "execution_count": 55,
   "metadata": {
    "id": "NFH4TTeqKH0R"
   },
   "outputs": [],
   "source": [
    "#isnull() shows which values are null\n"
   ]
  },
  {
   "cell_type": "code",
   "execution_count": 55,
   "metadata": {
    "id": "myDBmyA_KHwQ"
   },
   "outputs": [],
   "source": []
  },
  {
   "cell_type": "code",
   "execution_count": 56,
   "metadata": {
    "id": "rWDSjtX7KHsc"
   },
   "outputs": [],
   "source": [
    "#display the number of not null values for each column\n"
   ]
  },
  {
   "cell_type": "code",
   "execution_count": 57,
   "metadata": {
    "id": "PlH9UpFVKHnb"
   },
   "outputs": [],
   "source": [
    "#total number of not null values\n"
   ]
  },
  {
   "cell_type": "code",
   "execution_count": 58,
   "metadata": {
    "id": "H2HFk8pvKNxX"
   },
   "outputs": [],
   "source": [
    "#display the number of null values for each column\n"
   ]
  },
  {
   "cell_type": "code",
   "execution_count": 59,
   "metadata": {
    "id": "-Zwft80hKNuY"
   },
   "outputs": [],
   "source": [
    "#total number of null values\n"
   ]
  },
  {
   "cell_type": "code",
   "execution_count": 60,
   "metadata": {
    "id": "_8HGkdz5KNrH"
   },
   "outputs": [],
   "source": [
    "#total number of cells\n"
   ]
  },
  {
   "cell_type": "code",
   "execution_count": 60,
   "metadata": {
    "id": "Y4EjAceFKNoQ"
   },
   "outputs": [],
   "source": []
  },
  {
   "cell_type": "markdown",
   "metadata": {
    "id": "zT0y31bPKTy7"
   },
   "source": [
    "COMPLETENESS EVALUATION:"
   ]
  },
  {
   "cell_type": "code",
   "execution_count": 60,
   "metadata": {
    "id": "cSK0qDNJKRx0"
   },
   "outputs": [],
   "source": []
  },
  {
   "cell_type": "code",
   "execution_count": 60,
   "metadata": {
    "id": "MmDWfJn2KRtZ"
   },
   "outputs": [],
   "source": []
  },
  {
   "cell_type": "markdown",
   "metadata": {
    "id": "bs6wo3WIKdBh"
   },
   "source": [
    "Dealing with missing values with a different format:"
   ]
  },
  {
   "cell_type": "code",
   "execution_count": 60,
   "metadata": {
    "id": "Qm71HNgnKRni"
   },
   "outputs": [],
   "source": []
  },
  {
   "cell_type": "code",
   "execution_count": 60,
   "metadata": {
    "id": "wA86XArZKiAT"
   },
   "outputs": [],
   "source": []
  },
  {
   "cell_type": "code",
   "execution_count": 61,
   "metadata": {
    "id": "bF1ir2hRKiRB"
   },
   "outputs": [],
   "source": [
    "#we added to the set of missing values also 'na' and '--'\n",
    "\n",
    "PROPERTY = pd.read_csv('https://raw.githubusercontent.com/camillasancricca/DATADIQ/master/PROPERTY.csv') #, na_values = MISSING)"
   ]
  },
  {
   "cell_type": "code",
   "execution_count": 61,
   "metadata": {
    "id": "nDSIlaiOKqV1"
   },
   "outputs": [],
   "source": []
  },
  {
   "cell_type": "markdown",
   "metadata": {
    "id": "DwjTR7RzKuua"
   },
   "source": [
    "**ACCURACY**\n",
    "\n",
    "*Definition*: The extent to which data are correct, reliable and certified.\n",
    "\n",
    "Syntactic Accuracy is the closeness of a value v to the elements of the corresponding definition domain D.\n",
    "\n",
    "Semantic Accuracy is defined as the closeness between a data value v and a data value v’.\n",
    "\n",
    "It is possible to calculate the accuracy of an attribute, i.e., attribute (or column) accuracy, of a relation, i.e., relation accuracy, or of a whole database, i.e., database accuracy.\n",
    "\n",
    "*Evaluation*: Number of accurate values / Total number of values"
   ]
  },
  {
   "cell_type": "code",
   "execution_count": 62,
   "metadata": {
    "id": "cesuVjBfMDo0"
   },
   "outputs": [],
   "source": [
    "#the styles data source contains the list of correct values for the attribute style in beers\n",
    "STYLES = pd.read_csv('https://raw.githubusercontent.com/camillasancricca/DATADIQ/master/STYLES.csv')\n"
   ]
  },
  {
   "cell_type": "code",
   "execution_count": 63,
   "metadata": {
    "id": "8GEiJo_sMDmO"
   },
   "outputs": [],
   "source": [
    "#now we check if the values attribute style in beers contain errors\n",
    "BEERS = pd.read_csv('https://raw.githubusercontent.com/camillasancricca/DATADIQ/master/BEERS.csv')"
   ]
  },
  {
   "cell_type": "code",
   "execution_count": 64,
   "metadata": {
    "id": "gQnBKc5vMDjN"
   },
   "outputs": [],
   "source": [
    "#correct values in beers are the ones contained in styles\n"
   ]
  },
  {
   "cell_type": "code",
   "execution_count": 65,
   "metadata": {
    "id": "dFVYrR2YMDc0"
   },
   "outputs": [],
   "source": [
    "#we sum the true values in correct\n"
   ]
  },
  {
   "cell_type": "code",
   "execution_count": 66,
   "metadata": {
    "id": "m8LzNdsGMDaI"
   },
   "outputs": [],
   "source": [
    "#we count the not null values of the column style in beers\n"
   ]
  },
  {
   "cell_type": "markdown",
   "metadata": {
    "id": "9p0gpsQWML6T"
   },
   "source": [
    "ACCURACY EVALUATION:"
   ]
  },
  {
   "cell_type": "code",
   "execution_count": 66,
   "metadata": {
    "id": "4_-yCJewMDXg"
   },
   "outputs": [],
   "source": []
  },
  {
   "cell_type": "code",
   "execution_count": 67,
   "metadata": {
    "id": "10rOJjstMDUX"
   },
   "outputs": [],
   "source": [
    "#we assume that the values of attribute ibu in beers are correct only if they belong to a 5 to 100 range\n"
   ]
  },
  {
   "cell_type": "code",
   "execution_count": 68,
   "metadata": {
    "id": "fgMrhN9MMDO5"
   },
   "outputs": [],
   "source": [
    "#check Accuracy of ibu considering the acceptance range\n"
   ]
  },
  {
   "cell_type": "code",
   "execution_count": 68,
   "metadata": {
    "id": "32kqAgN7MULN"
   },
   "outputs": [],
   "source": []
  },
  {
   "cell_type": "code",
   "execution_count": 68,
   "metadata": {
    "id": "Ef0pgMseMUFY"
   },
   "outputs": [],
   "source": []
  },
  {
   "cell_type": "markdown",
   "metadata": {
    "id": "ituYHTj3Mcy0"
   },
   "source": [
    "**TIMELINESS**\n",
    "\n",
    "*Definition*: The extent to which age of the data is appropriate for the task at hand.\n",
    "\n",
    "Timeliness has two components: currency and volatility. Currency is a measure of how old the information is, based on how long ago it was recorded. Volatility is a measure of information instability/the frequency of change of the value for an entity attribute.\n",
    "Currency = Age + (Delivery Time - Input Time)\n",
    "\n",
    "*Evaluation*: Max(0, 1 - Currency/Volatility)"
   ]
  },
  {
   "cell_type": "code",
   "execution_count": 69,
   "metadata": {
    "id": "_ej4XG1zMpIr"
   },
   "outputs": [],
   "source": [
    "\n",
    "PROPERTY = pd.read_csv('https://raw.githubusercontent.com/camillasancricca/DATADIQ/master/PROPERTY.csv')#, parse_dates=['TS_UPDATE'], date_parser=dateparse)"
   ]
  },
  {
   "cell_type": "code",
   "execution_count": 69,
   "metadata": {
    "id": "gLPrJN-_MpDA"
   },
   "outputs": [],
   "source": []
  },
  {
   "cell_type": "code",
   "execution_count": 69,
   "metadata": {
    "id": "S1iKEdr7Mo8x"
   },
   "outputs": [],
   "source": []
  },
  {
   "cell_type": "code",
   "execution_count": 70,
   "metadata": {
    "id": "XzGYdrHtMo5P"
   },
   "outputs": [],
   "source": [
    "#we assume that Volatility (the time in which information is valid in the real-world) is 80 days\n",
    "#we assume also that the data are stored immediately (age = 0)\n",
    "#now we compute the Currency and we add a column with its value for each tuple\n",
    "VOLATILITY = 80\n"
   ]
  },
  {
   "cell_type": "code",
   "execution_count": 70,
   "metadata": {
    "id": "xYwCMUbseXwB"
   },
   "outputs": [],
   "source": []
  },
  {
   "cell_type": "code",
   "execution_count": 70,
   "metadata": {
    "id": "aSI5az2CeXp_"
   },
   "outputs": [],
   "source": []
  },
  {
   "cell_type": "code",
   "execution_count": 71,
   "metadata": {
    "id": "-XAntxSneXj6"
   },
   "outputs": [],
   "source": [
    "#adding a column with the Timeliness computation\n",
    "#if Volatility is greater than Currency the Timeliness is equal to 1 - Currency / Volatility, otherwise is 0\n"
   ]
  },
  {
   "cell_type": "code",
   "execution_count": 72,
   "metadata": {
    "id": "h6mTJhd5eXc2"
   },
   "outputs": [],
   "source": [
    "#print(\"Average Timeliness: \", PROPERTY['Timeliness'].mean())\n",
    "#print(\"Maximum  Timeliness:\", PROPERTY['Timeliness'].max())\n",
    "#print(\"Minimum Timeliness:\", PROPERTY['Timeliness'].min())"
   ]
  },
  {
   "cell_type": "markdown",
   "metadata": {
    "id": "oNlzANFYeh1f"
   },
   "source": [
    "**CONSISTENCY**\n",
    "\n",
    "The consistency dimension captures the violation of semantic rules defined over (a set of) data items, where items can be tuples of relational tables or records in a file.\n",
    "\n",
    "Semantic rules can be integrity constaints, data edits or business rules.\n",
    "\n",
    "*Definition*: The satisfaction of semantic rules defined over a set of data items.\n",
    "\n",
    "*Evaluation*: Number of consistent tuples / Total number of tuples"
   ]
  },
  {
   "cell_type": "code",
   "execution_count": 73,
   "metadata": {
    "id": "wYK_y-BpesXx"
   },
   "outputs": [],
   "source": [
    "PROPERTY = pd.read_csv('https://raw.githubusercontent.com/camillasancricca/DATADIQ/master/PROPERTY.csv')"
   ]
  },
  {
   "cell_type": "code",
   "execution_count": 74,
   "metadata": {
    "id": "LxyyvXN_sgir"
   },
   "outputs": [],
   "source": [
    "#we define a rule that the number of bathrooms should be lower than the number of bedrooms\n",
    "#we add the column consistency\n",
    "#we assign the value 1 if the rule is satisfied, 0 otherwise\n"
   ]
  },
  {
   "cell_type": "code",
   "execution_count": 75,
   "metadata": {
    "id": "c-PhvPOwewRJ"
   },
   "outputs": [],
   "source": [
    "#count the number of consistent tuples considering the rule\n"
   ]
  },
  {
   "cell_type": "code",
   "execution_count": 76,
   "metadata": {
    "id": "Jgwrx5UuewDB"
   },
   "outputs": [],
   "source": [
    "#count the total number of tuples in the property dataset\n"
   ]
  },
  {
   "cell_type": "markdown",
   "metadata": {
    "id": "F1gbRmuke2m6"
   },
   "source": [
    "CONSISTENCY EVALUATION:"
   ]
  },
  {
   "cell_type": "code",
   "execution_count": 76,
   "metadata": {
    "id": "0nDfo7A9e1Nf"
   },
   "outputs": [],
   "source": []
  }
 ],
 "metadata": {
  "colab": {
   "provenance": []
  },
  "kernelspec": {
   "display_name": ".venv",
   "language": "python",
   "name": "python3"
  },
  "language_info": {
   "codemirror_mode": {
    "name": "ipython",
    "version": 3
   },
   "file_extension": ".py",
   "mimetype": "text/x-python",
   "name": "python",
   "nbconvert_exporter": "python",
   "pygments_lexer": "ipython3",
   "version": "3.11.2"
  }
 },
 "nbformat": 4,
 "nbformat_minor": 0
}
